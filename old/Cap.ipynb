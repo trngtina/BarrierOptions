{
 "cells": [
  {
   "cell_type": "markdown",
   "id": "1c6e4138",
   "metadata": {},
   "source": [
    "# C2. Barrier Option in Libor Market Model \n",
    "# Barrier cap/floor"
   ]
  },
  {
   "cell_type": "markdown",
   "id": "afaaa0eb",
   "metadata": {},
   "source": [
    "## Barrier Caplet Pricing Algorithms\n",
    "Compare:\n",
    "1. Analytic closed‑form (\\~V)  \n",
    "2. Algorithm 2.1 (weak 1, kick‑back)  \n",
    "3. Algorithm 2.2 (weak ½, no VR)  \n",
    "=> Sensitivity analysis\n",
    "4. Algorithm 2.2 with variance reduction"
   ]
  },
  {
   "cell_type": "markdown",
   "id": "f0418043",
   "metadata": {},
   "source": [
    "$$\n",
    "V_{\\mathrm{caplet}}(t)\n",
    "= \\delta \\, P\\bigl(t,\\,T_{i+1}\\bigr)\n",
    "\\;\\mathbb{E}^{\\mathbb{Q}^{T_{i+1}}}\n",
    "\\Bigl[\\bigl(L^i(T_i)-K\\bigr)_+\\;\\chi\\{\\theta>T_i\\}\\,\\bigm|\\;\\mathcal{F}_t\\Bigr]\n",
    "$$"
   ]
  },
  {
   "cell_type": "markdown",
   "id": "a3b573f2",
   "metadata": {},
   "source": [
    "#### Imports"
   ]
  },
  {
   "cell_type": "code",
   "execution_count": 1,
   "id": "92dbca84",
   "metadata": {},
   "outputs": [
    {
     "name": "stdout",
     "output_type": "stream",
     "text": [
      "Requirement already satisfied: matplotlib in ./.conda/lib/python3.11/site-packages (3.10.1)\n",
      "Requirement already satisfied: pandas in ./.conda/lib/python3.11/site-packages (2.2.3)\n",
      "Requirement already satisfied: plotly in ./.conda/lib/python3.11/site-packages (6.0.1)\n",
      "Requirement already satisfied: seaborn in ./.conda/lib/python3.11/site-packages (0.13.2)\n",
      "Requirement already satisfied: contourpy>=1.0.1 in ./.conda/lib/python3.11/site-packages (from matplotlib) (1.3.2)\n",
      "Requirement already satisfied: cycler>=0.10 in ./.conda/lib/python3.11/site-packages (from matplotlib) (0.12.1)\n",
      "Requirement already satisfied: fonttools>=4.22.0 in ./.conda/lib/python3.11/site-packages (from matplotlib) (4.57.0)\n",
      "Requirement already satisfied: kiwisolver>=1.3.1 in ./.conda/lib/python3.11/site-packages (from matplotlib) (1.4.8)\n",
      "Requirement already satisfied: numpy>=1.23 in ./.conda/lib/python3.11/site-packages (from matplotlib) (2.2.5)\n",
      "Requirement already satisfied: packaging>=20.0 in ./.conda/lib/python3.11/site-packages (from matplotlib) (25.0)\n",
      "Requirement already satisfied: pillow>=8 in ./.conda/lib/python3.11/site-packages (from matplotlib) (11.2.1)\n",
      "Requirement already satisfied: pyparsing>=2.3.1 in ./.conda/lib/python3.11/site-packages (from matplotlib) (3.2.3)\n",
      "Requirement already satisfied: python-dateutil>=2.7 in ./.conda/lib/python3.11/site-packages (from matplotlib) (2.9.0.post0)\n",
      "Requirement already satisfied: pytz>=2020.1 in ./.conda/lib/python3.11/site-packages (from pandas) (2025.2)\n",
      "Requirement already satisfied: tzdata>=2022.7 in ./.conda/lib/python3.11/site-packages (from pandas) (2025.2)\n",
      "Requirement already satisfied: narwhals>=1.15.1 in ./.conda/lib/python3.11/site-packages (from plotly) (1.36.0)\n",
      "Requirement already satisfied: six>=1.5 in ./.conda/lib/python3.11/site-packages (from python-dateutil>=2.7->matplotlib) (1.17.0)\n"
     ]
    }
   ],
   "source": [
    "!pip install matplotlib pandas plotly seaborn"
   ]
  },
  {
   "cell_type": "code",
   "execution_count": 2,
   "id": "0432d4ce",
   "metadata": {},
   "outputs": [],
   "source": [
    "import numpy as np\n",
    "import matplotlib.pyplot as plt\n",
    "from scipy.stats import norm\n",
    "import pandas as pd\n",
    "import plotly.graph_objects as go\n",
    "from tqdm import tqdm\n",
    "from scipy.stats import norm\n",
    "from plotly.subplots import make_subplots\n",
    "import seaborn as sns\n",
    "import matplotlib.colors as mcolors\n",
    "import copy"
   ]
  },
  {
   "cell_type": "code",
   "execution_count": 3,
   "id": "bcbf5e52",
   "metadata": {},
   "outputs": [],
   "source": [
    "L0, H, K = 0.13, 0.28, 0.01\n",
    "sigma, T = 0.25, 9.0\n",
    "N_paths = 300000\n",
    "h_list  = [0.25, 0.125, 0.0625, 0.03125, 0.015625] #[0.25, 0.125, 0.0625]"
   ]
  },
  {
   "cell_type": "markdown",
   "id": "ad31bb19",
   "metadata": {},
   "source": [
    "## Analytic closed‑form "
   ]
  },
  {
   "cell_type": "code",
   "execution_count": 4,
   "id": "7228215c",
   "metadata": {},
   "outputs": [],
   "source": [
    "def analytic_vtilde_caplet(L, H, K, sigma, tau):\n",
    "    v = sigma * np.sqrt(tau)\n",
    "    def d_plus(x):  return (np.log(x) + 0.5*v**2)/v\n",
    "    def d_minus(x): return (np.log(x) - 0.5*v**2)/v\n",
    "\n",
    "    term1 = L*(norm.cdf(d_plus(L/K)) - norm.cdf(d_plus(L/H)))\n",
    "    term2 = -K*(norm.cdf(d_minus(L/K)) - norm.cdf(d_minus(L/H)))\n",
    "    term3 = -H*(norm.cdf(d_plus(H*H/(K*L))) - norm.cdf(d_plus(H/L)))\n",
    "    term4 = K*L/H*(norm.cdf(d_minus(H*H/(K*L))) - norm.cdf(d_minus(H/L)))\n",
    "    return term1 + term2 + term3 + term4"
   ]
  },
  {
   "cell_type": "code",
   "execution_count": 5,
   "id": "1873f21f",
   "metadata": {},
   "outputs": [
    {
     "data": {
      "text/plain": [
       "np.float64(0.06571345192162645)"
      ]
     },
     "execution_count": 5,
     "metadata": {},
     "output_type": "execute_result"
    }
   ],
   "source": [
    "exact = analytic_vtilde_caplet(L0, H, K, sigma, T)\n",
    "exact"
   ]
  },
  {
   "cell_type": "markdown",
   "id": "908060e2",
   "metadata": {},
   "source": [
    "# Algorithm 2.1 – weak order 1 with kick‑back reflection"
   ]
  },
  {
   "cell_type": "code",
   "execution_count": 6,
   "id": "8307a0d1",
   "metadata": {},
   "outputs": [],
   "source": [
    "def simulate_algo1(L0, H, K, sigma, T, h, N_paths, seed=42):\n",
    "    \"\"\"\n",
    "    Algorithm 2.1 (weak 1, kick‐back reflection).\n",
    "    Returns (price, stderr, mean_exit_time).\n",
    "    \"\"\"\n",
    "    rng = np.random.default_rng(seed)\n",
    "    M = int(np.ceil(T / h))\n",
    "    lnH = np.log(H)\n",
    "    sqrt_h = np.sqrt(h)\n",
    "    half_sigma2_h = 0.5 * sigma**2 * h\n",
    "    # λ√h from (4.12)\n",
    "    lambda_sqrt_h = -half_sigma2_h + sigma*sqrt_h\n",
    "\n",
    "    payoffs = np.zeros(N_paths)\n",
    "    exit_steps = np.zeros(N_paths, dtype=int)\n",
    "\n",
    "    for i in tqdm(range(N_paths), desc=\"MC paths\"):\n",
    "        lnL = np.log(L0)\n",
    "        for k in range(M):\n",
    "            if lnL >= lnH + half_sigma2_h - sigma*sqrt_h:\n",
    "                # in boundary zone\n",
    "                delta = lnH - lnL\n",
    "                p = lambda_sqrt_h / (delta + lambda_sqrt_h)\n",
    "                if rng.random() < p:\n",
    "                    # knock‐out at barrier\n",
    "                    exit_steps[i] = k\n",
    "                    lnL = lnH\n",
    "                    break\n",
    "                else:\n",
    "                    # kick back in\n",
    "                    lnL -= lambda_sqrt_h\n",
    "                    xi = 1 if rng.random() < 0.5 else -1\n",
    "                    lnL += -half_sigma2_h + sigma*sqrt_h*xi\n",
    "            else:\n",
    "                # usual Euler step\n",
    "                xi = 1 if rng.random() < 0.5 else -1\n",
    "                lnL += -half_sigma2_h + sigma*sqrt_h*xi\n",
    "        else:\n",
    "            # survived to maturity\n",
    "            exit_steps[i] = M\n",
    "            payoffs[i] = max(np.exp(lnL) - K, 0.0)\n",
    "\n",
    "    price = payoffs.mean()\n",
    "    stderr = payoffs.std(ddof=1) / np.sqrt(N_paths)\n",
    "    mean_exit_time = exit_steps.mean() * h\n",
    "    return price, stderr, mean_exit_time"
   ]
  },
  {
   "cell_type": "code",
   "execution_count": 7,
   "id": "f272a8bc",
   "metadata": {},
   "outputs": [
    {
     "name": "stderr",
     "output_type": "stream",
     "text": [
      "MC paths: 100%|██████████| 300000/300000 [00:11<00:00, 26854.09it/s]\n",
      "MC paths:  19%|█▉        | 56261/300000 [00:04<00:18, 13248.15it/s]\n"
     ]
    },
    {
     "ename": "KeyboardInterrupt",
     "evalue": "",
     "output_type": "error",
     "traceback": [
      "\u001b[31m---------------------------------------------------------------------------\u001b[39m",
      "\u001b[31mKeyboardInterrupt\u001b[39m                         Traceback (most recent call last)",
      "\u001b[36mCell\u001b[39m\u001b[36m \u001b[39m\u001b[32mIn[7]\u001b[39m\u001b[32m, line 4\u001b[39m\n\u001b[32m      1\u001b[39m results_algo1 = []\n\u001b[32m      3\u001b[39m \u001b[38;5;28;01mfor\u001b[39;00m h \u001b[38;5;129;01min\u001b[39;00m h_list:\n\u001b[32m----> \u001b[39m\u001b[32m4\u001b[39m     p, se, _   = \u001b[43msimulate_algo1\u001b[49m\u001b[43m(\u001b[49m\u001b[43mL0\u001b[49m\u001b[43m,\u001b[49m\u001b[43m \u001b[49m\u001b[43mH\u001b[49m\u001b[43m,\u001b[49m\u001b[43m \u001b[49m\u001b[43mK\u001b[49m\u001b[43m,\u001b[49m\u001b[43m \u001b[49m\u001b[43msigma\u001b[49m\u001b[43m,\u001b[49m\u001b[43m \u001b[49m\u001b[43mT\u001b[49m\u001b[43m,\u001b[49m\u001b[43m \u001b[49m\u001b[43mh\u001b[49m\u001b[43m,\u001b[49m\u001b[43m \u001b[49m\u001b[43mN_paths\u001b[49m\u001b[43m)\u001b[49m\n\u001b[32m      5\u001b[39m     results_algo1.append({\n\u001b[32m      6\u001b[39m         \u001b[33m'\u001b[39m\u001b[33mh\u001b[39m\u001b[33m'\u001b[39m: h,\n\u001b[32m      7\u001b[39m         \u001b[33m'\u001b[39m\u001b[33mPrice\u001b[39m\u001b[33m'\u001b[39m: p,\n\u001b[32m      8\u001b[39m         \u001b[33m'\u001b[39m\u001b[33mCI\u001b[39m\u001b[33m'\u001b[39m: \u001b[32m1.96\u001b[39m*se\n\u001b[32m      9\u001b[39m     })\n\u001b[32m     11\u001b[39m results_algo1\n",
      "\u001b[36mCell\u001b[39m\u001b[36m \u001b[39m\u001b[32mIn[6]\u001b[39m\u001b[32m, line 36\u001b[39m, in \u001b[36msimulate_algo1\u001b[39m\u001b[34m(L0, H, K, sigma, T, h, N_paths, seed)\u001b[39m\n\u001b[32m     33\u001b[39m             lnL += -half_sigma2_h + sigma*sqrt_h*xi\n\u001b[32m     34\u001b[39m     \u001b[38;5;28;01melse\u001b[39;00m:\n\u001b[32m     35\u001b[39m         \u001b[38;5;66;03m# usual Euler step\u001b[39;00m\n\u001b[32m---> \u001b[39m\u001b[32m36\u001b[39m         xi = \u001b[32m1\u001b[39m \u001b[38;5;28;01mif\u001b[39;00m \u001b[43mrng\u001b[49m\u001b[43m.\u001b[49m\u001b[43mrandom\u001b[49m\u001b[43m(\u001b[49m\u001b[43m)\u001b[49m < \u001b[32m0.5\u001b[39m \u001b[38;5;28;01melse\u001b[39;00m -\u001b[32m1\u001b[39m\n\u001b[32m     37\u001b[39m         lnL += -half_sigma2_h + sigma*sqrt_h*xi\n\u001b[32m     38\u001b[39m \u001b[38;5;28;01melse\u001b[39;00m:\n\u001b[32m     39\u001b[39m     \u001b[38;5;66;03m# survived to maturity\u001b[39;00m\n",
      "\u001b[31mKeyboardInterrupt\u001b[39m: "
     ]
    }
   ],
   "source": [
    "results_algo1 = []\n",
    "\n",
    "for h in h_list:\n",
    "    p, se, _   = simulate_algo1(L0, H, K, sigma, T, h, N_paths)\n",
    "    results_algo1.append({\n",
    "        'h': h,\n",
    "        'Price': p,\n",
    "        'CI': 1.96*se\n",
    "    })\n",
    "\n",
    "results_algo1"
   ]
  },
  {
   "cell_type": "markdown",
   "id": "8e1ee565",
   "metadata": {},
   "source": [
    "## Algorithm 2.2 – weak order 1/2, absorbing barrier (no VR)"
   ]
  },
  {
   "cell_type": "code",
   "execution_count": null,
   "id": "6ac9122b",
   "metadata": {},
   "outputs": [],
   "source": [
    "def simulate_algo2(L0, H, K, sigma, T, h, N_paths, seed=42):\n",
    "    rng = np.random.default_rng(seed)\n",
    "    M = int(np.ceil(T/h))\n",
    "    lnH, sqrt_h = np.log(H), np.sqrt(h)\n",
    "    half_sig2h = 0.5 * sigma**2 * h\n",
    "    payoffs = np.zeros(N_paths)\n",
    "    for i in tqdm(range(N_paths), desc=\"MC paths\"):\n",
    "        lnL = np.log(L0)\n",
    "        for k in range(M):\n",
    "            if lnL >= lnH + half_sig2h - sigma*sqrt_h:\n",
    "                break\n",
    "            xi = 1 if rng.random() < 0.5 else -1\n",
    "            lnL += -half_sig2h + sigma*sqrt_h*xi\n",
    "        payoffs[i] = max(np.exp(lnL)-K, 0.0) if k == M-1 else 0.0\n",
    "    price, stderr = payoffs.mean(), payoffs.std(ddof=1)/np.sqrt(N_paths)\n",
    "    return price, stderr"
   ]
  },
  {
   "cell_type": "code",
   "execution_count": null,
   "id": "f47e2525",
   "metadata": {},
   "outputs": [
    {
     "name": "stderr",
     "output_type": "stream",
     "text": [
      "MC paths: 100%|██████████| 300000/300000 [00:11<00:00, 25877.36it/s]\n",
      "MC paths: 100%|██████████| 300000/300000 [00:20<00:00, 14590.04it/s]\n",
      "MC paths: 100%|██████████| 300000/300000 [00:42<00:00, 7115.82it/s]\n",
      "MC paths: 100%|██████████| 300000/300000 [01:23<00:00, 3612.90it/s]\n",
      "MC paths: 100%|██████████| 300000/300000 [02:47<00:00, 1792.85it/s]\n"
     ]
    },
    {
     "data": {
      "text/plain": [
       "[{'h': 0.25,\n",
       "  'Price': np.float64(0.06257531070865202),\n",
       "  'CI': np.float64(0.00020400285018166406)},\n",
       " {'h': 0.125,\n",
       "  'Price': np.float64(0.06299697305907437),\n",
       "  'CI': np.float64(0.00020131107854003962)},\n",
       " {'h': 0.0625,\n",
       "  'Price': np.float64(0.06321458719352833),\n",
       "  'CI': np.float64(0.00019953209213402877)},\n",
       " {'h': 0.03125,\n",
       "  'Price': np.float64(0.06410563900060298),\n",
       "  'CI': np.float64(0.00020093403136147898)},\n",
       " {'h': 0.015625,\n",
       "  'Price': np.float64(0.06450418164996352),\n",
       "  'CI': np.float64(0.0002018366595446813)}]"
      ]
     },
     "execution_count": 9,
     "metadata": {},
     "output_type": "execute_result"
    }
   ],
   "source": [
    "results_algo2 = []\n",
    "\n",
    "for h in h_list:\n",
    "    p, se = simulate_algo2(L0, H, K, sigma, T, h, N_paths)\n",
    "    results_algo2.append({\n",
    "        'h': h,\n",
    "        'Price': p,\n",
    "        'CI': 1.96*se\n",
    "    })\n",
    "\n",
    "results_algo2"
   ]
  },
  {
   "cell_type": "code",
   "execution_count": null,
   "id": "a09ce370",
   "metadata": {},
   "outputs": [
    {
     "ename": "ValueError",
     "evalue": "Mime type rendering requires nbformat>=4.2.0 but it is not installed",
     "output_type": "error",
     "traceback": [
      "\u001b[31m---------------------------------------------------------------------------\u001b[39m",
      "\u001b[31mValueError\u001b[39m                                Traceback (most recent call last)",
      "\u001b[36mCell\u001b[39m\u001b[36m \u001b[39m\u001b[32mIn[10]\u001b[39m\u001b[32m, line 47\u001b[39m\n\u001b[32m     22\u001b[39m fig.add_trace(go.Scatter(\n\u001b[32m     23\u001b[39m     x=[d[\u001b[33m'\u001b[39m\u001b[33mh\u001b[39m\u001b[33m'\u001b[39m] \u001b[38;5;28;01mfor\u001b[39;00m d \u001b[38;5;129;01min\u001b[39;00m results_algo2],   \u001b[38;5;66;03m# or use a combined h-list like [0.25,0.125,0.0625]\u001b[39;00m\n\u001b[32m     24\u001b[39m     y=[exact]*\u001b[38;5;28mlen\u001b[39m(results_algo2),\n\u001b[32m   (...)\u001b[39m\u001b[32m     27\u001b[39m     name=\u001b[33m'\u001b[39m\u001b[33mExact\u001b[39m\u001b[33m'\u001b[39m\n\u001b[32m     28\u001b[39m ))\n\u001b[32m     30\u001b[39m fig.update_layout(\n\u001b[32m     31\u001b[39m     template=\u001b[33m\"\u001b[39m\u001b[33msimple_white\u001b[39m\u001b[33m\"\u001b[39m,\n\u001b[32m     32\u001b[39m     title={\n\u001b[32m   (...)\u001b[39m\u001b[32m     44\u001b[39m     }\n\u001b[32m     45\u001b[39m )\n\u001b[32m---> \u001b[39m\u001b[32m47\u001b[39m \u001b[43mfig\u001b[49m\u001b[43m.\u001b[49m\u001b[43mshow\u001b[49m\u001b[43m(\u001b[49m\u001b[43m)\u001b[49m\n",
      "\u001b[36mFile \u001b[39m\u001b[32m~/Documents/GitHub/BarrierOptions/.conda/lib/python3.11/site-packages/plotly/basedatatypes.py:3414\u001b[39m, in \u001b[36mBaseFigure.show\u001b[39m\u001b[34m(self, *args, **kwargs)\u001b[39m\n\u001b[32m   3381\u001b[39m \u001b[38;5;250m\u001b[39m\u001b[33;03m\"\"\"\u001b[39;00m\n\u001b[32m   3382\u001b[39m \u001b[33;03mShow a figure using either the default renderer(s) or the renderer(s)\u001b[39;00m\n\u001b[32m   3383\u001b[39m \u001b[33;03mspecified by the renderer argument\u001b[39;00m\n\u001b[32m   (...)\u001b[39m\u001b[32m   3410\u001b[39m \u001b[33;03mNone\u001b[39;00m\n\u001b[32m   3411\u001b[39m \u001b[33;03m\"\"\"\u001b[39;00m\n\u001b[32m   3412\u001b[39m \u001b[38;5;28;01mimport\u001b[39;00m\u001b[38;5;250m \u001b[39m\u001b[34;01mplotly\u001b[39;00m\u001b[34;01m.\u001b[39;00m\u001b[34;01mio\u001b[39;00m\u001b[38;5;250m \u001b[39m\u001b[38;5;28;01mas\u001b[39;00m\u001b[38;5;250m \u001b[39m\u001b[34;01mpio\u001b[39;00m\n\u001b[32m-> \u001b[39m\u001b[32m3414\u001b[39m \u001b[38;5;28;01mreturn\u001b[39;00m \u001b[43mpio\u001b[49m\u001b[43m.\u001b[49m\u001b[43mshow\u001b[49m\u001b[43m(\u001b[49m\u001b[38;5;28;43mself\u001b[39;49m\u001b[43m,\u001b[49m\u001b[43m \u001b[49m\u001b[43m*\u001b[49m\u001b[43margs\u001b[49m\u001b[43m,\u001b[49m\u001b[43m \u001b[49m\u001b[43m*\u001b[49m\u001b[43m*\u001b[49m\u001b[43mkwargs\u001b[49m\u001b[43m)\u001b[49m\n",
      "\u001b[36mFile \u001b[39m\u001b[32m~/Documents/GitHub/BarrierOptions/.conda/lib/python3.11/site-packages/plotly/io/_renderers.py:425\u001b[39m, in \u001b[36mshow\u001b[39m\u001b[34m(fig, renderer, validate, **kwargs)\u001b[39m\n\u001b[32m    420\u001b[39m     \u001b[38;5;28;01mraise\u001b[39;00m \u001b[38;5;167;01mValueError\u001b[39;00m(\n\u001b[32m    421\u001b[39m         \u001b[33m\"\u001b[39m\u001b[33mMime type rendering requires ipython but it is not installed\u001b[39m\u001b[33m\"\u001b[39m\n\u001b[32m    422\u001b[39m     )\n\u001b[32m    424\u001b[39m \u001b[38;5;28;01mif\u001b[39;00m \u001b[38;5;129;01mnot\u001b[39;00m nbformat \u001b[38;5;129;01mor\u001b[39;00m Version(nbformat.__version__) < Version(\u001b[33m\"\u001b[39m\u001b[33m4.2.0\u001b[39m\u001b[33m\"\u001b[39m):\n\u001b[32m--> \u001b[39m\u001b[32m425\u001b[39m     \u001b[38;5;28;01mraise\u001b[39;00m \u001b[38;5;167;01mValueError\u001b[39;00m(\n\u001b[32m    426\u001b[39m         \u001b[33m\"\u001b[39m\u001b[33mMime type rendering requires nbformat>=4.2.0 but it is not installed\u001b[39m\u001b[33m\"\u001b[39m\n\u001b[32m    427\u001b[39m     )\n\u001b[32m    429\u001b[39m display_jupyter_version_warnings()\n\u001b[32m    431\u001b[39m ipython_display.display(bundle, raw=\u001b[38;5;28;01mTrue\u001b[39;00m)\n",
      "\u001b[31mValueError\u001b[39m: Mime type rendering requires nbformat>=4.2.0 but it is not installed"
     ]
    }
   ],
   "source": [
    "# Prepare figure\n",
    "fig = go.Figure()\n",
    "\n",
    "# Add trace for Algorithm 1\n",
    "fig.add_trace(go.Scatter(\n",
    "    x=[d['h'] for d in results_algo1],\n",
    "    y=[d['Price'] for d in results_algo1],\n",
    "    mode='lines+markers',\n",
    "    error_y=dict(type='data', array=[d['CI'] for d in results_algo1], visible=True),\n",
    "    name='Algorithm 1 - weak order 1 <br> with kick-back reflection'\n",
    "))\n",
    "\n",
    "# Add trace for Algorithm 2\n",
    "fig.add_trace(go.Scatter(\n",
    "    x=[d['h'] for d in results_algo2],\n",
    "    y=[d['Price'] for d in results_algo2],\n",
    "    mode='lines+markers',\n",
    "    error_y=dict(type='data', array=[d['CI'] for d in results_algo2], visible=True),\n",
    "    name='Algorithm 2 - weak order 1/2 <br> with absorbing barrier'\n",
    "))\n",
    "\n",
    "fig.add_trace(go.Scatter(\n",
    "    x=[d['h'] for d in results_algo2],   # or use a combined h-list like [0.25,0.125,0.0625]\n",
    "    y=[exact]*len(results_algo2),\n",
    "    mode='lines',\n",
    "    line=dict(dash='dot', color='black'),\n",
    "    name='Exact'\n",
    "))\n",
    "\n",
    "fig.update_layout(\n",
    "    template=\"simple_white\",\n",
    "    title={\n",
    "        \"text\": (\n",
    "            # main title in default size:\n",
    "            \"Caplet price from Algorithm 1 vs Algorithm 2 with varying step size<br>\"\n",
    "            # parameters in a smaller span (e.g. 12px):\n",
    "            f\"<span style='font-size:12px;'>\"\n",
    "            f\"L0={L0}, H={H}, K={K}, σ={sigma}, T={T}, \"\n",
    "            f\"N_paths={N_paths}\"\n",
    "            \"</span>\"\n",
    "        ),\n",
    "        \"x\": 0.5,\n",
    "        \"xanchor\": \"center\"\n",
    "    }\n",
    ")\n",
    "\n",
    "fig.show()"
   ]
  },
  {
   "cell_type": "markdown",
   "id": "d07b1b24",
   "metadata": {},
   "source": [
    "From the plot above, it’s evident that Algorithm 1 (kick-back reflection) vastly outperforms Algorithm 2 (absorbing barrier). Even at the coarsest time step (h=0.25), Algorithm 1’s estimates lie almost exactly on the true caplet price (dotted line) and its confidence intervals remain uniformly small, reflecting its higher weak order and stability. By contrast, Algorithm 2 is heavily biased downward—starting near 0.0645—and only inches toward the exact value as h decreases. \n",
    "\n",
    "The familiar oscillatory pattern of the binary-tree scheme is visible in Algorithm 1’s curve but fades as the mesh is refined, whereas Algorithm 2’s convergence is monotonic yet slow. \n",
    "\n",
    "**In short, Algorithm 1 delivers superior accuracy and greater efficiency; Algorithm 2 requires prohibitively small steps to even approach the correct price.**"
   ]
  },
  {
   "cell_type": "markdown",
   "id": "2fa3f89b",
   "metadata": {},
   "source": [
    "## Sensitivity analysis\n",
    "Impact of changing L0, H, K, σ, T - one parameter at a time"
   ]
  },
  {
   "cell_type": "code",
   "execution_count": null,
   "id": "06221995",
   "metadata": {},
   "outputs": [],
   "source": [
    "## Normal color\n",
    "# get the default Seaborn palette (first color is blue)\n",
    "blue_rgb = sns.color_palette()[0]\n",
    "\n",
    "# convert (r,g,b) floats → hex string\n",
    "blue_hex = mcolors.to_hex(blue_rgb)\n",
    "\n",
    "orange_rgb = sns.color_palette()[1]\n",
    "orange_hex = mcolors.to_hex(orange_rgb)\n",
    "\n",
    "def lighten_color(hex_color, amount=0.5):\n",
    "    \"\"\"\n",
    "    Lighten a given color by mixing it with white.\n",
    "    amount=0   → original color\n",
    "    amount=1   → white\n",
    "    \"\"\"\n",
    "    # convert hex to (r, g, b)\n",
    "    r, g, b = mcolors.to_rgb(hex_color)\n",
    "    # blend each channel toward 1 (white)\n",
    "    r_l = r + (1 - r) * amount\n",
    "    g_l = g + (1 - g) * amount\n",
    "    b_l = b + (1 - b) * amount\n",
    "    return mcolors.to_hex((r_l, g_l, b_l))\n",
    "\n",
    "## Lighten\n",
    "blue_pastel_hex = lighten_color(blue_hex, amount=0.4)\n",
    "orange_pastel_hex = lighten_color(orange_hex, amount=0.4)\n"
   ]
  },
  {
   "cell_type": "code",
   "execution_count": null,
   "id": "c1a611e6",
   "metadata": {},
   "outputs": [],
   "source": [
    "N_paths = 30_000\n",
    "h_list = [0.25, 0.0625, 0.015625]\n",
    "\n",
    "# perturbed values (one at a time)\n",
    "L0, H, K = 0.13, 0.28, 0.01\n",
    "sigma, T = 0.25, 9.0\n",
    "L0_, H_, K_ = 0.08, 0.20, 0.005\n",
    "sigma_, T_ = 0.30, 7.0"
   ]
  },
  {
   "cell_type": "code",
   "execution_count": null,
   "id": "2cce269e",
   "metadata": {},
   "outputs": [
    {
     "name": "stdout",
     "output_type": "stream",
     "text": [
      "0.25 \n",
      "\n"
     ]
    },
    {
     "name": "stderr",
     "output_type": "stream",
     "text": [
      "MC paths: 100%|██████████| 30000/30000 [00:00<00:00, 60088.91it/s]\n",
      "MC paths: 100%|██████████| 30000/30000 [00:00<00:00, 46305.56it/s]\n",
      "MC paths: 100%|██████████| 30000/30000 [00:00<00:00, 59742.05it/s]\n",
      "MC paths: 100%|██████████| 30000/30000 [00:00<00:00, 51163.36it/s]\n"
     ]
    },
    {
     "name": "stdout",
     "output_type": "stream",
     "text": [
      "0.0625 \n",
      "\n"
     ]
    },
    {
     "name": "stderr",
     "output_type": "stream",
     "text": [
      "MC paths: 100%|██████████| 30000/30000 [00:01<00:00, 15216.77it/s]\n",
      "MC paths: 100%|██████████| 30000/30000 [00:02<00:00, 10635.61it/s]\n",
      "MC paths: 100%|██████████| 30000/30000 [00:01<00:00, 17347.49it/s]\n",
      "MC paths: 100%|██████████| 30000/30000 [00:01<00:00, 15483.52it/s]\n"
     ]
    },
    {
     "name": "stdout",
     "output_type": "stream",
     "text": [
      "0.015625 \n",
      "\n"
     ]
    },
    {
     "name": "stderr",
     "output_type": "stream",
     "text": [
      "MC paths: 100%|██████████| 30000/30000 [00:07<00:00, 3791.81it/s]\n",
      "MC paths: 100%|██████████| 30000/30000 [00:08<00:00, 3507.76it/s]\n",
      "MC paths: 100%|██████████| 30000/30000 [00:07<00:00, 3945.10it/s]\n",
      "MC paths: 100%|██████████| 30000/30000 [00:07<00:00, 3825.11it/s]\n"
     ]
    }
   ],
   "source": [
    "results_algo2 = []\n",
    "results_algo2_ = []\n",
    "results_algo1 = []\n",
    "results_algo1_ = []\n",
    "\n",
    "for h in h_list:\n",
    "    print(h, \"\\n\")\n",
    "    p, se = simulate_algo2(L0, H, K, sigma, T, h, N_paths)\n",
    "    results_algo2.append({\n",
    "        'h': h,\n",
    "        'Price': p,\n",
    "        'CI': 1.96*se\n",
    "    })\n",
    "    p, se = simulate_algo2(L0_, H, K, sigma, T, h, N_paths)\n",
    "    results_algo2_.append({\n",
    "        'h': h,\n",
    "        'Price': p,\n",
    "        'CI': 1.96*se\n",
    "    })\n",
    "    p, se, _ = simulate_algo1(L0, H, K, sigma, T, h, N_paths)\n",
    "    results_algo1.append({\n",
    "        'h': h,\n",
    "        'Price': p,\n",
    "        'CI': 1.96*se\n",
    "    })\n",
    "    p, se, _ = simulate_algo1(L0_, H, K, sigma, T, h, N_paths)\n",
    "    results_algo1_.append({\n",
    "        'h': h,\n",
    "        'Price': p,\n",
    "        'CI': 1.96*se\n",
    "    })\n",
    "\n",
    "exact = analytic_vtilde_caplet(L0, H, K, sigma, T)\n",
    "exact_ = analytic_vtilde_caplet(L0_, H, K, sigma, T)"
   ]
  },
  {
   "cell_type": "code",
   "execution_count": null,
   "id": "52316b40",
   "metadata": {},
   "outputs": [
    {
     "data": {
      "application/vnd.plotly.v1+json": {
       "config": {
        "plotlyServerURL": "https://plot.ly"
       },
       "data": [
        {
         "line": {
          "color": "black",
          "dash": "dot"
         },
         "mode": "lines",
         "name": "Exact baseline",
         "type": "scatter",
         "x": [
          0.25,
          0.0625,
          0.015625
         ],
         "y": [
          0.06571345192162645,
          0.06571345192162645,
          0.06571345192162645
         ]
        },
        {
         "error_y": {
          "array": [
           0.0006563467732479112,
           0.0006462761870394063,
           0.0006414218151633553
          ],
          "type": "data",
          "visible": true
         },
         "line": {
          "color": "#1f77b4"
         },
         "marker": {
          "color": "#1f77b4"
         },
         "mode": "lines+markers",
         "name": "Algorithm 1 - baseline",
         "type": "scatter",
         "x": [
          0.25,
          0.0625,
          0.015625
         ],
         "y": [
          0.06650476173349915,
          0.06630887582431211,
          0.06577166866192702
         ]
        },
        {
         "error_y": {
          "array": [
           0.0006443732558281153,
           0.0006309801610719295,
           0.0006380251625898367
          ],
          "type": "data",
          "visible": true
         },
         "line": {
          "color": "#ff7f0e"
         },
         "marker": {
          "color": "#ff7f0e"
         },
         "mode": "lines+markers",
         "name": "Algorithm 2 - baseline",
         "type": "scatter",
         "x": [
          0.25,
          0.0625,
          0.015625
         ],
         "y": [
          0.06258293015236856,
          0.06309999366852337,
          0.0645385281412933
         ]
        },
        {
         "line": {
          "color": "black",
          "dash": "dot"
         },
         "mode": "lines",
         "name": "Exact perturbed",
         "type": "scatter",
         "x": [
          0.25,
          0.0625,
          0.015625
         ],
         "y": [
          0.056976810789746264,
          0.056976810789746264,
          0.056976810789746264
         ]
        },
        {
         "error_y": {
          "array": [
           0.0005418184488781779,
           0.0005367533995496382,
           0.0005347365512411426
          ],
          "type": "data",
          "visible": true
         },
         "line": {
          "color": "#79add2"
         },
         "marker": {
          "color": "#79add2"
         },
         "mode": "lines+markers",
         "name": "Algorithm 1 - perturbed",
         "type": "scatter",
         "x": [
          0.25,
          0.0625,
          0.015625
         ],
         "y": [
          0.057438201820747985,
          0.05734530835522996,
          0.05748828360337709
         ]
        },
        {
         "error_y": {
          "array": [
           0.0005356970373664239,
           0.0005316426344667629,
           0.000529283282303995
          ],
          "type": "data",
          "visible": true
         },
         "line": {
          "color": "#ffb26e"
         },
         "marker": {
          "color": "#ffb26e"
         },
         "mode": "lines+markers",
         "name": "Algorithm 2 - perturbed",
         "type": "scatter",
         "x": [
          0.25,
          0.0625,
          0.015625
         ],
         "y": [
          0.05659566030955118,
          0.05671224519163396,
          0.056574261238585985
         ]
        }
       ],
       "layout": {
        "template": {
         "data": {
          "bar": [
           {
            "error_x": {
             "color": "rgb(36,36,36)"
            },
            "error_y": {
             "color": "rgb(36,36,36)"
            },
            "marker": {
             "line": {
              "color": "white",
              "width": 0.5
             },
             "pattern": {
              "fillmode": "overlay",
              "size": 10,
              "solidity": 0.2
             }
            },
            "type": "bar"
           }
          ],
          "barpolar": [
           {
            "marker": {
             "line": {
              "color": "white",
              "width": 0.5
             },
             "pattern": {
              "fillmode": "overlay",
              "size": 10,
              "solidity": 0.2
             }
            },
            "type": "barpolar"
           }
          ],
          "carpet": [
           {
            "aaxis": {
             "endlinecolor": "rgb(36,36,36)",
             "gridcolor": "white",
             "linecolor": "white",
             "minorgridcolor": "white",
             "startlinecolor": "rgb(36,36,36)"
            },
            "baxis": {
             "endlinecolor": "rgb(36,36,36)",
             "gridcolor": "white",
             "linecolor": "white",
             "minorgridcolor": "white",
             "startlinecolor": "rgb(36,36,36)"
            },
            "type": "carpet"
           }
          ],
          "choropleth": [
           {
            "colorbar": {
             "outlinewidth": 1,
             "tickcolor": "rgb(36,36,36)",
             "ticks": "outside"
            },
            "type": "choropleth"
           }
          ],
          "contour": [
           {
            "colorbar": {
             "outlinewidth": 1,
             "tickcolor": "rgb(36,36,36)",
             "ticks": "outside"
            },
            "colorscale": [
             [
              0,
              "#440154"
             ],
             [
              0.1111111111111111,
              "#482878"
             ],
             [
              0.2222222222222222,
              "#3e4989"
             ],
             [
              0.3333333333333333,
              "#31688e"
             ],
             [
              0.4444444444444444,
              "#26828e"
             ],
             [
              0.5555555555555556,
              "#1f9e89"
             ],
             [
              0.6666666666666666,
              "#35b779"
             ],
             [
              0.7777777777777778,
              "#6ece58"
             ],
             [
              0.8888888888888888,
              "#b5de2b"
             ],
             [
              1,
              "#fde725"
             ]
            ],
            "type": "contour"
           }
          ],
          "contourcarpet": [
           {
            "colorbar": {
             "outlinewidth": 1,
             "tickcolor": "rgb(36,36,36)",
             "ticks": "outside"
            },
            "type": "contourcarpet"
           }
          ],
          "heatmap": [
           {
            "colorbar": {
             "outlinewidth": 1,
             "tickcolor": "rgb(36,36,36)",
             "ticks": "outside"
            },
            "colorscale": [
             [
              0,
              "#440154"
             ],
             [
              0.1111111111111111,
              "#482878"
             ],
             [
              0.2222222222222222,
              "#3e4989"
             ],
             [
              0.3333333333333333,
              "#31688e"
             ],
             [
              0.4444444444444444,
              "#26828e"
             ],
             [
              0.5555555555555556,
              "#1f9e89"
             ],
             [
              0.6666666666666666,
              "#35b779"
             ],
             [
              0.7777777777777778,
              "#6ece58"
             ],
             [
              0.8888888888888888,
              "#b5de2b"
             ],
             [
              1,
              "#fde725"
             ]
            ],
            "type": "heatmap"
           }
          ],
          "heatmapgl": [
           {
            "colorbar": {
             "outlinewidth": 1,
             "tickcolor": "rgb(36,36,36)",
             "ticks": "outside"
            },
            "colorscale": [
             [
              0,
              "#440154"
             ],
             [
              0.1111111111111111,
              "#482878"
             ],
             [
              0.2222222222222222,
              "#3e4989"
             ],
             [
              0.3333333333333333,
              "#31688e"
             ],
             [
              0.4444444444444444,
              "#26828e"
             ],
             [
              0.5555555555555556,
              "#1f9e89"
             ],
             [
              0.6666666666666666,
              "#35b779"
             ],
             [
              0.7777777777777778,
              "#6ece58"
             ],
             [
              0.8888888888888888,
              "#b5de2b"
             ],
             [
              1,
              "#fde725"
             ]
            ],
            "type": "heatmapgl"
           }
          ],
          "histogram": [
           {
            "marker": {
             "line": {
              "color": "white",
              "width": 0.6
             }
            },
            "type": "histogram"
           }
          ],
          "histogram2d": [
           {
            "colorbar": {
             "outlinewidth": 1,
             "tickcolor": "rgb(36,36,36)",
             "ticks": "outside"
            },
            "colorscale": [
             [
              0,
              "#440154"
             ],
             [
              0.1111111111111111,
              "#482878"
             ],
             [
              0.2222222222222222,
              "#3e4989"
             ],
             [
              0.3333333333333333,
              "#31688e"
             ],
             [
              0.4444444444444444,
              "#26828e"
             ],
             [
              0.5555555555555556,
              "#1f9e89"
             ],
             [
              0.6666666666666666,
              "#35b779"
             ],
             [
              0.7777777777777778,
              "#6ece58"
             ],
             [
              0.8888888888888888,
              "#b5de2b"
             ],
             [
              1,
              "#fde725"
             ]
            ],
            "type": "histogram2d"
           }
          ],
          "histogram2dcontour": [
           {
            "colorbar": {
             "outlinewidth": 1,
             "tickcolor": "rgb(36,36,36)",
             "ticks": "outside"
            },
            "colorscale": [
             [
              0,
              "#440154"
             ],
             [
              0.1111111111111111,
              "#482878"
             ],
             [
              0.2222222222222222,
              "#3e4989"
             ],
             [
              0.3333333333333333,
              "#31688e"
             ],
             [
              0.4444444444444444,
              "#26828e"
             ],
             [
              0.5555555555555556,
              "#1f9e89"
             ],
             [
              0.6666666666666666,
              "#35b779"
             ],
             [
              0.7777777777777778,
              "#6ece58"
             ],
             [
              0.8888888888888888,
              "#b5de2b"
             ],
             [
              1,
              "#fde725"
             ]
            ],
            "type": "histogram2dcontour"
           }
          ],
          "mesh3d": [
           {
            "colorbar": {
             "outlinewidth": 1,
             "tickcolor": "rgb(36,36,36)",
             "ticks": "outside"
            },
            "type": "mesh3d"
           }
          ],
          "parcoords": [
           {
            "line": {
             "colorbar": {
              "outlinewidth": 1,
              "tickcolor": "rgb(36,36,36)",
              "ticks": "outside"
             }
            },
            "type": "parcoords"
           }
          ],
          "pie": [
           {
            "automargin": true,
            "type": "pie"
           }
          ],
          "scatter": [
           {
            "fillpattern": {
             "fillmode": "overlay",
             "size": 10,
             "solidity": 0.2
            },
            "type": "scatter"
           }
          ],
          "scatter3d": [
           {
            "line": {
             "colorbar": {
              "outlinewidth": 1,
              "tickcolor": "rgb(36,36,36)",
              "ticks": "outside"
             }
            },
            "marker": {
             "colorbar": {
              "outlinewidth": 1,
              "tickcolor": "rgb(36,36,36)",
              "ticks": "outside"
             }
            },
            "type": "scatter3d"
           }
          ],
          "scattercarpet": [
           {
            "marker": {
             "colorbar": {
              "outlinewidth": 1,
              "tickcolor": "rgb(36,36,36)",
              "ticks": "outside"
             }
            },
            "type": "scattercarpet"
           }
          ],
          "scattergeo": [
           {
            "marker": {
             "colorbar": {
              "outlinewidth": 1,
              "tickcolor": "rgb(36,36,36)",
              "ticks": "outside"
             }
            },
            "type": "scattergeo"
           }
          ],
          "scattergl": [
           {
            "marker": {
             "colorbar": {
              "outlinewidth": 1,
              "tickcolor": "rgb(36,36,36)",
              "ticks": "outside"
             }
            },
            "type": "scattergl"
           }
          ],
          "scattermapbox": [
           {
            "marker": {
             "colorbar": {
              "outlinewidth": 1,
              "tickcolor": "rgb(36,36,36)",
              "ticks": "outside"
             }
            },
            "type": "scattermapbox"
           }
          ],
          "scatterpolar": [
           {
            "marker": {
             "colorbar": {
              "outlinewidth": 1,
              "tickcolor": "rgb(36,36,36)",
              "ticks": "outside"
             }
            },
            "type": "scatterpolar"
           }
          ],
          "scatterpolargl": [
           {
            "marker": {
             "colorbar": {
              "outlinewidth": 1,
              "tickcolor": "rgb(36,36,36)",
              "ticks": "outside"
             }
            },
            "type": "scatterpolargl"
           }
          ],
          "scatterternary": [
           {
            "marker": {
             "colorbar": {
              "outlinewidth": 1,
              "tickcolor": "rgb(36,36,36)",
              "ticks": "outside"
             }
            },
            "type": "scatterternary"
           }
          ],
          "surface": [
           {
            "colorbar": {
             "outlinewidth": 1,
             "tickcolor": "rgb(36,36,36)",
             "ticks": "outside"
            },
            "colorscale": [
             [
              0,
              "#440154"
             ],
             [
              0.1111111111111111,
              "#482878"
             ],
             [
              0.2222222222222222,
              "#3e4989"
             ],
             [
              0.3333333333333333,
              "#31688e"
             ],
             [
              0.4444444444444444,
              "#26828e"
             ],
             [
              0.5555555555555556,
              "#1f9e89"
             ],
             [
              0.6666666666666666,
              "#35b779"
             ],
             [
              0.7777777777777778,
              "#6ece58"
             ],
             [
              0.8888888888888888,
              "#b5de2b"
             ],
             [
              1,
              "#fde725"
             ]
            ],
            "type": "surface"
           }
          ],
          "table": [
           {
            "cells": {
             "fill": {
              "color": "rgb(237,237,237)"
             },
             "line": {
              "color": "white"
             }
            },
            "header": {
             "fill": {
              "color": "rgb(217,217,217)"
             },
             "line": {
              "color": "white"
             }
            },
            "type": "table"
           }
          ]
         },
         "layout": {
          "annotationdefaults": {
           "arrowhead": 0,
           "arrowwidth": 1
          },
          "autotypenumbers": "strict",
          "coloraxis": {
           "colorbar": {
            "outlinewidth": 1,
            "tickcolor": "rgb(36,36,36)",
            "ticks": "outside"
           }
          },
          "colorscale": {
           "diverging": [
            [
             0,
             "rgb(103,0,31)"
            ],
            [
             0.1,
             "rgb(178,24,43)"
            ],
            [
             0.2,
             "rgb(214,96,77)"
            ],
            [
             0.3,
             "rgb(244,165,130)"
            ],
            [
             0.4,
             "rgb(253,219,199)"
            ],
            [
             0.5,
             "rgb(247,247,247)"
            ],
            [
             0.6,
             "rgb(209,229,240)"
            ],
            [
             0.7,
             "rgb(146,197,222)"
            ],
            [
             0.8,
             "rgb(67,147,195)"
            ],
            [
             0.9,
             "rgb(33,102,172)"
            ],
            [
             1,
             "rgb(5,48,97)"
            ]
           ],
           "sequential": [
            [
             0,
             "#440154"
            ],
            [
             0.1111111111111111,
             "#482878"
            ],
            [
             0.2222222222222222,
             "#3e4989"
            ],
            [
             0.3333333333333333,
             "#31688e"
            ],
            [
             0.4444444444444444,
             "#26828e"
            ],
            [
             0.5555555555555556,
             "#1f9e89"
            ],
            [
             0.6666666666666666,
             "#35b779"
            ],
            [
             0.7777777777777778,
             "#6ece58"
            ],
            [
             0.8888888888888888,
             "#b5de2b"
            ],
            [
             1,
             "#fde725"
            ]
           ],
           "sequentialminus": [
            [
             0,
             "#440154"
            ],
            [
             0.1111111111111111,
             "#482878"
            ],
            [
             0.2222222222222222,
             "#3e4989"
            ],
            [
             0.3333333333333333,
             "#31688e"
            ],
            [
             0.4444444444444444,
             "#26828e"
            ],
            [
             0.5555555555555556,
             "#1f9e89"
            ],
            [
             0.6666666666666666,
             "#35b779"
            ],
            [
             0.7777777777777778,
             "#6ece58"
            ],
            [
             0.8888888888888888,
             "#b5de2b"
            ],
            [
             1,
             "#fde725"
            ]
           ]
          },
          "colorway": [
           "#1F77B4",
           "#FF7F0E",
           "#2CA02C",
           "#D62728",
           "#9467BD",
           "#8C564B",
           "#E377C2",
           "#7F7F7F",
           "#BCBD22",
           "#17BECF"
          ],
          "font": {
           "color": "rgb(36,36,36)"
          },
          "geo": {
           "bgcolor": "white",
           "lakecolor": "white",
           "landcolor": "white",
           "showlakes": true,
           "showland": true,
           "subunitcolor": "white"
          },
          "hoverlabel": {
           "align": "left"
          },
          "hovermode": "closest",
          "mapbox": {
           "style": "light"
          },
          "paper_bgcolor": "white",
          "plot_bgcolor": "white",
          "polar": {
           "angularaxis": {
            "gridcolor": "rgb(232,232,232)",
            "linecolor": "rgb(36,36,36)",
            "showgrid": false,
            "showline": true,
            "ticks": "outside"
           },
           "bgcolor": "white",
           "radialaxis": {
            "gridcolor": "rgb(232,232,232)",
            "linecolor": "rgb(36,36,36)",
            "showgrid": false,
            "showline": true,
            "ticks": "outside"
           }
          },
          "scene": {
           "xaxis": {
            "backgroundcolor": "white",
            "gridcolor": "rgb(232,232,232)",
            "gridwidth": 2,
            "linecolor": "rgb(36,36,36)",
            "showbackground": true,
            "showgrid": false,
            "showline": true,
            "ticks": "outside",
            "zeroline": false,
            "zerolinecolor": "rgb(36,36,36)"
           },
           "yaxis": {
            "backgroundcolor": "white",
            "gridcolor": "rgb(232,232,232)",
            "gridwidth": 2,
            "linecolor": "rgb(36,36,36)",
            "showbackground": true,
            "showgrid": false,
            "showline": true,
            "ticks": "outside",
            "zeroline": false,
            "zerolinecolor": "rgb(36,36,36)"
           },
           "zaxis": {
            "backgroundcolor": "white",
            "gridcolor": "rgb(232,232,232)",
            "gridwidth": 2,
            "linecolor": "rgb(36,36,36)",
            "showbackground": true,
            "showgrid": false,
            "showline": true,
            "ticks": "outside",
            "zeroline": false,
            "zerolinecolor": "rgb(36,36,36)"
           }
          },
          "shapedefaults": {
           "fillcolor": "black",
           "line": {
            "width": 0
           },
           "opacity": 0.3
          },
          "ternary": {
           "aaxis": {
            "gridcolor": "rgb(232,232,232)",
            "linecolor": "rgb(36,36,36)",
            "showgrid": false,
            "showline": true,
            "ticks": "outside"
           },
           "baxis": {
            "gridcolor": "rgb(232,232,232)",
            "linecolor": "rgb(36,36,36)",
            "showgrid": false,
            "showline": true,
            "ticks": "outside"
           },
           "bgcolor": "white",
           "caxis": {
            "gridcolor": "rgb(232,232,232)",
            "linecolor": "rgb(36,36,36)",
            "showgrid": false,
            "showline": true,
            "ticks": "outside"
           }
          },
          "title": {
           "x": 0.05
          },
          "xaxis": {
           "automargin": true,
           "gridcolor": "rgb(232,232,232)",
           "linecolor": "rgb(36,36,36)",
           "showgrid": false,
           "showline": true,
           "ticks": "outside",
           "title": {
            "standoff": 15
           },
           "zeroline": false,
           "zerolinecolor": "rgb(36,36,36)"
          },
          "yaxis": {
           "automargin": true,
           "gridcolor": "rgb(232,232,232)",
           "linecolor": "rgb(36,36,36)",
           "showgrid": false,
           "showline": true,
           "ticks": "outside",
           "title": {
            "standoff": 15
           },
           "zeroline": false,
           "zerolinecolor": "rgb(36,36,36)"
          }
         }
        },
        "title": {
         "text": "Caplet price sensitivity to L0<br><span style='font-size:12px;'>L0=0.13 vs L0_=0.08 <br> (N_paths = 30000)</span>",
         "x": 0.5,
         "xanchor": "center"
        }
       }
      }
     },
     "metadata": {},
     "output_type": "display_data"
    }
   ],
   "source": [
    "# Prepare figure\n",
    "fig = go.Figure()\n",
    "\n",
    "###### Baselines\n",
    "fig.add_trace(go.Scatter(\n",
    "    x=[d['h'] for d in results_algo1],   # or use a combined h-list like [0.25,0.125,0.0625]\n",
    "    y=[exact]*len(results_algo1),\n",
    "    mode='lines',\n",
    "    line=dict(dash='dot', color='black'),\n",
    "    name='Exact baseline'\n",
    "))\n",
    "\n",
    "fig.add_trace(go.Scatter(\n",
    "    x=[d['h'] for d in results_algo1],\n",
    "    y=[d['Price'] for d in results_algo1],\n",
    "    mode='lines+markers',\n",
    "    error_y=dict(type='data', array=[d['CI'] for d in results_algo1], visible=True),\n",
    "    line=dict(color=blue_hex),\n",
    "    marker=dict(color=blue_hex),\n",
    "    name='Algorithm 1 - baseline'\n",
    "))\n",
    "\n",
    "fig.add_trace(go.Scatter(\n",
    "    x=[d['h'] for d in results_algo2],\n",
    "    y=[d['Price'] for d in results_algo2],\n",
    "    mode='lines+markers',\n",
    "    error_y=dict(type='data', array=[d['CI'] for d in results_algo2], visible=True),\n",
    "    line=dict(color=orange_hex),\n",
    "    marker=dict(color=orange_hex),\n",
    "    name='Algorithm 2 - baseline'\n",
    "))\n",
    "\n",
    "###### Perturbed\n",
    "\n",
    "fig.add_trace(go.Scatter(\n",
    "    x=[d['h'] for d in results_algo1_],   # or use a combined h-list like [0.25,0.125,0.0625]\n",
    "    y=[exact_]*len(results_algo1_),\n",
    "    mode='lines',\n",
    "    line=dict(dash='dot', color='black'),\n",
    "    name='Exact perturbed'\n",
    "))\n",
    "\n",
    "fig.add_trace(go.Scatter(\n",
    "    x=[d['h'] for d in results_algo1_],\n",
    "    y=[d['Price'] for d in results_algo1_],\n",
    "    mode='lines+markers',\n",
    "    error_y=dict(type='data', array=[d['CI'] for d in results_algo1_], visible=True),\n",
    "    line=dict(color=blue_pastel_hex),\n",
    "    marker=dict(color=blue_pastel_hex),\n",
    "    name='Algorithm 1 - perturbed'\n",
    "))\n",
    "\n",
    "fig.add_trace(go.Scatter(\n",
    "    x=[d['h'] for d in results_algo2_],\n",
    "    y=[d['Price'] for d in results_algo2_],\n",
    "    mode='lines+markers',\n",
    "    error_y=dict(type='data', array=[d['CI'] for d in results_algo2_], visible=True),\n",
    "    line=dict(color=orange_pastel_hex),\n",
    "    marker=dict(color=orange_pastel_hex),\n",
    "    name='Algorithm 2 - perturbed'\n",
    "))\n",
    "\n",
    "\n",
    "###### General layout\n",
    "\n",
    "fig.update_layout(\n",
    "    template=\"simple_white\",\n",
    "    title={\n",
    "        \"text\": (\n",
    "            # main title in default size:\n",
    "            \"Caplet price sensitivity to L0<br>\"\n",
    "            # parameters in a smaller span (e.g. 12px):\n",
    "            f\"<span style='font-size:12px;'>\"\n",
    "            f\"L0={L0} vs L0_={L0_} <br> (N_paths = {N_paths})\"\n",
    "            \"</span>\"\n",
    "        ),\n",
    "        \"x\": 0.5,\n",
    "        \"xanchor\": \"center\"\n",
    "    }\n",
    ")\n",
    "\n",
    "fig.show()"
   ]
  },
  {
   "cell_type": "code",
   "execution_count": null,
   "id": "5fee66a5",
   "metadata": {},
   "outputs": [
    {
     "name": "stdout",
     "output_type": "stream",
     "text": [
      "0.25 \n",
      "\n"
     ]
    },
    {
     "name": "stderr",
     "output_type": "stream",
     "text": [
      "MC paths: 100%|██████████| 30000/30000 [00:00<00:00, 48520.29it/s]\n",
      "MC paths: 100%|██████████| 30000/30000 [00:00<00:00, 78510.37it/s]\n",
      "MC paths: 100%|██████████| 30000/30000 [00:00<00:00, 64813.16it/s]\n",
      "MC paths: 100%|██████████| 30000/30000 [00:00<00:00, 80034.35it/s]\n"
     ]
    },
    {
     "name": "stdout",
     "output_type": "stream",
     "text": [
      "0.0625 \n",
      "\n"
     ]
    },
    {
     "name": "stderr",
     "output_type": "stream",
     "text": [
      "MC paths: 100%|██████████| 30000/30000 [00:01<00:00, 15659.88it/s]\n",
      "MC paths: 100%|██████████| 30000/30000 [00:01<00:00, 19051.74it/s]\n",
      "MC paths: 100%|██████████| 30000/30000 [00:01<00:00, 17164.19it/s]\n",
      "MC paths: 100%|██████████| 30000/30000 [00:01<00:00, 21500.07it/s]\n"
     ]
    },
    {
     "name": "stdout",
     "output_type": "stream",
     "text": [
      "0.015625 \n",
      "\n"
     ]
    },
    {
     "name": "stderr",
     "output_type": "stream",
     "text": [
      "MC paths: 100%|██████████| 30000/30000 [00:07<00:00, 3777.88it/s]\n",
      "MC paths: 100%|██████████| 30000/30000 [00:05<00:00, 5140.39it/s]\n",
      "MC paths: 100%|██████████| 30000/30000 [00:07<00:00, 4261.74it/s]\n",
      "MC paths: 100%|██████████| 30000/30000 [00:05<00:00, 5494.15it/s]\n"
     ]
    },
    {
     "data": {
      "application/vnd.plotly.v1+json": {
       "config": {
        "plotlyServerURL": "https://plot.ly"
       },
       "data": [
        {
         "line": {
          "color": "black",
          "dash": "dot"
         },
         "mode": "lines",
         "name": "Exact baseline",
         "type": "scatter",
         "x": [
          0.25,
          0.0625,
          0.015625
         ],
         "y": [
          0.06571345192162645,
          0.06571345192162645,
          0.06571345192162645
         ]
        },
        {
         "error_y": {
          "array": [
           0.0006563467732479112,
           0.0006462761870394063,
           0.0006414218151633553
          ],
          "type": "data",
          "visible": true
         },
         "line": {
          "color": "#1f77b4"
         },
         "marker": {
          "color": "#1f77b4"
         },
         "mode": "lines+markers",
         "name": "Algorithm 1 - baseline",
         "type": "scatter",
         "x": [
          0.25,
          0.0625,
          0.015625
         ],
         "y": [
          0.06650476173349915,
          0.06630887582431211,
          0.06577166866192702
         ]
        },
        {
         "error_y": {
          "array": [
           0.0006443732558281153,
           0.0006309801610719295,
           0.0006380251625898367
          ],
          "type": "data",
          "visible": true
         },
         "line": {
          "color": "#ff7f0e"
         },
         "marker": {
          "color": "#ff7f0e"
         },
         "mode": "lines+markers",
         "name": "Algorithm 2 - baseline",
         "type": "scatter",
         "x": [
          0.25,
          0.0625,
          0.015625
         ],
         "y": [
          0.06258293015236856,
          0.06309999366852337,
          0.0645385281412933
         ]
        },
        {
         "line": {
          "color": "black",
          "dash": "dot"
         },
         "mode": "lines",
         "name": "Exact perturbed",
         "type": "scatter",
         "x": [
          0.25,
          0.0625,
          0.015625
         ],
         "y": [
          0.03547978539836554,
          0.03547978539836554,
          0.03547978539836554
         ]
        },
        {
         "error_y": {
          "array": [
           0.0004717112347229958,
           0.00047892630405218053,
           0.00047915217829994533
          ],
          "type": "data",
          "visible": true
         },
         "line": {
          "color": "#79add2"
         },
         "marker": {
          "color": "#79add2"
         },
         "mode": "lines+markers",
         "name": "Algorithm 1 - perturbed",
         "type": "scatter",
         "x": [
          0.25,
          0.0625,
          0.015625
         ],
         "y": [
          0.03466427046365318,
          0.03569695648998218,
          0.03532461521530058
         ]
        },
        {
         "error_y": {
          "array": [
           0.0004687581996255563,
           0.00047042236261324674,
           0.0004696447803200779
          ],
          "type": "data",
          "visible": true
         },
         "line": {
          "color": "#ffb26e"
         },
         "marker": {
          "color": "#ffb26e"
         },
         "mode": "lines+markers",
         "name": "Algorithm 2 - perturbed",
         "type": "scatter",
         "x": [
          0.25,
          0.0625,
          0.015625
         ],
         "y": [
          0.0310185110795603,
          0.03313508744345898,
          0.033838926274897145
         ]
        }
       ],
       "layout": {
        "template": {
         "data": {
          "bar": [
           {
            "error_x": {
             "color": "rgb(36,36,36)"
            },
            "error_y": {
             "color": "rgb(36,36,36)"
            },
            "marker": {
             "line": {
              "color": "white",
              "width": 0.5
             },
             "pattern": {
              "fillmode": "overlay",
              "size": 10,
              "solidity": 0.2
             }
            },
            "type": "bar"
           }
          ],
          "barpolar": [
           {
            "marker": {
             "line": {
              "color": "white",
              "width": 0.5
             },
             "pattern": {
              "fillmode": "overlay",
              "size": 10,
              "solidity": 0.2
             }
            },
            "type": "barpolar"
           }
          ],
          "carpet": [
           {
            "aaxis": {
             "endlinecolor": "rgb(36,36,36)",
             "gridcolor": "white",
             "linecolor": "white",
             "minorgridcolor": "white",
             "startlinecolor": "rgb(36,36,36)"
            },
            "baxis": {
             "endlinecolor": "rgb(36,36,36)",
             "gridcolor": "white",
             "linecolor": "white",
             "minorgridcolor": "white",
             "startlinecolor": "rgb(36,36,36)"
            },
            "type": "carpet"
           }
          ],
          "choropleth": [
           {
            "colorbar": {
             "outlinewidth": 1,
             "tickcolor": "rgb(36,36,36)",
             "ticks": "outside"
            },
            "type": "choropleth"
           }
          ],
          "contour": [
           {
            "colorbar": {
             "outlinewidth": 1,
             "tickcolor": "rgb(36,36,36)",
             "ticks": "outside"
            },
            "colorscale": [
             [
              0,
              "#440154"
             ],
             [
              0.1111111111111111,
              "#482878"
             ],
             [
              0.2222222222222222,
              "#3e4989"
             ],
             [
              0.3333333333333333,
              "#31688e"
             ],
             [
              0.4444444444444444,
              "#26828e"
             ],
             [
              0.5555555555555556,
              "#1f9e89"
             ],
             [
              0.6666666666666666,
              "#35b779"
             ],
             [
              0.7777777777777778,
              "#6ece58"
             ],
             [
              0.8888888888888888,
              "#b5de2b"
             ],
             [
              1,
              "#fde725"
             ]
            ],
            "type": "contour"
           }
          ],
          "contourcarpet": [
           {
            "colorbar": {
             "outlinewidth": 1,
             "tickcolor": "rgb(36,36,36)",
             "ticks": "outside"
            },
            "type": "contourcarpet"
           }
          ],
          "heatmap": [
           {
            "colorbar": {
             "outlinewidth": 1,
             "tickcolor": "rgb(36,36,36)",
             "ticks": "outside"
            },
            "colorscale": [
             [
              0,
              "#440154"
             ],
             [
              0.1111111111111111,
              "#482878"
             ],
             [
              0.2222222222222222,
              "#3e4989"
             ],
             [
              0.3333333333333333,
              "#31688e"
             ],
             [
              0.4444444444444444,
              "#26828e"
             ],
             [
              0.5555555555555556,
              "#1f9e89"
             ],
             [
              0.6666666666666666,
              "#35b779"
             ],
             [
              0.7777777777777778,
              "#6ece58"
             ],
             [
              0.8888888888888888,
              "#b5de2b"
             ],
             [
              1,
              "#fde725"
             ]
            ],
            "type": "heatmap"
           }
          ],
          "heatmapgl": [
           {
            "colorbar": {
             "outlinewidth": 1,
             "tickcolor": "rgb(36,36,36)",
             "ticks": "outside"
            },
            "colorscale": [
             [
              0,
              "#440154"
             ],
             [
              0.1111111111111111,
              "#482878"
             ],
             [
              0.2222222222222222,
              "#3e4989"
             ],
             [
              0.3333333333333333,
              "#31688e"
             ],
             [
              0.4444444444444444,
              "#26828e"
             ],
             [
              0.5555555555555556,
              "#1f9e89"
             ],
             [
              0.6666666666666666,
              "#35b779"
             ],
             [
              0.7777777777777778,
              "#6ece58"
             ],
             [
              0.8888888888888888,
              "#b5de2b"
             ],
             [
              1,
              "#fde725"
             ]
            ],
            "type": "heatmapgl"
           }
          ],
          "histogram": [
           {
            "marker": {
             "line": {
              "color": "white",
              "width": 0.6
             }
            },
            "type": "histogram"
           }
          ],
          "histogram2d": [
           {
            "colorbar": {
             "outlinewidth": 1,
             "tickcolor": "rgb(36,36,36)",
             "ticks": "outside"
            },
            "colorscale": [
             [
              0,
              "#440154"
             ],
             [
              0.1111111111111111,
              "#482878"
             ],
             [
              0.2222222222222222,
              "#3e4989"
             ],
             [
              0.3333333333333333,
              "#31688e"
             ],
             [
              0.4444444444444444,
              "#26828e"
             ],
             [
              0.5555555555555556,
              "#1f9e89"
             ],
             [
              0.6666666666666666,
              "#35b779"
             ],
             [
              0.7777777777777778,
              "#6ece58"
             ],
             [
              0.8888888888888888,
              "#b5de2b"
             ],
             [
              1,
              "#fde725"
             ]
            ],
            "type": "histogram2d"
           }
          ],
          "histogram2dcontour": [
           {
            "colorbar": {
             "outlinewidth": 1,
             "tickcolor": "rgb(36,36,36)",
             "ticks": "outside"
            },
            "colorscale": [
             [
              0,
              "#440154"
             ],
             [
              0.1111111111111111,
              "#482878"
             ],
             [
              0.2222222222222222,
              "#3e4989"
             ],
             [
              0.3333333333333333,
              "#31688e"
             ],
             [
              0.4444444444444444,
              "#26828e"
             ],
             [
              0.5555555555555556,
              "#1f9e89"
             ],
             [
              0.6666666666666666,
              "#35b779"
             ],
             [
              0.7777777777777778,
              "#6ece58"
             ],
             [
              0.8888888888888888,
              "#b5de2b"
             ],
             [
              1,
              "#fde725"
             ]
            ],
            "type": "histogram2dcontour"
           }
          ],
          "mesh3d": [
           {
            "colorbar": {
             "outlinewidth": 1,
             "tickcolor": "rgb(36,36,36)",
             "ticks": "outside"
            },
            "type": "mesh3d"
           }
          ],
          "parcoords": [
           {
            "line": {
             "colorbar": {
              "outlinewidth": 1,
              "tickcolor": "rgb(36,36,36)",
              "ticks": "outside"
             }
            },
            "type": "parcoords"
           }
          ],
          "pie": [
           {
            "automargin": true,
            "type": "pie"
           }
          ],
          "scatter": [
           {
            "fillpattern": {
             "fillmode": "overlay",
             "size": 10,
             "solidity": 0.2
            },
            "type": "scatter"
           }
          ],
          "scatter3d": [
           {
            "line": {
             "colorbar": {
              "outlinewidth": 1,
              "tickcolor": "rgb(36,36,36)",
              "ticks": "outside"
             }
            },
            "marker": {
             "colorbar": {
              "outlinewidth": 1,
              "tickcolor": "rgb(36,36,36)",
              "ticks": "outside"
             }
            },
            "type": "scatter3d"
           }
          ],
          "scattercarpet": [
           {
            "marker": {
             "colorbar": {
              "outlinewidth": 1,
              "tickcolor": "rgb(36,36,36)",
              "ticks": "outside"
             }
            },
            "type": "scattercarpet"
           }
          ],
          "scattergeo": [
           {
            "marker": {
             "colorbar": {
              "outlinewidth": 1,
              "tickcolor": "rgb(36,36,36)",
              "ticks": "outside"
             }
            },
            "type": "scattergeo"
           }
          ],
          "scattergl": [
           {
            "marker": {
             "colorbar": {
              "outlinewidth": 1,
              "tickcolor": "rgb(36,36,36)",
              "ticks": "outside"
             }
            },
            "type": "scattergl"
           }
          ],
          "scattermapbox": [
           {
            "marker": {
             "colorbar": {
              "outlinewidth": 1,
              "tickcolor": "rgb(36,36,36)",
              "ticks": "outside"
             }
            },
            "type": "scattermapbox"
           }
          ],
          "scatterpolar": [
           {
            "marker": {
             "colorbar": {
              "outlinewidth": 1,
              "tickcolor": "rgb(36,36,36)",
              "ticks": "outside"
             }
            },
            "type": "scatterpolar"
           }
          ],
          "scatterpolargl": [
           {
            "marker": {
             "colorbar": {
              "outlinewidth": 1,
              "tickcolor": "rgb(36,36,36)",
              "ticks": "outside"
             }
            },
            "type": "scatterpolargl"
           }
          ],
          "scatterternary": [
           {
            "marker": {
             "colorbar": {
              "outlinewidth": 1,
              "tickcolor": "rgb(36,36,36)",
              "ticks": "outside"
             }
            },
            "type": "scatterternary"
           }
          ],
          "surface": [
           {
            "colorbar": {
             "outlinewidth": 1,
             "tickcolor": "rgb(36,36,36)",
             "ticks": "outside"
            },
            "colorscale": [
             [
              0,
              "#440154"
             ],
             [
              0.1111111111111111,
              "#482878"
             ],
             [
              0.2222222222222222,
              "#3e4989"
             ],
             [
              0.3333333333333333,
              "#31688e"
             ],
             [
              0.4444444444444444,
              "#26828e"
             ],
             [
              0.5555555555555556,
              "#1f9e89"
             ],
             [
              0.6666666666666666,
              "#35b779"
             ],
             [
              0.7777777777777778,
              "#6ece58"
             ],
             [
              0.8888888888888888,
              "#b5de2b"
             ],
             [
              1,
              "#fde725"
             ]
            ],
            "type": "surface"
           }
          ],
          "table": [
           {
            "cells": {
             "fill": {
              "color": "rgb(237,237,237)"
             },
             "line": {
              "color": "white"
             }
            },
            "header": {
             "fill": {
              "color": "rgb(217,217,217)"
             },
             "line": {
              "color": "white"
             }
            },
            "type": "table"
           }
          ]
         },
         "layout": {
          "annotationdefaults": {
           "arrowhead": 0,
           "arrowwidth": 1
          },
          "autotypenumbers": "strict",
          "coloraxis": {
           "colorbar": {
            "outlinewidth": 1,
            "tickcolor": "rgb(36,36,36)",
            "ticks": "outside"
           }
          },
          "colorscale": {
           "diverging": [
            [
             0,
             "rgb(103,0,31)"
            ],
            [
             0.1,
             "rgb(178,24,43)"
            ],
            [
             0.2,
             "rgb(214,96,77)"
            ],
            [
             0.3,
             "rgb(244,165,130)"
            ],
            [
             0.4,
             "rgb(253,219,199)"
            ],
            [
             0.5,
             "rgb(247,247,247)"
            ],
            [
             0.6,
             "rgb(209,229,240)"
            ],
            [
             0.7,
             "rgb(146,197,222)"
            ],
            [
             0.8,
             "rgb(67,147,195)"
            ],
            [
             0.9,
             "rgb(33,102,172)"
            ],
            [
             1,
             "rgb(5,48,97)"
            ]
           ],
           "sequential": [
            [
             0,
             "#440154"
            ],
            [
             0.1111111111111111,
             "#482878"
            ],
            [
             0.2222222222222222,
             "#3e4989"
            ],
            [
             0.3333333333333333,
             "#31688e"
            ],
            [
             0.4444444444444444,
             "#26828e"
            ],
            [
             0.5555555555555556,
             "#1f9e89"
            ],
            [
             0.6666666666666666,
             "#35b779"
            ],
            [
             0.7777777777777778,
             "#6ece58"
            ],
            [
             0.8888888888888888,
             "#b5de2b"
            ],
            [
             1,
             "#fde725"
            ]
           ],
           "sequentialminus": [
            [
             0,
             "#440154"
            ],
            [
             0.1111111111111111,
             "#482878"
            ],
            [
             0.2222222222222222,
             "#3e4989"
            ],
            [
             0.3333333333333333,
             "#31688e"
            ],
            [
             0.4444444444444444,
             "#26828e"
            ],
            [
             0.5555555555555556,
             "#1f9e89"
            ],
            [
             0.6666666666666666,
             "#35b779"
            ],
            [
             0.7777777777777778,
             "#6ece58"
            ],
            [
             0.8888888888888888,
             "#b5de2b"
            ],
            [
             1,
             "#fde725"
            ]
           ]
          },
          "colorway": [
           "#1F77B4",
           "#FF7F0E",
           "#2CA02C",
           "#D62728",
           "#9467BD",
           "#8C564B",
           "#E377C2",
           "#7F7F7F",
           "#BCBD22",
           "#17BECF"
          ],
          "font": {
           "color": "rgb(36,36,36)"
          },
          "geo": {
           "bgcolor": "white",
           "lakecolor": "white",
           "landcolor": "white",
           "showlakes": true,
           "showland": true,
           "subunitcolor": "white"
          },
          "hoverlabel": {
           "align": "left"
          },
          "hovermode": "closest",
          "mapbox": {
           "style": "light"
          },
          "paper_bgcolor": "white",
          "plot_bgcolor": "white",
          "polar": {
           "angularaxis": {
            "gridcolor": "rgb(232,232,232)",
            "linecolor": "rgb(36,36,36)",
            "showgrid": false,
            "showline": true,
            "ticks": "outside"
           },
           "bgcolor": "white",
           "radialaxis": {
            "gridcolor": "rgb(232,232,232)",
            "linecolor": "rgb(36,36,36)",
            "showgrid": false,
            "showline": true,
            "ticks": "outside"
           }
          },
          "scene": {
           "xaxis": {
            "backgroundcolor": "white",
            "gridcolor": "rgb(232,232,232)",
            "gridwidth": 2,
            "linecolor": "rgb(36,36,36)",
            "showbackground": true,
            "showgrid": false,
            "showline": true,
            "ticks": "outside",
            "zeroline": false,
            "zerolinecolor": "rgb(36,36,36)"
           },
           "yaxis": {
            "backgroundcolor": "white",
            "gridcolor": "rgb(232,232,232)",
            "gridwidth": 2,
            "linecolor": "rgb(36,36,36)",
            "showbackground": true,
            "showgrid": false,
            "showline": true,
            "ticks": "outside",
            "zeroline": false,
            "zerolinecolor": "rgb(36,36,36)"
           },
           "zaxis": {
            "backgroundcolor": "white",
            "gridcolor": "rgb(232,232,232)",
            "gridwidth": 2,
            "linecolor": "rgb(36,36,36)",
            "showbackground": true,
            "showgrid": false,
            "showline": true,
            "ticks": "outside",
            "zeroline": false,
            "zerolinecolor": "rgb(36,36,36)"
           }
          },
          "shapedefaults": {
           "fillcolor": "black",
           "line": {
            "width": 0
           },
           "opacity": 0.3
          },
          "ternary": {
           "aaxis": {
            "gridcolor": "rgb(232,232,232)",
            "linecolor": "rgb(36,36,36)",
            "showgrid": false,
            "showline": true,
            "ticks": "outside"
           },
           "baxis": {
            "gridcolor": "rgb(232,232,232)",
            "linecolor": "rgb(36,36,36)",
            "showgrid": false,
            "showline": true,
            "ticks": "outside"
           },
           "bgcolor": "white",
           "caxis": {
            "gridcolor": "rgb(232,232,232)",
            "linecolor": "rgb(36,36,36)",
            "showgrid": false,
            "showline": true,
            "ticks": "outside"
           }
          },
          "title": {
           "x": 0.05
          },
          "xaxis": {
           "automargin": true,
           "gridcolor": "rgb(232,232,232)",
           "linecolor": "rgb(36,36,36)",
           "showgrid": false,
           "showline": true,
           "ticks": "outside",
           "title": {
            "standoff": 15
           },
           "zeroline": false,
           "zerolinecolor": "rgb(36,36,36)"
          },
          "yaxis": {
           "automargin": true,
           "gridcolor": "rgb(232,232,232)",
           "linecolor": "rgb(36,36,36)",
           "showgrid": false,
           "showline": true,
           "ticks": "outside",
           "title": {
            "standoff": 15
           },
           "zeroline": false,
           "zerolinecolor": "rgb(36,36,36)"
          }
         }
        },
        "title": {
         "text": "Caplet price sensitivity to H<br><span style='font-size:12px;'>H=0.28 vs H_=0.2 <br> (N_paths = 30000)</span>",
         "x": 0.5,
         "xanchor": "center"
        }
       }
      }
     },
     "metadata": {},
     "output_type": "display_data"
    }
   ],
   "source": [
    "results_algo2 = []\n",
    "results_algo2_ = []\n",
    "results_algo1 = []\n",
    "results_algo1_ = []\n",
    "\n",
    "for h in h_list:\n",
    "    print(h, \"\\n\")\n",
    "    p, se = simulate_algo2(L0, H, K, sigma, T, h, N_paths)\n",
    "    results_algo2.append({\n",
    "        'h': h,\n",
    "        'Price': p,\n",
    "        'CI': 1.96*se\n",
    "    })\n",
    "    p, se = simulate_algo2(L0, H_, K, sigma, T, h, N_paths)\n",
    "    results_algo2_.append({\n",
    "        'h': h,\n",
    "        'Price': p,\n",
    "        'CI': 1.96*se\n",
    "    })\n",
    "    p, se, _ = simulate_algo1(L0, H, K, sigma, T, h, N_paths)\n",
    "    results_algo1.append({\n",
    "        'h': h,\n",
    "        'Price': p,\n",
    "        'CI': 1.96*se\n",
    "    })\n",
    "    p, se, _ = simulate_algo1(L0, H_, K, sigma, T, h, N_paths)\n",
    "    results_algo1_.append({\n",
    "        'h': h,\n",
    "        'Price': p,\n",
    "        'CI': 1.96*se\n",
    "    })\n",
    "\n",
    "exact = analytic_vtilde_caplet(L0, H, K, sigma, T)\n",
    "exact_ = analytic_vtilde_caplet(L0, H_, K, sigma, T)\n",
    "\n",
    "# Prepare figure\n",
    "fig = go.Figure()\n",
    "\n",
    "###### Baselines\n",
    "fig.add_trace(go.Scatter(\n",
    "    x=[d['h'] for d in results_algo1],   # or use a combined h-list like [0.25,0.125,0.0625]\n",
    "    y=[exact]*len(results_algo1),\n",
    "    mode='lines',\n",
    "    line=dict(dash='dot', color='black'),\n",
    "    name='Exact baseline'\n",
    "))\n",
    "\n",
    "fig.add_trace(go.Scatter(\n",
    "    x=[d['h'] for d in results_algo1],\n",
    "    y=[d['Price'] for d in results_algo1],\n",
    "    mode='lines+markers',\n",
    "    error_y=dict(type='data', array=[d['CI'] for d in results_algo1], visible=True),\n",
    "    line=dict(color=blue_hex),\n",
    "    marker=dict(color=blue_hex),\n",
    "    name='Algorithm 1 - baseline'\n",
    "))\n",
    "\n",
    "fig.add_trace(go.Scatter(\n",
    "    x=[d['h'] for d in results_algo2],\n",
    "    y=[d['Price'] for d in results_algo2],\n",
    "    mode='lines+markers',\n",
    "    error_y=dict(type='data', array=[d['CI'] for d in results_algo2], visible=True),\n",
    "    line=dict(color=orange_hex),\n",
    "    marker=dict(color=orange_hex),\n",
    "    name='Algorithm 2 - baseline'\n",
    "))\n",
    "\n",
    "###### Perturbed\n",
    "\n",
    "fig.add_trace(go.Scatter(\n",
    "    x=[d['h'] for d in results_algo1_],   # or use a combined h-list like [0.25,0.125,0.0625]\n",
    "    y=[exact_]*len(results_algo1_),\n",
    "    mode='lines',\n",
    "    line=dict(dash='dot', color='black'),\n",
    "    name='Exact perturbed'\n",
    "))\n",
    "\n",
    "fig.add_trace(go.Scatter(\n",
    "    x=[d['h'] for d in results_algo1_],\n",
    "    y=[d['Price'] for d in results_algo1_],\n",
    "    mode='lines+markers',\n",
    "    error_y=dict(type='data', array=[d['CI'] for d in results_algo1_], visible=True),\n",
    "    line=dict(color=blue_pastel_hex),\n",
    "    marker=dict(color=blue_pastel_hex),\n",
    "    name='Algorithm 1 - perturbed'\n",
    "))\n",
    "\n",
    "fig.add_trace(go.Scatter(\n",
    "    x=[d['h'] for d in results_algo2_],\n",
    "    y=[d['Price'] for d in results_algo2_],\n",
    "    mode='lines+markers',\n",
    "    error_y=dict(type='data', array=[d['CI'] for d in results_algo2_], visible=True),\n",
    "    line=dict(color=orange_pastel_hex),\n",
    "    marker=dict(color=orange_pastel_hex),\n",
    "    name='Algorithm 2 - perturbed'\n",
    "))\n",
    "\n",
    "\n",
    "###### General layout\n",
    "\n",
    "fig.update_layout(\n",
    "    template=\"simple_white\",\n",
    "    title={\n",
    "        \"text\": (\n",
    "            # main title in default size:\n",
    "            \"Caplet price sensitivity to H<br>\"\n",
    "            # parameters in a smaller span (e.g. 12px):\n",
    "            f\"<span style='font-size:12px;'>\"\n",
    "            f\"H={H} vs H_={H_} <br> (N_paths = {N_paths})\"\n",
    "            \"</span>\"\n",
    "        ),\n",
    "        \"x\": 0.5,\n",
    "        \"xanchor\": \"center\"\n",
    "    }\n",
    ")\n",
    "\n",
    "fig.show()"
   ]
  },
  {
   "cell_type": "code",
   "execution_count": null,
   "id": "db69f4e5",
   "metadata": {},
   "outputs": [
    {
     "name": "stdout",
     "output_type": "stream",
     "text": [
      "0.25 \n",
      "\n"
     ]
    },
    {
     "name": "stderr",
     "output_type": "stream",
     "text": [
      "MC paths: 100%|██████████| 30000/30000 [00:00<00:00, 49038.75it/s]\n",
      "MC paths: 100%|██████████| 30000/30000 [00:00<00:00, 59463.28it/s]\n",
      "MC paths: 100%|██████████| 30000/30000 [00:00<00:00, 56888.61it/s]\n",
      "MC paths: 100%|██████████| 30000/30000 [00:00<00:00, 64424.97it/s]\n"
     ]
    },
    {
     "name": "stdout",
     "output_type": "stream",
     "text": [
      "0.0625 \n",
      "\n"
     ]
    },
    {
     "name": "stderr",
     "output_type": "stream",
     "text": [
      "MC paths: 100%|██████████| 30000/30000 [00:01<00:00, 15440.50it/s]\n",
      "MC paths: 100%|██████████| 30000/30000 [00:02<00:00, 14867.41it/s]\n",
      "MC paths: 100%|██████████| 30000/30000 [00:01<00:00, 16131.32it/s]\n",
      "MC paths: 100%|██████████| 30000/30000 [00:01<00:00, 17130.10it/s]\n"
     ]
    },
    {
     "name": "stdout",
     "output_type": "stream",
     "text": [
      "0.015625 \n",
      "\n"
     ]
    },
    {
     "name": "stderr",
     "output_type": "stream",
     "text": [
      "MC paths: 100%|██████████| 30000/30000 [00:07<00:00, 3812.24it/s]\n",
      "MC paths: 100%|██████████| 30000/30000 [00:09<00:00, 3095.93it/s]\n",
      "MC paths: 100%|██████████| 30000/30000 [00:07<00:00, 4095.95it/s]\n",
      "MC paths: 100%|██████████| 30000/30000 [00:07<00:00, 4106.21it/s]\n"
     ]
    },
    {
     "data": {
      "application/vnd.plotly.v1+json": {
       "config": {
        "plotlyServerURL": "https://plot.ly"
       },
       "data": [
        {
         "line": {
          "color": "black",
          "dash": "dot"
         },
         "mode": "lines",
         "name": "Exact baseline",
         "type": "scatter",
         "x": [
          0.25,
          0.0625,
          0.015625
         ],
         "y": [
          0.06571345192162645,
          0.06571345192162645,
          0.06571345192162645
         ]
        },
        {
         "error_y": {
          "array": [
           0.0006563467732479112,
           0.0006462761870394063,
           0.0006414218151633553
          ],
          "type": "data",
          "visible": true
         },
         "line": {
          "color": "#1f77b4"
         },
         "marker": {
          "color": "#1f77b4"
         },
         "mode": "lines+markers",
         "name": "Algorithm 1 - baseline",
         "type": "scatter",
         "x": [
          0.25,
          0.0625,
          0.015625
         ],
         "y": [
          0.06650476173349915,
          0.06630887582431211,
          0.06577166866192702
         ]
        },
        {
         "error_y": {
          "array": [
           0.0006443732558281153,
           0.0006309801610719295,
           0.0006380251625898367
          ],
          "type": "data",
          "visible": true
         },
         "line": {
          "color": "#ff7f0e"
         },
         "marker": {
          "color": "#ff7f0e"
         },
         "mode": "lines+markers",
         "name": "Algorithm 2 - baseline",
         "type": "scatter",
         "x": [
          0.25,
          0.0625,
          0.015625
         ],
         "y": [
          0.06258293015236856,
          0.06309999366852337,
          0.0645385281412933
         ]
        },
        {
         "line": {
          "color": "black",
          "dash": "dot"
         },
         "mode": "lines",
         "name": "Exact perturbed",
         "type": "scatter",
         "x": [
          0.25,
          0.0625,
          0.015625
         ],
         "y": [
          0.06970609704388833,
          0.06970609704388833,
          0.06970609704388833
         ]
        },
        {
         "error_y": {
          "array": [
           0.0006695468996476184,
           0.0006597376265164059,
           0.0006550010045078104
          ],
          "type": "data",
          "visible": true
         },
         "line": {
          "color": "#79add2"
         },
         "marker": {
          "color": "#79add2"
         },
         "mode": "lines+markers",
         "name": "Algorithm 1 - perturbed",
         "type": "scatter",
         "x": [
          0.25,
          0.0625,
          0.015625
         ],
         "y": [
          0.07050721829974176,
          0.07030390617013757,
          0.06975729891896928
         ]
        },
        {
         "error_y": {
          "array": [
           0.0006588250902193947,
           0.0006454279006509251,
           0.000651949279263891
          ],
          "type": "data",
          "visible": true
         },
         "line": {
          "color": "#ffb26e"
         },
         "marker": {
          "color": "#ffb26e"
         },
         "mode": "lines+markers",
         "name": "Algorithm 2 - perturbed",
         "type": "scatter",
         "x": [
          0.25,
          0.0625,
          0.015625
         ],
         "y": [
          0.06644304794112546,
          0.06699300333412538,
          0.06848406441946195
         ]
        }
       ],
       "layout": {
        "template": {
         "data": {
          "bar": [
           {
            "error_x": {
             "color": "rgb(36,36,36)"
            },
            "error_y": {
             "color": "rgb(36,36,36)"
            },
            "marker": {
             "line": {
              "color": "white",
              "width": 0.5
             },
             "pattern": {
              "fillmode": "overlay",
              "size": 10,
              "solidity": 0.2
             }
            },
            "type": "bar"
           }
          ],
          "barpolar": [
           {
            "marker": {
             "line": {
              "color": "white",
              "width": 0.5
             },
             "pattern": {
              "fillmode": "overlay",
              "size": 10,
              "solidity": 0.2
             }
            },
            "type": "barpolar"
           }
          ],
          "carpet": [
           {
            "aaxis": {
             "endlinecolor": "rgb(36,36,36)",
             "gridcolor": "white",
             "linecolor": "white",
             "minorgridcolor": "white",
             "startlinecolor": "rgb(36,36,36)"
            },
            "baxis": {
             "endlinecolor": "rgb(36,36,36)",
             "gridcolor": "white",
             "linecolor": "white",
             "minorgridcolor": "white",
             "startlinecolor": "rgb(36,36,36)"
            },
            "type": "carpet"
           }
          ],
          "choropleth": [
           {
            "colorbar": {
             "outlinewidth": 1,
             "tickcolor": "rgb(36,36,36)",
             "ticks": "outside"
            },
            "type": "choropleth"
           }
          ],
          "contour": [
           {
            "colorbar": {
             "outlinewidth": 1,
             "tickcolor": "rgb(36,36,36)",
             "ticks": "outside"
            },
            "colorscale": [
             [
              0,
              "#440154"
             ],
             [
              0.1111111111111111,
              "#482878"
             ],
             [
              0.2222222222222222,
              "#3e4989"
             ],
             [
              0.3333333333333333,
              "#31688e"
             ],
             [
              0.4444444444444444,
              "#26828e"
             ],
             [
              0.5555555555555556,
              "#1f9e89"
             ],
             [
              0.6666666666666666,
              "#35b779"
             ],
             [
              0.7777777777777778,
              "#6ece58"
             ],
             [
              0.8888888888888888,
              "#b5de2b"
             ],
             [
              1,
              "#fde725"
             ]
            ],
            "type": "contour"
           }
          ],
          "contourcarpet": [
           {
            "colorbar": {
             "outlinewidth": 1,
             "tickcolor": "rgb(36,36,36)",
             "ticks": "outside"
            },
            "type": "contourcarpet"
           }
          ],
          "heatmap": [
           {
            "colorbar": {
             "outlinewidth": 1,
             "tickcolor": "rgb(36,36,36)",
             "ticks": "outside"
            },
            "colorscale": [
             [
              0,
              "#440154"
             ],
             [
              0.1111111111111111,
              "#482878"
             ],
             [
              0.2222222222222222,
              "#3e4989"
             ],
             [
              0.3333333333333333,
              "#31688e"
             ],
             [
              0.4444444444444444,
              "#26828e"
             ],
             [
              0.5555555555555556,
              "#1f9e89"
             ],
             [
              0.6666666666666666,
              "#35b779"
             ],
             [
              0.7777777777777778,
              "#6ece58"
             ],
             [
              0.8888888888888888,
              "#b5de2b"
             ],
             [
              1,
              "#fde725"
             ]
            ],
            "type": "heatmap"
           }
          ],
          "heatmapgl": [
           {
            "colorbar": {
             "outlinewidth": 1,
             "tickcolor": "rgb(36,36,36)",
             "ticks": "outside"
            },
            "colorscale": [
             [
              0,
              "#440154"
             ],
             [
              0.1111111111111111,
              "#482878"
             ],
             [
              0.2222222222222222,
              "#3e4989"
             ],
             [
              0.3333333333333333,
              "#31688e"
             ],
             [
              0.4444444444444444,
              "#26828e"
             ],
             [
              0.5555555555555556,
              "#1f9e89"
             ],
             [
              0.6666666666666666,
              "#35b779"
             ],
             [
              0.7777777777777778,
              "#6ece58"
             ],
             [
              0.8888888888888888,
              "#b5de2b"
             ],
             [
              1,
              "#fde725"
             ]
            ],
            "type": "heatmapgl"
           }
          ],
          "histogram": [
           {
            "marker": {
             "line": {
              "color": "white",
              "width": 0.6
             }
            },
            "type": "histogram"
           }
          ],
          "histogram2d": [
           {
            "colorbar": {
             "outlinewidth": 1,
             "tickcolor": "rgb(36,36,36)",
             "ticks": "outside"
            },
            "colorscale": [
             [
              0,
              "#440154"
             ],
             [
              0.1111111111111111,
              "#482878"
             ],
             [
              0.2222222222222222,
              "#3e4989"
             ],
             [
              0.3333333333333333,
              "#31688e"
             ],
             [
              0.4444444444444444,
              "#26828e"
             ],
             [
              0.5555555555555556,
              "#1f9e89"
             ],
             [
              0.6666666666666666,
              "#35b779"
             ],
             [
              0.7777777777777778,
              "#6ece58"
             ],
             [
              0.8888888888888888,
              "#b5de2b"
             ],
             [
              1,
              "#fde725"
             ]
            ],
            "type": "histogram2d"
           }
          ],
          "histogram2dcontour": [
           {
            "colorbar": {
             "outlinewidth": 1,
             "tickcolor": "rgb(36,36,36)",
             "ticks": "outside"
            },
            "colorscale": [
             [
              0,
              "#440154"
             ],
             [
              0.1111111111111111,
              "#482878"
             ],
             [
              0.2222222222222222,
              "#3e4989"
             ],
             [
              0.3333333333333333,
              "#31688e"
             ],
             [
              0.4444444444444444,
              "#26828e"
             ],
             [
              0.5555555555555556,
              "#1f9e89"
             ],
             [
              0.6666666666666666,
              "#35b779"
             ],
             [
              0.7777777777777778,
              "#6ece58"
             ],
             [
              0.8888888888888888,
              "#b5de2b"
             ],
             [
              1,
              "#fde725"
             ]
            ],
            "type": "histogram2dcontour"
           }
          ],
          "mesh3d": [
           {
            "colorbar": {
             "outlinewidth": 1,
             "tickcolor": "rgb(36,36,36)",
             "ticks": "outside"
            },
            "type": "mesh3d"
           }
          ],
          "parcoords": [
           {
            "line": {
             "colorbar": {
              "outlinewidth": 1,
              "tickcolor": "rgb(36,36,36)",
              "ticks": "outside"
             }
            },
            "type": "parcoords"
           }
          ],
          "pie": [
           {
            "automargin": true,
            "type": "pie"
           }
          ],
          "scatter": [
           {
            "fillpattern": {
             "fillmode": "overlay",
             "size": 10,
             "solidity": 0.2
            },
            "type": "scatter"
           }
          ],
          "scatter3d": [
           {
            "line": {
             "colorbar": {
              "outlinewidth": 1,
              "tickcolor": "rgb(36,36,36)",
              "ticks": "outside"
             }
            },
            "marker": {
             "colorbar": {
              "outlinewidth": 1,
              "tickcolor": "rgb(36,36,36)",
              "ticks": "outside"
             }
            },
            "type": "scatter3d"
           }
          ],
          "scattercarpet": [
           {
            "marker": {
             "colorbar": {
              "outlinewidth": 1,
              "tickcolor": "rgb(36,36,36)",
              "ticks": "outside"
             }
            },
            "type": "scattercarpet"
           }
          ],
          "scattergeo": [
           {
            "marker": {
             "colorbar": {
              "outlinewidth": 1,
              "tickcolor": "rgb(36,36,36)",
              "ticks": "outside"
             }
            },
            "type": "scattergeo"
           }
          ],
          "scattergl": [
           {
            "marker": {
             "colorbar": {
              "outlinewidth": 1,
              "tickcolor": "rgb(36,36,36)",
              "ticks": "outside"
             }
            },
            "type": "scattergl"
           }
          ],
          "scattermapbox": [
           {
            "marker": {
             "colorbar": {
              "outlinewidth": 1,
              "tickcolor": "rgb(36,36,36)",
              "ticks": "outside"
             }
            },
            "type": "scattermapbox"
           }
          ],
          "scatterpolar": [
           {
            "marker": {
             "colorbar": {
              "outlinewidth": 1,
              "tickcolor": "rgb(36,36,36)",
              "ticks": "outside"
             }
            },
            "type": "scatterpolar"
           }
          ],
          "scatterpolargl": [
           {
            "marker": {
             "colorbar": {
              "outlinewidth": 1,
              "tickcolor": "rgb(36,36,36)",
              "ticks": "outside"
             }
            },
            "type": "scatterpolargl"
           }
          ],
          "scatterternary": [
           {
            "marker": {
             "colorbar": {
              "outlinewidth": 1,
              "tickcolor": "rgb(36,36,36)",
              "ticks": "outside"
             }
            },
            "type": "scatterternary"
           }
          ],
          "surface": [
           {
            "colorbar": {
             "outlinewidth": 1,
             "tickcolor": "rgb(36,36,36)",
             "ticks": "outside"
            },
            "colorscale": [
             [
              0,
              "#440154"
             ],
             [
              0.1111111111111111,
              "#482878"
             ],
             [
              0.2222222222222222,
              "#3e4989"
             ],
             [
              0.3333333333333333,
              "#31688e"
             ],
             [
              0.4444444444444444,
              "#26828e"
             ],
             [
              0.5555555555555556,
              "#1f9e89"
             ],
             [
              0.6666666666666666,
              "#35b779"
             ],
             [
              0.7777777777777778,
              "#6ece58"
             ],
             [
              0.8888888888888888,
              "#b5de2b"
             ],
             [
              1,
              "#fde725"
             ]
            ],
            "type": "surface"
           }
          ],
          "table": [
           {
            "cells": {
             "fill": {
              "color": "rgb(237,237,237)"
             },
             "line": {
              "color": "white"
             }
            },
            "header": {
             "fill": {
              "color": "rgb(217,217,217)"
             },
             "line": {
              "color": "white"
             }
            },
            "type": "table"
           }
          ]
         },
         "layout": {
          "annotationdefaults": {
           "arrowhead": 0,
           "arrowwidth": 1
          },
          "autotypenumbers": "strict",
          "coloraxis": {
           "colorbar": {
            "outlinewidth": 1,
            "tickcolor": "rgb(36,36,36)",
            "ticks": "outside"
           }
          },
          "colorscale": {
           "diverging": [
            [
             0,
             "rgb(103,0,31)"
            ],
            [
             0.1,
             "rgb(178,24,43)"
            ],
            [
             0.2,
             "rgb(214,96,77)"
            ],
            [
             0.3,
             "rgb(244,165,130)"
            ],
            [
             0.4,
             "rgb(253,219,199)"
            ],
            [
             0.5,
             "rgb(247,247,247)"
            ],
            [
             0.6,
             "rgb(209,229,240)"
            ],
            [
             0.7,
             "rgb(146,197,222)"
            ],
            [
             0.8,
             "rgb(67,147,195)"
            ],
            [
             0.9,
             "rgb(33,102,172)"
            ],
            [
             1,
             "rgb(5,48,97)"
            ]
           ],
           "sequential": [
            [
             0,
             "#440154"
            ],
            [
             0.1111111111111111,
             "#482878"
            ],
            [
             0.2222222222222222,
             "#3e4989"
            ],
            [
             0.3333333333333333,
             "#31688e"
            ],
            [
             0.4444444444444444,
             "#26828e"
            ],
            [
             0.5555555555555556,
             "#1f9e89"
            ],
            [
             0.6666666666666666,
             "#35b779"
            ],
            [
             0.7777777777777778,
             "#6ece58"
            ],
            [
             0.8888888888888888,
             "#b5de2b"
            ],
            [
             1,
             "#fde725"
            ]
           ],
           "sequentialminus": [
            [
             0,
             "#440154"
            ],
            [
             0.1111111111111111,
             "#482878"
            ],
            [
             0.2222222222222222,
             "#3e4989"
            ],
            [
             0.3333333333333333,
             "#31688e"
            ],
            [
             0.4444444444444444,
             "#26828e"
            ],
            [
             0.5555555555555556,
             "#1f9e89"
            ],
            [
             0.6666666666666666,
             "#35b779"
            ],
            [
             0.7777777777777778,
             "#6ece58"
            ],
            [
             0.8888888888888888,
             "#b5de2b"
            ],
            [
             1,
             "#fde725"
            ]
           ]
          },
          "colorway": [
           "#1F77B4",
           "#FF7F0E",
           "#2CA02C",
           "#D62728",
           "#9467BD",
           "#8C564B",
           "#E377C2",
           "#7F7F7F",
           "#BCBD22",
           "#17BECF"
          ],
          "font": {
           "color": "rgb(36,36,36)"
          },
          "geo": {
           "bgcolor": "white",
           "lakecolor": "white",
           "landcolor": "white",
           "showlakes": true,
           "showland": true,
           "subunitcolor": "white"
          },
          "hoverlabel": {
           "align": "left"
          },
          "hovermode": "closest",
          "mapbox": {
           "style": "light"
          },
          "paper_bgcolor": "white",
          "plot_bgcolor": "white",
          "polar": {
           "angularaxis": {
            "gridcolor": "rgb(232,232,232)",
            "linecolor": "rgb(36,36,36)",
            "showgrid": false,
            "showline": true,
            "ticks": "outside"
           },
           "bgcolor": "white",
           "radialaxis": {
            "gridcolor": "rgb(232,232,232)",
            "linecolor": "rgb(36,36,36)",
            "showgrid": false,
            "showline": true,
            "ticks": "outside"
           }
          },
          "scene": {
           "xaxis": {
            "backgroundcolor": "white",
            "gridcolor": "rgb(232,232,232)",
            "gridwidth": 2,
            "linecolor": "rgb(36,36,36)",
            "showbackground": true,
            "showgrid": false,
            "showline": true,
            "ticks": "outside",
            "zeroline": false,
            "zerolinecolor": "rgb(36,36,36)"
           },
           "yaxis": {
            "backgroundcolor": "white",
            "gridcolor": "rgb(232,232,232)",
            "gridwidth": 2,
            "linecolor": "rgb(36,36,36)",
            "showbackground": true,
            "showgrid": false,
            "showline": true,
            "ticks": "outside",
            "zeroline": false,
            "zerolinecolor": "rgb(36,36,36)"
           },
           "zaxis": {
            "backgroundcolor": "white",
            "gridcolor": "rgb(232,232,232)",
            "gridwidth": 2,
            "linecolor": "rgb(36,36,36)",
            "showbackground": true,
            "showgrid": false,
            "showline": true,
            "ticks": "outside",
            "zeroline": false,
            "zerolinecolor": "rgb(36,36,36)"
           }
          },
          "shapedefaults": {
           "fillcolor": "black",
           "line": {
            "width": 0
           },
           "opacity": 0.3
          },
          "ternary": {
           "aaxis": {
            "gridcolor": "rgb(232,232,232)",
            "linecolor": "rgb(36,36,36)",
            "showgrid": false,
            "showline": true,
            "ticks": "outside"
           },
           "baxis": {
            "gridcolor": "rgb(232,232,232)",
            "linecolor": "rgb(36,36,36)",
            "showgrid": false,
            "showline": true,
            "ticks": "outside"
           },
           "bgcolor": "white",
           "caxis": {
            "gridcolor": "rgb(232,232,232)",
            "linecolor": "rgb(36,36,36)",
            "showgrid": false,
            "showline": true,
            "ticks": "outside"
           }
          },
          "title": {
           "x": 0.05
          },
          "xaxis": {
           "automargin": true,
           "gridcolor": "rgb(232,232,232)",
           "linecolor": "rgb(36,36,36)",
           "showgrid": false,
           "showline": true,
           "ticks": "outside",
           "title": {
            "standoff": 15
           },
           "zeroline": false,
           "zerolinecolor": "rgb(36,36,36)"
          },
          "yaxis": {
           "automargin": true,
           "gridcolor": "rgb(232,232,232)",
           "linecolor": "rgb(36,36,36)",
           "showgrid": false,
           "showline": true,
           "ticks": "outside",
           "title": {
            "standoff": 15
           },
           "zeroline": false,
           "zerolinecolor": "rgb(36,36,36)"
          }
         }
        },
        "title": {
         "text": "Caplet price sensitivity to K<br><span style='font-size:12px;'>K=0.01 vs K_=0.005 <br> (N_paths = 30000)</span>",
         "x": 0.5,
         "xanchor": "center"
        }
       }
      }
     },
     "metadata": {},
     "output_type": "display_data"
    }
   ],
   "source": [
    "results_algo2 = []\n",
    "results_algo2_ = []\n",
    "results_algo1 = []\n",
    "results_algo1_ = []\n",
    "\n",
    "for h in h_list:\n",
    "    print(h, \"\\n\")\n",
    "    p, se = simulate_algo2(L0, H, K, sigma, T, h, N_paths)\n",
    "    results_algo2.append({\n",
    "        'h': h,\n",
    "        'Price': p,\n",
    "        'CI': 1.96*se\n",
    "    })\n",
    "    p, se = simulate_algo2(L0, H, K_, sigma, T, h, N_paths)\n",
    "    results_algo2_.append({\n",
    "        'h': h,\n",
    "        'Price': p,\n",
    "        'CI': 1.96*se\n",
    "    })\n",
    "    p, se, _ = simulate_algo1(L0, H, K, sigma, T, h, N_paths)\n",
    "    results_algo1.append({\n",
    "        'h': h,\n",
    "        'Price': p,\n",
    "        'CI': 1.96*se\n",
    "    })\n",
    "    p, se, _ = simulate_algo1(L0, H, K_, sigma, T, h, N_paths)\n",
    "    results_algo1_.append({\n",
    "        'h': h,\n",
    "        'Price': p,\n",
    "        'CI': 1.96*se\n",
    "    })\n",
    "\n",
    "exact = analytic_vtilde_caplet(L0, H, K, sigma, T)\n",
    "exact_ = analytic_vtilde_caplet(L0, H, K_, sigma, T)\n",
    "\n",
    "# Prepare figure\n",
    "fig = go.Figure()\n",
    "\n",
    "###### Baselines\n",
    "fig.add_trace(go.Scatter(\n",
    "    x=[d['h'] for d in results_algo1],   # or use a combined h-list like [0.25,0.125,0.0625]\n",
    "    y=[exact]*len(results_algo1),\n",
    "    mode='lines',\n",
    "    line=dict(dash='dot', color='black'),\n",
    "    name='Exact baseline'\n",
    "))\n",
    "\n",
    "fig.add_trace(go.Scatter(\n",
    "    x=[d['h'] for d in results_algo1],\n",
    "    y=[d['Price'] for d in results_algo1],\n",
    "    mode='lines+markers',\n",
    "    error_y=dict(type='data', array=[d['CI'] for d in results_algo1], visible=True),\n",
    "    line=dict(color=blue_hex),\n",
    "    marker=dict(color=blue_hex),\n",
    "    name='Algorithm 1 - baseline'\n",
    "))\n",
    "\n",
    "fig.add_trace(go.Scatter(\n",
    "    x=[d['h'] for d in results_algo2],\n",
    "    y=[d['Price'] for d in results_algo2],\n",
    "    mode='lines+markers',\n",
    "    error_y=dict(type='data', array=[d['CI'] for d in results_algo2], visible=True),\n",
    "    line=dict(color=orange_hex),\n",
    "    marker=dict(color=orange_hex),\n",
    "    name='Algorithm 2 - baseline'\n",
    "))\n",
    "\n",
    "###### Perturbed\n",
    "\n",
    "fig.add_trace(go.Scatter(\n",
    "    x=[d['h'] for d in results_algo1_],   # or use a combined h-list like [0.25,0.125,0.0625]\n",
    "    y=[exact_]*len(results_algo1_),\n",
    "    mode='lines',\n",
    "    line=dict(dash='dot', color='black'),\n",
    "    name='Exact perturbed'\n",
    "))\n",
    "\n",
    "fig.add_trace(go.Scatter(\n",
    "    x=[d['h'] for d in results_algo1_],\n",
    "    y=[d['Price'] for d in results_algo1_],\n",
    "    mode='lines+markers',\n",
    "    error_y=dict(type='data', array=[d['CI'] for d in results_algo1_], visible=True),\n",
    "    line=dict(color=blue_pastel_hex),\n",
    "    marker=dict(color=blue_pastel_hex),\n",
    "    name='Algorithm 1 - perturbed'\n",
    "))\n",
    "\n",
    "fig.add_trace(go.Scatter(\n",
    "    x=[d['h'] for d in results_algo2_],\n",
    "    y=[d['Price'] for d in results_algo2_],\n",
    "    mode='lines+markers',\n",
    "    error_y=dict(type='data', array=[d['CI'] for d in results_algo2_], visible=True),\n",
    "    line=dict(color=orange_pastel_hex),\n",
    "    marker=dict(color=orange_pastel_hex),\n",
    "    name='Algorithm 2 - perturbed'\n",
    "))\n",
    "\n",
    "\n",
    "###### General layout\n",
    "\n",
    "fig.update_layout(\n",
    "    template=\"simple_white\",\n",
    "    title={\n",
    "        \"text\": (\n",
    "            # main title in default size:\n",
    "            \"Caplet price sensitivity to K<br>\"\n",
    "            # parameters in a smaller span (e.g. 12px):\n",
    "            f\"<span style='font-size:12px;'>\"\n",
    "            f\"K={K} vs K_={K_} <br> (N_paths = {N_paths})\"\n",
    "            \"</span>\"\n",
    "        ),\n",
    "        \"x\": 0.5,\n",
    "        \"xanchor\": \"center\"\n",
    "    }\n",
    ")\n",
    "\n",
    "fig.show()"
   ]
  },
  {
   "cell_type": "code",
   "execution_count": null,
   "id": "92ef755d",
   "metadata": {},
   "outputs": [
    {
     "name": "stdout",
     "output_type": "stream",
     "text": [
      "0.25 \n",
      "\n"
     ]
    },
    {
     "name": "stderr",
     "output_type": "stream",
     "text": [
      "MC paths: 100%|██████████| 30000/30000 [00:00<00:00, 59728.95it/s]\n",
      "MC paths: 100%|██████████| 30000/30000 [00:00<00:00, 62861.60it/s]\n",
      "MC paths: 100%|██████████| 30000/30000 [00:00<00:00, 59583.63it/s]\n",
      "MC paths: 100%|██████████| 30000/30000 [00:00<00:00, 67339.79it/s]\n"
     ]
    },
    {
     "name": "stdout",
     "output_type": "stream",
     "text": [
      "0.0625 \n",
      "\n"
     ]
    },
    {
     "name": "stderr",
     "output_type": "stream",
     "text": [
      "MC paths: 100%|██████████| 30000/30000 [00:01<00:00, 15747.10it/s]\n",
      "MC paths: 100%|██████████| 30000/30000 [00:01<00:00, 16810.07it/s]\n",
      "MC paths: 100%|██████████| 30000/30000 [00:01<00:00, 16610.18it/s]\n",
      "MC paths: 100%|██████████| 30000/30000 [00:01<00:00, 18310.56it/s]\n"
     ]
    },
    {
     "name": "stdout",
     "output_type": "stream",
     "text": [
      "0.015625 \n",
      "\n"
     ]
    },
    {
     "name": "stderr",
     "output_type": "stream",
     "text": [
      "MC paths: 100%|██████████| 30000/30000 [00:07<00:00, 3976.36it/s]\n",
      "MC paths: 100%|██████████| 30000/30000 [00:07<00:00, 4071.33it/s]\n",
      "MC paths: 100%|██████████| 30000/30000 [00:07<00:00, 4163.82it/s]\n",
      "MC paths: 100%|██████████| 30000/30000 [00:06<00:00, 4370.72it/s]\n"
     ]
    },
    {
     "data": {
      "application/vnd.plotly.v1+json": {
       "config": {
        "plotlyServerURL": "https://plot.ly"
       },
       "data": [
        {
         "line": {
          "color": "black",
          "dash": "dot"
         },
         "mode": "lines",
         "name": "Exact baseline",
         "type": "scatter",
         "x": [
          0.25,
          0.0625,
          0.015625
         ],
         "y": [
          0.06571345192162645,
          0.06571345192162645,
          0.06571345192162645
         ]
        },
        {
         "error_y": {
          "array": [
           0.0006563467732479112,
           0.0006462761870394063,
           0.0006414218151633553
          ],
          "type": "data",
          "visible": true
         },
         "line": {
          "color": "#1f77b4"
         },
         "marker": {
          "color": "#1f77b4"
         },
         "mode": "lines+markers",
         "name": "Algorithm 1 - baseline",
         "type": "scatter",
         "x": [
          0.25,
          0.0625,
          0.015625
         ],
         "y": [
          0.06650476173349915,
          0.06630887582431211,
          0.06577166866192702
         ]
        },
        {
         "error_y": {
          "array": [
           0.0006443732558281153,
           0.0006309801610719295,
           0.0006380251625898367
          ],
          "type": "data",
          "visible": true
         },
         "line": {
          "color": "#ff7f0e"
         },
         "marker": {
          "color": "#ff7f0e"
         },
         "mode": "lines+markers",
         "name": "Algorithm 2 - baseline",
         "type": "scatter",
         "x": [
          0.25,
          0.0625,
          0.015625
         ],
         "y": [
          0.06258293015236856,
          0.06309999366852337,
          0.0645385281412933
         ]
        },
        {
         "line": {
          "color": "black",
          "dash": "dot"
         },
         "mode": "lines",
         "name": "Exact perturbed",
         "type": "scatter",
         "x": [
          0.25,
          0.0625,
          0.015625
         ],
         "y": [
          0.05091900719007295,
          0.05091900719007295,
          0.05091900719007295
         ]
        },
        {
         "error_y": {
          "array": [
           0.0005930101097315838,
           0.0005989862472053245,
           0.0006022316020130974
          ],
          "type": "data",
          "visible": true
         },
         "line": {
          "color": "#79add2"
         },
         "marker": {
          "color": "#79add2"
         },
         "mode": "lines+markers",
         "name": "Algorithm 1 - perturbed",
         "type": "scatter",
         "x": [
          0.25,
          0.0625,
          0.015625
         ],
         "y": [
          0.050011507709940145,
          0.05062455028028368,
          0.05078189870248079
         ]
        },
        {
         "error_y": {
          "array": [
           0.0006016652256989925,
           0.0005978557224543988,
           0.0005962948566574048
          ],
          "type": "data",
          "visible": true
         },
         "line": {
          "color": "#ffb26e"
         },
         "marker": {
          "color": "#ffb26e"
         },
         "mode": "lines+markers",
         "name": "Algorithm 2 - perturbed",
         "type": "scatter",
         "x": [
          0.25,
          0.0625,
          0.015625
         ],
         "y": [
          0.04746693657580897,
          0.04912196054965784,
          0.04975023290613407
         ]
        }
       ],
       "layout": {
        "template": {
         "data": {
          "bar": [
           {
            "error_x": {
             "color": "rgb(36,36,36)"
            },
            "error_y": {
             "color": "rgb(36,36,36)"
            },
            "marker": {
             "line": {
              "color": "white",
              "width": 0.5
             },
             "pattern": {
              "fillmode": "overlay",
              "size": 10,
              "solidity": 0.2
             }
            },
            "type": "bar"
           }
          ],
          "barpolar": [
           {
            "marker": {
             "line": {
              "color": "white",
              "width": 0.5
             },
             "pattern": {
              "fillmode": "overlay",
              "size": 10,
              "solidity": 0.2
             }
            },
            "type": "barpolar"
           }
          ],
          "carpet": [
           {
            "aaxis": {
             "endlinecolor": "rgb(36,36,36)",
             "gridcolor": "white",
             "linecolor": "white",
             "minorgridcolor": "white",
             "startlinecolor": "rgb(36,36,36)"
            },
            "baxis": {
             "endlinecolor": "rgb(36,36,36)",
             "gridcolor": "white",
             "linecolor": "white",
             "minorgridcolor": "white",
             "startlinecolor": "rgb(36,36,36)"
            },
            "type": "carpet"
           }
          ],
          "choropleth": [
           {
            "colorbar": {
             "outlinewidth": 1,
             "tickcolor": "rgb(36,36,36)",
             "ticks": "outside"
            },
            "type": "choropleth"
           }
          ],
          "contour": [
           {
            "colorbar": {
             "outlinewidth": 1,
             "tickcolor": "rgb(36,36,36)",
             "ticks": "outside"
            },
            "colorscale": [
             [
              0,
              "#440154"
             ],
             [
              0.1111111111111111,
              "#482878"
             ],
             [
              0.2222222222222222,
              "#3e4989"
             ],
             [
              0.3333333333333333,
              "#31688e"
             ],
             [
              0.4444444444444444,
              "#26828e"
             ],
             [
              0.5555555555555556,
              "#1f9e89"
             ],
             [
              0.6666666666666666,
              "#35b779"
             ],
             [
              0.7777777777777778,
              "#6ece58"
             ],
             [
              0.8888888888888888,
              "#b5de2b"
             ],
             [
              1,
              "#fde725"
             ]
            ],
            "type": "contour"
           }
          ],
          "contourcarpet": [
           {
            "colorbar": {
             "outlinewidth": 1,
             "tickcolor": "rgb(36,36,36)",
             "ticks": "outside"
            },
            "type": "contourcarpet"
           }
          ],
          "heatmap": [
           {
            "colorbar": {
             "outlinewidth": 1,
             "tickcolor": "rgb(36,36,36)",
             "ticks": "outside"
            },
            "colorscale": [
             [
              0,
              "#440154"
             ],
             [
              0.1111111111111111,
              "#482878"
             ],
             [
              0.2222222222222222,
              "#3e4989"
             ],
             [
              0.3333333333333333,
              "#31688e"
             ],
             [
              0.4444444444444444,
              "#26828e"
             ],
             [
              0.5555555555555556,
              "#1f9e89"
             ],
             [
              0.6666666666666666,
              "#35b779"
             ],
             [
              0.7777777777777778,
              "#6ece58"
             ],
             [
              0.8888888888888888,
              "#b5de2b"
             ],
             [
              1,
              "#fde725"
             ]
            ],
            "type": "heatmap"
           }
          ],
          "heatmapgl": [
           {
            "colorbar": {
             "outlinewidth": 1,
             "tickcolor": "rgb(36,36,36)",
             "ticks": "outside"
            },
            "colorscale": [
             [
              0,
              "#440154"
             ],
             [
              0.1111111111111111,
              "#482878"
             ],
             [
              0.2222222222222222,
              "#3e4989"
             ],
             [
              0.3333333333333333,
              "#31688e"
             ],
             [
              0.4444444444444444,
              "#26828e"
             ],
             [
              0.5555555555555556,
              "#1f9e89"
             ],
             [
              0.6666666666666666,
              "#35b779"
             ],
             [
              0.7777777777777778,
              "#6ece58"
             ],
             [
              0.8888888888888888,
              "#b5de2b"
             ],
             [
              1,
              "#fde725"
             ]
            ],
            "type": "heatmapgl"
           }
          ],
          "histogram": [
           {
            "marker": {
             "line": {
              "color": "white",
              "width": 0.6
             }
            },
            "type": "histogram"
           }
          ],
          "histogram2d": [
           {
            "colorbar": {
             "outlinewidth": 1,
             "tickcolor": "rgb(36,36,36)",
             "ticks": "outside"
            },
            "colorscale": [
             [
              0,
              "#440154"
             ],
             [
              0.1111111111111111,
              "#482878"
             ],
             [
              0.2222222222222222,
              "#3e4989"
             ],
             [
              0.3333333333333333,
              "#31688e"
             ],
             [
              0.4444444444444444,
              "#26828e"
             ],
             [
              0.5555555555555556,
              "#1f9e89"
             ],
             [
              0.6666666666666666,
              "#35b779"
             ],
             [
              0.7777777777777778,
              "#6ece58"
             ],
             [
              0.8888888888888888,
              "#b5de2b"
             ],
             [
              1,
              "#fde725"
             ]
            ],
            "type": "histogram2d"
           }
          ],
          "histogram2dcontour": [
           {
            "colorbar": {
             "outlinewidth": 1,
             "tickcolor": "rgb(36,36,36)",
             "ticks": "outside"
            },
            "colorscale": [
             [
              0,
              "#440154"
             ],
             [
              0.1111111111111111,
              "#482878"
             ],
             [
              0.2222222222222222,
              "#3e4989"
             ],
             [
              0.3333333333333333,
              "#31688e"
             ],
             [
              0.4444444444444444,
              "#26828e"
             ],
             [
              0.5555555555555556,
              "#1f9e89"
             ],
             [
              0.6666666666666666,
              "#35b779"
             ],
             [
              0.7777777777777778,
              "#6ece58"
             ],
             [
              0.8888888888888888,
              "#b5de2b"
             ],
             [
              1,
              "#fde725"
             ]
            ],
            "type": "histogram2dcontour"
           }
          ],
          "mesh3d": [
           {
            "colorbar": {
             "outlinewidth": 1,
             "tickcolor": "rgb(36,36,36)",
             "ticks": "outside"
            },
            "type": "mesh3d"
           }
          ],
          "parcoords": [
           {
            "line": {
             "colorbar": {
              "outlinewidth": 1,
              "tickcolor": "rgb(36,36,36)",
              "ticks": "outside"
             }
            },
            "type": "parcoords"
           }
          ],
          "pie": [
           {
            "automargin": true,
            "type": "pie"
           }
          ],
          "scatter": [
           {
            "fillpattern": {
             "fillmode": "overlay",
             "size": 10,
             "solidity": 0.2
            },
            "type": "scatter"
           }
          ],
          "scatter3d": [
           {
            "line": {
             "colorbar": {
              "outlinewidth": 1,
              "tickcolor": "rgb(36,36,36)",
              "ticks": "outside"
             }
            },
            "marker": {
             "colorbar": {
              "outlinewidth": 1,
              "tickcolor": "rgb(36,36,36)",
              "ticks": "outside"
             }
            },
            "type": "scatter3d"
           }
          ],
          "scattercarpet": [
           {
            "marker": {
             "colorbar": {
              "outlinewidth": 1,
              "tickcolor": "rgb(36,36,36)",
              "ticks": "outside"
             }
            },
            "type": "scattercarpet"
           }
          ],
          "scattergeo": [
           {
            "marker": {
             "colorbar": {
              "outlinewidth": 1,
              "tickcolor": "rgb(36,36,36)",
              "ticks": "outside"
             }
            },
            "type": "scattergeo"
           }
          ],
          "scattergl": [
           {
            "marker": {
             "colorbar": {
              "outlinewidth": 1,
              "tickcolor": "rgb(36,36,36)",
              "ticks": "outside"
             }
            },
            "type": "scattergl"
           }
          ],
          "scattermapbox": [
           {
            "marker": {
             "colorbar": {
              "outlinewidth": 1,
              "tickcolor": "rgb(36,36,36)",
              "ticks": "outside"
             }
            },
            "type": "scattermapbox"
           }
          ],
          "scatterpolar": [
           {
            "marker": {
             "colorbar": {
              "outlinewidth": 1,
              "tickcolor": "rgb(36,36,36)",
              "ticks": "outside"
             }
            },
            "type": "scatterpolar"
           }
          ],
          "scatterpolargl": [
           {
            "marker": {
             "colorbar": {
              "outlinewidth": 1,
              "tickcolor": "rgb(36,36,36)",
              "ticks": "outside"
             }
            },
            "type": "scatterpolargl"
           }
          ],
          "scatterternary": [
           {
            "marker": {
             "colorbar": {
              "outlinewidth": 1,
              "tickcolor": "rgb(36,36,36)",
              "ticks": "outside"
             }
            },
            "type": "scatterternary"
           }
          ],
          "surface": [
           {
            "colorbar": {
             "outlinewidth": 1,
             "tickcolor": "rgb(36,36,36)",
             "ticks": "outside"
            },
            "colorscale": [
             [
              0,
              "#440154"
             ],
             [
              0.1111111111111111,
              "#482878"
             ],
             [
              0.2222222222222222,
              "#3e4989"
             ],
             [
              0.3333333333333333,
              "#31688e"
             ],
             [
              0.4444444444444444,
              "#26828e"
             ],
             [
              0.5555555555555556,
              "#1f9e89"
             ],
             [
              0.6666666666666666,
              "#35b779"
             ],
             [
              0.7777777777777778,
              "#6ece58"
             ],
             [
              0.8888888888888888,
              "#b5de2b"
             ],
             [
              1,
              "#fde725"
             ]
            ],
            "type": "surface"
           }
          ],
          "table": [
           {
            "cells": {
             "fill": {
              "color": "rgb(237,237,237)"
             },
             "line": {
              "color": "white"
             }
            },
            "header": {
             "fill": {
              "color": "rgb(217,217,217)"
             },
             "line": {
              "color": "white"
             }
            },
            "type": "table"
           }
          ]
         },
         "layout": {
          "annotationdefaults": {
           "arrowhead": 0,
           "arrowwidth": 1
          },
          "autotypenumbers": "strict",
          "coloraxis": {
           "colorbar": {
            "outlinewidth": 1,
            "tickcolor": "rgb(36,36,36)",
            "ticks": "outside"
           }
          },
          "colorscale": {
           "diverging": [
            [
             0,
             "rgb(103,0,31)"
            ],
            [
             0.1,
             "rgb(178,24,43)"
            ],
            [
             0.2,
             "rgb(214,96,77)"
            ],
            [
             0.3,
             "rgb(244,165,130)"
            ],
            [
             0.4,
             "rgb(253,219,199)"
            ],
            [
             0.5,
             "rgb(247,247,247)"
            ],
            [
             0.6,
             "rgb(209,229,240)"
            ],
            [
             0.7,
             "rgb(146,197,222)"
            ],
            [
             0.8,
             "rgb(67,147,195)"
            ],
            [
             0.9,
             "rgb(33,102,172)"
            ],
            [
             1,
             "rgb(5,48,97)"
            ]
           ],
           "sequential": [
            [
             0,
             "#440154"
            ],
            [
             0.1111111111111111,
             "#482878"
            ],
            [
             0.2222222222222222,
             "#3e4989"
            ],
            [
             0.3333333333333333,
             "#31688e"
            ],
            [
             0.4444444444444444,
             "#26828e"
            ],
            [
             0.5555555555555556,
             "#1f9e89"
            ],
            [
             0.6666666666666666,
             "#35b779"
            ],
            [
             0.7777777777777778,
             "#6ece58"
            ],
            [
             0.8888888888888888,
             "#b5de2b"
            ],
            [
             1,
             "#fde725"
            ]
           ],
           "sequentialminus": [
            [
             0,
             "#440154"
            ],
            [
             0.1111111111111111,
             "#482878"
            ],
            [
             0.2222222222222222,
             "#3e4989"
            ],
            [
             0.3333333333333333,
             "#31688e"
            ],
            [
             0.4444444444444444,
             "#26828e"
            ],
            [
             0.5555555555555556,
             "#1f9e89"
            ],
            [
             0.6666666666666666,
             "#35b779"
            ],
            [
             0.7777777777777778,
             "#6ece58"
            ],
            [
             0.8888888888888888,
             "#b5de2b"
            ],
            [
             1,
             "#fde725"
            ]
           ]
          },
          "colorway": [
           "#1F77B4",
           "#FF7F0E",
           "#2CA02C",
           "#D62728",
           "#9467BD",
           "#8C564B",
           "#E377C2",
           "#7F7F7F",
           "#BCBD22",
           "#17BECF"
          ],
          "font": {
           "color": "rgb(36,36,36)"
          },
          "geo": {
           "bgcolor": "white",
           "lakecolor": "white",
           "landcolor": "white",
           "showlakes": true,
           "showland": true,
           "subunitcolor": "white"
          },
          "hoverlabel": {
           "align": "left"
          },
          "hovermode": "closest",
          "mapbox": {
           "style": "light"
          },
          "paper_bgcolor": "white",
          "plot_bgcolor": "white",
          "polar": {
           "angularaxis": {
            "gridcolor": "rgb(232,232,232)",
            "linecolor": "rgb(36,36,36)",
            "showgrid": false,
            "showline": true,
            "ticks": "outside"
           },
           "bgcolor": "white",
           "radialaxis": {
            "gridcolor": "rgb(232,232,232)",
            "linecolor": "rgb(36,36,36)",
            "showgrid": false,
            "showline": true,
            "ticks": "outside"
           }
          },
          "scene": {
           "xaxis": {
            "backgroundcolor": "white",
            "gridcolor": "rgb(232,232,232)",
            "gridwidth": 2,
            "linecolor": "rgb(36,36,36)",
            "showbackground": true,
            "showgrid": false,
            "showline": true,
            "ticks": "outside",
            "zeroline": false,
            "zerolinecolor": "rgb(36,36,36)"
           },
           "yaxis": {
            "backgroundcolor": "white",
            "gridcolor": "rgb(232,232,232)",
            "gridwidth": 2,
            "linecolor": "rgb(36,36,36)",
            "showbackground": true,
            "showgrid": false,
            "showline": true,
            "ticks": "outside",
            "zeroline": false,
            "zerolinecolor": "rgb(36,36,36)"
           },
           "zaxis": {
            "backgroundcolor": "white",
            "gridcolor": "rgb(232,232,232)",
            "gridwidth": 2,
            "linecolor": "rgb(36,36,36)",
            "showbackground": true,
            "showgrid": false,
            "showline": true,
            "ticks": "outside",
            "zeroline": false,
            "zerolinecolor": "rgb(36,36,36)"
           }
          },
          "shapedefaults": {
           "fillcolor": "black",
           "line": {
            "width": 0
           },
           "opacity": 0.3
          },
          "ternary": {
           "aaxis": {
            "gridcolor": "rgb(232,232,232)",
            "linecolor": "rgb(36,36,36)",
            "showgrid": false,
            "showline": true,
            "ticks": "outside"
           },
           "baxis": {
            "gridcolor": "rgb(232,232,232)",
            "linecolor": "rgb(36,36,36)",
            "showgrid": false,
            "showline": true,
            "ticks": "outside"
           },
           "bgcolor": "white",
           "caxis": {
            "gridcolor": "rgb(232,232,232)",
            "linecolor": "rgb(36,36,36)",
            "showgrid": false,
            "showline": true,
            "ticks": "outside"
           }
          },
          "title": {
           "x": 0.05
          },
          "xaxis": {
           "automargin": true,
           "gridcolor": "rgb(232,232,232)",
           "linecolor": "rgb(36,36,36)",
           "showgrid": false,
           "showline": true,
           "ticks": "outside",
           "title": {
            "standoff": 15
           },
           "zeroline": false,
           "zerolinecolor": "rgb(36,36,36)"
          },
          "yaxis": {
           "automargin": true,
           "gridcolor": "rgb(232,232,232)",
           "linecolor": "rgb(36,36,36)",
           "showgrid": false,
           "showline": true,
           "ticks": "outside",
           "title": {
            "standoff": 15
           },
           "zeroline": false,
           "zerolinecolor": "rgb(36,36,36)"
          }
         }
        },
        "title": {
         "text": "Caplet price sensitivity to sigma<br><span style='font-size:12px;'>sigma=0.25 vs sigma_=0.3 <br> (N_paths = 30000)</span>",
         "x": 0.5,
         "xanchor": "center"
        }
       }
      }
     },
     "metadata": {},
     "output_type": "display_data"
    }
   ],
   "source": [
    "results_algo2 = []\n",
    "results_algo2_ = []\n",
    "results_algo1 = []\n",
    "results_algo1_ = []\n",
    "\n",
    "for h in h_list:\n",
    "    print(h, \"\\n\")\n",
    "    p, se = simulate_algo2(L0, H, K, sigma, T, h, N_paths)\n",
    "    results_algo2.append({\n",
    "        'h': h,\n",
    "        'Price': p,\n",
    "        'CI': 1.96*se\n",
    "    })\n",
    "    p, se = simulate_algo2(L0, H, K, sigma_, T, h, N_paths)\n",
    "    results_algo2_.append({\n",
    "        'h': h,\n",
    "        'Price': p,\n",
    "        'CI': 1.96*se\n",
    "    })\n",
    "    p, se, _ = simulate_algo1(L0, H, K, sigma, T, h, N_paths)\n",
    "    results_algo1.append({\n",
    "        'h': h,\n",
    "        'Price': p,\n",
    "        'CI': 1.96*se\n",
    "    })\n",
    "    p, se, _ = simulate_algo1(L0, H, K, sigma_, T, h, N_paths)\n",
    "    results_algo1_.append({\n",
    "        'h': h,\n",
    "        'Price': p,\n",
    "        'CI': 1.96*se\n",
    "    })\n",
    "\n",
    "exact = analytic_vtilde_caplet(L0, H, K, sigma, T)\n",
    "exact_ = analytic_vtilde_caplet(L0, H, K, sigma_, T)\n",
    "\n",
    "# Prepare figure\n",
    "fig = go.Figure()\n",
    "\n",
    "###### Baselines\n",
    "fig.add_trace(go.Scatter(\n",
    "    x=[d['h'] for d in results_algo1],   # or use a combined h-list like [0.25,0.125,0.0625]\n",
    "    y=[exact]*len(results_algo1),\n",
    "    mode='lines',\n",
    "    line=dict(dash='dot', color='black'),\n",
    "    name='Exact baseline'\n",
    "))\n",
    "\n",
    "fig.add_trace(go.Scatter(\n",
    "    x=[d['h'] for d in results_algo1],\n",
    "    y=[d['Price'] for d in results_algo1],\n",
    "    mode='lines+markers',\n",
    "    error_y=dict(type='data', array=[d['CI'] for d in results_algo1], visible=True),\n",
    "    line=dict(color=blue_hex),\n",
    "    marker=dict(color=blue_hex),\n",
    "    name='Algorithm 1 - baseline'\n",
    "))\n",
    "\n",
    "fig.add_trace(go.Scatter(\n",
    "    x=[d['h'] for d in results_algo2],\n",
    "    y=[d['Price'] for d in results_algo2],\n",
    "    mode='lines+markers',\n",
    "    error_y=dict(type='data', array=[d['CI'] for d in results_algo2], visible=True),\n",
    "    line=dict(color=orange_hex),\n",
    "    marker=dict(color=orange_hex),\n",
    "    name='Algorithm 2 - baseline'\n",
    "))\n",
    "\n",
    "###### Perturbed\n",
    "\n",
    "fig.add_trace(go.Scatter(\n",
    "    x=[d['h'] for d in results_algo1_],   # or use a combined h-list like [0.25,0.125,0.0625]\n",
    "    y=[exact_]*len(results_algo1_),\n",
    "    mode='lines',\n",
    "    line=dict(dash='dot', color='black'),\n",
    "    name='Exact perturbed'\n",
    "))\n",
    "\n",
    "fig.add_trace(go.Scatter(\n",
    "    x=[d['h'] for d in results_algo1_],\n",
    "    y=[d['Price'] for d in results_algo1_],\n",
    "    mode='lines+markers',\n",
    "    error_y=dict(type='data', array=[d['CI'] for d in results_algo1_], visible=True),\n",
    "    line=dict(color=blue_pastel_hex),\n",
    "    marker=dict(color=blue_pastel_hex),\n",
    "    name='Algorithm 1 - perturbed'\n",
    "))\n",
    "\n",
    "fig.add_trace(go.Scatter(\n",
    "    x=[d['h'] for d in results_algo2_],\n",
    "    y=[d['Price'] for d in results_algo2_],\n",
    "    mode='lines+markers',\n",
    "    error_y=dict(type='data', array=[d['CI'] for d in results_algo2_], visible=True),\n",
    "    line=dict(color=orange_pastel_hex),\n",
    "    marker=dict(color=orange_pastel_hex),\n",
    "    name='Algorithm 2 - perturbed'\n",
    "))\n",
    "\n",
    "\n",
    "###### General layout\n",
    "\n",
    "fig.update_layout(\n",
    "    template=\"simple_white\",\n",
    "    title={\n",
    "        \"text\": (\n",
    "            # main title in default size:\n",
    "            \"Caplet price sensitivity to sigma<br>\"\n",
    "            # parameters in a smaller span (e.g. 12px):\n",
    "            f\"<span style='font-size:12px;'>\"\n",
    "            f\"sigma={sigma} vs sigma_={sigma_} <br> (N_paths = {N_paths})\"\n",
    "            \"</span>\"\n",
    "        ),\n",
    "        \"x\": 0.5,\n",
    "        \"xanchor\": \"center\"\n",
    "    }\n",
    ")\n",
    "\n",
    "fig.show()"
   ]
  },
  {
   "cell_type": "code",
   "execution_count": null,
   "id": "46d27cde",
   "metadata": {},
   "outputs": [
    {
     "name": "stdout",
     "output_type": "stream",
     "text": [
      "0.25 \n",
      "\n"
     ]
    },
    {
     "name": "stderr",
     "output_type": "stream",
     "text": [
      "MC paths: 100%|██████████| 30000/30000 [00:00<00:00, 52912.29it/s]\n",
      "MC paths: 100%|██████████| 30000/30000 [00:00<00:00, 74807.89it/s]\n",
      "MC paths: 100%|██████████| 30000/30000 [00:00<00:00, 61610.72it/s]\n",
      "MC paths: 100%|██████████| 30000/30000 [00:00<00:00, 75849.89it/s]\n"
     ]
    },
    {
     "name": "stdout",
     "output_type": "stream",
     "text": [
      "0.0625 \n",
      "\n"
     ]
    },
    {
     "name": "stderr",
     "output_type": "stream",
     "text": [
      "MC paths: 100%|██████████| 30000/30000 [00:02<00:00, 14152.19it/s]\n",
      "MC paths: 100%|██████████| 30000/30000 [00:01<00:00, 17938.01it/s]\n",
      "MC paths: 100%|██████████| 30000/30000 [00:01<00:00, 17384.62it/s]\n",
      "MC paths: 100%|██████████| 30000/30000 [00:01<00:00, 20212.13it/s]\n"
     ]
    },
    {
     "name": "stdout",
     "output_type": "stream",
     "text": [
      "0.015625 \n",
      "\n"
     ]
    },
    {
     "name": "stderr",
     "output_type": "stream",
     "text": [
      "MC paths: 100%|██████████| 30000/30000 [00:07<00:00, 3928.07it/s]\n",
      "MC paths: 100%|██████████| 30000/30000 [00:06<00:00, 4786.52it/s]\n",
      "MC paths: 100%|██████████| 30000/30000 [00:08<00:00, 3582.31it/s]\n",
      "MC paths: 100%|██████████| 30000/30000 [00:06<00:00, 4847.48it/s]\n"
     ]
    },
    {
     "data": {
      "application/vnd.plotly.v1+json": {
       "config": {
        "plotlyServerURL": "https://plot.ly"
       },
       "data": [
        {
         "line": {
          "color": "black",
          "dash": "dot"
         },
         "mode": "lines",
         "name": "Exact baseline",
         "type": "scatter",
         "x": [
          0.25,
          0.0625,
          0.015625
         ],
         "y": [
          0.06571345192162645,
          0.06571345192162645,
          0.06571345192162645
         ]
        },
        {
         "error_y": {
          "array": [
           0.0006563467732479112,
           0.0006462761870394063,
           0.0006414218151633553
          ],
          "type": "data",
          "visible": true
         },
         "line": {
          "color": "#1f77b4"
         },
         "marker": {
          "color": "#1f77b4"
         },
         "mode": "lines+markers",
         "name": "Algorithm 1 - baseline",
         "type": "scatter",
         "x": [
          0.25,
          0.0625,
          0.015625
         ],
         "y": [
          0.06650476173349915,
          0.06630887582431211,
          0.06577166866192702
         ]
        },
        {
         "error_y": {
          "array": [
           0.0006443732558281153,
           0.0006309801610719295,
           0.0006380251625898367
          ],
          "type": "data",
          "visible": true
         },
         "line": {
          "color": "#ff7f0e"
         },
         "marker": {
          "color": "#ff7f0e"
         },
         "mode": "lines+markers",
         "name": "Algorithm 2 - baseline",
         "type": "scatter",
         "x": [
          0.25,
          0.0625,
          0.015625
         ],
         "y": [
          0.06258293015236856,
          0.06309999366852337,
          0.0645385281412933
         ]
        },
        {
         "line": {
          "color": "black",
          "dash": "dot"
         },
         "mode": "lines",
         "name": "Exact perturbed",
         "type": "scatter",
         "x": [
          0.25,
          0.0625,
          0.015625
         ],
         "y": [
          0.07612739107483088,
          0.07612739107483088,
          0.07612739107483088
         ]
        },
        {
         "error_y": {
          "array": [
           0.0006483570976103134,
           0.0006517779474269638,
           0.0006560546180140232
          ],
          "type": "data",
          "visible": true
         },
         "line": {
          "color": "#79add2"
         },
         "marker": {
          "color": "#79add2"
         },
         "mode": "lines+markers",
         "name": "Algorithm 1 - perturbed",
         "type": "scatter",
         "x": [
          0.25,
          0.0625,
          0.015625
         ],
         "y": [
          0.07491693912657539,
          0.07630691808500115,
          0.07646848856776395
         ]
        },
        {
         "error_y": {
          "array": [
           0.000659597705475351,
           0.0006524308386282604,
           0.000652661396246337
          ],
          "type": "data",
          "visible": true
         },
         "line": {
          "color": "#ffb26e"
         },
         "marker": {
          "color": "#ffb26e"
         },
         "mode": "lines+markers",
         "name": "Algorithm 2 - perturbed",
         "type": "scatter",
         "x": [
          0.25,
          0.0625,
          0.015625
         ],
         "y": [
          0.07268707188614358,
          0.07449135524380777,
          0.0756574929610327
         ]
        }
       ],
       "layout": {
        "template": {
         "data": {
          "bar": [
           {
            "error_x": {
             "color": "rgb(36,36,36)"
            },
            "error_y": {
             "color": "rgb(36,36,36)"
            },
            "marker": {
             "line": {
              "color": "white",
              "width": 0.5
             },
             "pattern": {
              "fillmode": "overlay",
              "size": 10,
              "solidity": 0.2
             }
            },
            "type": "bar"
           }
          ],
          "barpolar": [
           {
            "marker": {
             "line": {
              "color": "white",
              "width": 0.5
             },
             "pattern": {
              "fillmode": "overlay",
              "size": 10,
              "solidity": 0.2
             }
            },
            "type": "barpolar"
           }
          ],
          "carpet": [
           {
            "aaxis": {
             "endlinecolor": "rgb(36,36,36)",
             "gridcolor": "white",
             "linecolor": "white",
             "minorgridcolor": "white",
             "startlinecolor": "rgb(36,36,36)"
            },
            "baxis": {
             "endlinecolor": "rgb(36,36,36)",
             "gridcolor": "white",
             "linecolor": "white",
             "minorgridcolor": "white",
             "startlinecolor": "rgb(36,36,36)"
            },
            "type": "carpet"
           }
          ],
          "choropleth": [
           {
            "colorbar": {
             "outlinewidth": 1,
             "tickcolor": "rgb(36,36,36)",
             "ticks": "outside"
            },
            "type": "choropleth"
           }
          ],
          "contour": [
           {
            "colorbar": {
             "outlinewidth": 1,
             "tickcolor": "rgb(36,36,36)",
             "ticks": "outside"
            },
            "colorscale": [
             [
              0,
              "#440154"
             ],
             [
              0.1111111111111111,
              "#482878"
             ],
             [
              0.2222222222222222,
              "#3e4989"
             ],
             [
              0.3333333333333333,
              "#31688e"
             ],
             [
              0.4444444444444444,
              "#26828e"
             ],
             [
              0.5555555555555556,
              "#1f9e89"
             ],
             [
              0.6666666666666666,
              "#35b779"
             ],
             [
              0.7777777777777778,
              "#6ece58"
             ],
             [
              0.8888888888888888,
              "#b5de2b"
             ],
             [
              1,
              "#fde725"
             ]
            ],
            "type": "contour"
           }
          ],
          "contourcarpet": [
           {
            "colorbar": {
             "outlinewidth": 1,
             "tickcolor": "rgb(36,36,36)",
             "ticks": "outside"
            },
            "type": "contourcarpet"
           }
          ],
          "heatmap": [
           {
            "colorbar": {
             "outlinewidth": 1,
             "tickcolor": "rgb(36,36,36)",
             "ticks": "outside"
            },
            "colorscale": [
             [
              0,
              "#440154"
             ],
             [
              0.1111111111111111,
              "#482878"
             ],
             [
              0.2222222222222222,
              "#3e4989"
             ],
             [
              0.3333333333333333,
              "#31688e"
             ],
             [
              0.4444444444444444,
              "#26828e"
             ],
             [
              0.5555555555555556,
              "#1f9e89"
             ],
             [
              0.6666666666666666,
              "#35b779"
             ],
             [
              0.7777777777777778,
              "#6ece58"
             ],
             [
              0.8888888888888888,
              "#b5de2b"
             ],
             [
              1,
              "#fde725"
             ]
            ],
            "type": "heatmap"
           }
          ],
          "heatmapgl": [
           {
            "colorbar": {
             "outlinewidth": 1,
             "tickcolor": "rgb(36,36,36)",
             "ticks": "outside"
            },
            "colorscale": [
             [
              0,
              "#440154"
             ],
             [
              0.1111111111111111,
              "#482878"
             ],
             [
              0.2222222222222222,
              "#3e4989"
             ],
             [
              0.3333333333333333,
              "#31688e"
             ],
             [
              0.4444444444444444,
              "#26828e"
             ],
             [
              0.5555555555555556,
              "#1f9e89"
             ],
             [
              0.6666666666666666,
              "#35b779"
             ],
             [
              0.7777777777777778,
              "#6ece58"
             ],
             [
              0.8888888888888888,
              "#b5de2b"
             ],
             [
              1,
              "#fde725"
             ]
            ],
            "type": "heatmapgl"
           }
          ],
          "histogram": [
           {
            "marker": {
             "line": {
              "color": "white",
              "width": 0.6
             }
            },
            "type": "histogram"
           }
          ],
          "histogram2d": [
           {
            "colorbar": {
             "outlinewidth": 1,
             "tickcolor": "rgb(36,36,36)",
             "ticks": "outside"
            },
            "colorscale": [
             [
              0,
              "#440154"
             ],
             [
              0.1111111111111111,
              "#482878"
             ],
             [
              0.2222222222222222,
              "#3e4989"
             ],
             [
              0.3333333333333333,
              "#31688e"
             ],
             [
              0.4444444444444444,
              "#26828e"
             ],
             [
              0.5555555555555556,
              "#1f9e89"
             ],
             [
              0.6666666666666666,
              "#35b779"
             ],
             [
              0.7777777777777778,
              "#6ece58"
             ],
             [
              0.8888888888888888,
              "#b5de2b"
             ],
             [
              1,
              "#fde725"
             ]
            ],
            "type": "histogram2d"
           }
          ],
          "histogram2dcontour": [
           {
            "colorbar": {
             "outlinewidth": 1,
             "tickcolor": "rgb(36,36,36)",
             "ticks": "outside"
            },
            "colorscale": [
             [
              0,
              "#440154"
             ],
             [
              0.1111111111111111,
              "#482878"
             ],
             [
              0.2222222222222222,
              "#3e4989"
             ],
             [
              0.3333333333333333,
              "#31688e"
             ],
             [
              0.4444444444444444,
              "#26828e"
             ],
             [
              0.5555555555555556,
              "#1f9e89"
             ],
             [
              0.6666666666666666,
              "#35b779"
             ],
             [
              0.7777777777777778,
              "#6ece58"
             ],
             [
              0.8888888888888888,
              "#b5de2b"
             ],
             [
              1,
              "#fde725"
             ]
            ],
            "type": "histogram2dcontour"
           }
          ],
          "mesh3d": [
           {
            "colorbar": {
             "outlinewidth": 1,
             "tickcolor": "rgb(36,36,36)",
             "ticks": "outside"
            },
            "type": "mesh3d"
           }
          ],
          "parcoords": [
           {
            "line": {
             "colorbar": {
              "outlinewidth": 1,
              "tickcolor": "rgb(36,36,36)",
              "ticks": "outside"
             }
            },
            "type": "parcoords"
           }
          ],
          "pie": [
           {
            "automargin": true,
            "type": "pie"
           }
          ],
          "scatter": [
           {
            "fillpattern": {
             "fillmode": "overlay",
             "size": 10,
             "solidity": 0.2
            },
            "type": "scatter"
           }
          ],
          "scatter3d": [
           {
            "line": {
             "colorbar": {
              "outlinewidth": 1,
              "tickcolor": "rgb(36,36,36)",
              "ticks": "outside"
             }
            },
            "marker": {
             "colorbar": {
              "outlinewidth": 1,
              "tickcolor": "rgb(36,36,36)",
              "ticks": "outside"
             }
            },
            "type": "scatter3d"
           }
          ],
          "scattercarpet": [
           {
            "marker": {
             "colorbar": {
              "outlinewidth": 1,
              "tickcolor": "rgb(36,36,36)",
              "ticks": "outside"
             }
            },
            "type": "scattercarpet"
           }
          ],
          "scattergeo": [
           {
            "marker": {
             "colorbar": {
              "outlinewidth": 1,
              "tickcolor": "rgb(36,36,36)",
              "ticks": "outside"
             }
            },
            "type": "scattergeo"
           }
          ],
          "scattergl": [
           {
            "marker": {
             "colorbar": {
              "outlinewidth": 1,
              "tickcolor": "rgb(36,36,36)",
              "ticks": "outside"
             }
            },
            "type": "scattergl"
           }
          ],
          "scattermapbox": [
           {
            "marker": {
             "colorbar": {
              "outlinewidth": 1,
              "tickcolor": "rgb(36,36,36)",
              "ticks": "outside"
             }
            },
            "type": "scattermapbox"
           }
          ],
          "scatterpolar": [
           {
            "marker": {
             "colorbar": {
              "outlinewidth": 1,
              "tickcolor": "rgb(36,36,36)",
              "ticks": "outside"
             }
            },
            "type": "scatterpolar"
           }
          ],
          "scatterpolargl": [
           {
            "marker": {
             "colorbar": {
              "outlinewidth": 1,
              "tickcolor": "rgb(36,36,36)",
              "ticks": "outside"
             }
            },
            "type": "scatterpolargl"
           }
          ],
          "scatterternary": [
           {
            "marker": {
             "colorbar": {
              "outlinewidth": 1,
              "tickcolor": "rgb(36,36,36)",
              "ticks": "outside"
             }
            },
            "type": "scatterternary"
           }
          ],
          "surface": [
           {
            "colorbar": {
             "outlinewidth": 1,
             "tickcolor": "rgb(36,36,36)",
             "ticks": "outside"
            },
            "colorscale": [
             [
              0,
              "#440154"
             ],
             [
              0.1111111111111111,
              "#482878"
             ],
             [
              0.2222222222222222,
              "#3e4989"
             ],
             [
              0.3333333333333333,
              "#31688e"
             ],
             [
              0.4444444444444444,
              "#26828e"
             ],
             [
              0.5555555555555556,
              "#1f9e89"
             ],
             [
              0.6666666666666666,
              "#35b779"
             ],
             [
              0.7777777777777778,
              "#6ece58"
             ],
             [
              0.8888888888888888,
              "#b5de2b"
             ],
             [
              1,
              "#fde725"
             ]
            ],
            "type": "surface"
           }
          ],
          "table": [
           {
            "cells": {
             "fill": {
              "color": "rgb(237,237,237)"
             },
             "line": {
              "color": "white"
             }
            },
            "header": {
             "fill": {
              "color": "rgb(217,217,217)"
             },
             "line": {
              "color": "white"
             }
            },
            "type": "table"
           }
          ]
         },
         "layout": {
          "annotationdefaults": {
           "arrowhead": 0,
           "arrowwidth": 1
          },
          "autotypenumbers": "strict",
          "coloraxis": {
           "colorbar": {
            "outlinewidth": 1,
            "tickcolor": "rgb(36,36,36)",
            "ticks": "outside"
           }
          },
          "colorscale": {
           "diverging": [
            [
             0,
             "rgb(103,0,31)"
            ],
            [
             0.1,
             "rgb(178,24,43)"
            ],
            [
             0.2,
             "rgb(214,96,77)"
            ],
            [
             0.3,
             "rgb(244,165,130)"
            ],
            [
             0.4,
             "rgb(253,219,199)"
            ],
            [
             0.5,
             "rgb(247,247,247)"
            ],
            [
             0.6,
             "rgb(209,229,240)"
            ],
            [
             0.7,
             "rgb(146,197,222)"
            ],
            [
             0.8,
             "rgb(67,147,195)"
            ],
            [
             0.9,
             "rgb(33,102,172)"
            ],
            [
             1,
             "rgb(5,48,97)"
            ]
           ],
           "sequential": [
            [
             0,
             "#440154"
            ],
            [
             0.1111111111111111,
             "#482878"
            ],
            [
             0.2222222222222222,
             "#3e4989"
            ],
            [
             0.3333333333333333,
             "#31688e"
            ],
            [
             0.4444444444444444,
             "#26828e"
            ],
            [
             0.5555555555555556,
             "#1f9e89"
            ],
            [
             0.6666666666666666,
             "#35b779"
            ],
            [
             0.7777777777777778,
             "#6ece58"
            ],
            [
             0.8888888888888888,
             "#b5de2b"
            ],
            [
             1,
             "#fde725"
            ]
           ],
           "sequentialminus": [
            [
             0,
             "#440154"
            ],
            [
             0.1111111111111111,
             "#482878"
            ],
            [
             0.2222222222222222,
             "#3e4989"
            ],
            [
             0.3333333333333333,
             "#31688e"
            ],
            [
             0.4444444444444444,
             "#26828e"
            ],
            [
             0.5555555555555556,
             "#1f9e89"
            ],
            [
             0.6666666666666666,
             "#35b779"
            ],
            [
             0.7777777777777778,
             "#6ece58"
            ],
            [
             0.8888888888888888,
             "#b5de2b"
            ],
            [
             1,
             "#fde725"
            ]
           ]
          },
          "colorway": [
           "#1F77B4",
           "#FF7F0E",
           "#2CA02C",
           "#D62728",
           "#9467BD",
           "#8C564B",
           "#E377C2",
           "#7F7F7F",
           "#BCBD22",
           "#17BECF"
          ],
          "font": {
           "color": "rgb(36,36,36)"
          },
          "geo": {
           "bgcolor": "white",
           "lakecolor": "white",
           "landcolor": "white",
           "showlakes": true,
           "showland": true,
           "subunitcolor": "white"
          },
          "hoverlabel": {
           "align": "left"
          },
          "hovermode": "closest",
          "mapbox": {
           "style": "light"
          },
          "paper_bgcolor": "white",
          "plot_bgcolor": "white",
          "polar": {
           "angularaxis": {
            "gridcolor": "rgb(232,232,232)",
            "linecolor": "rgb(36,36,36)",
            "showgrid": false,
            "showline": true,
            "ticks": "outside"
           },
           "bgcolor": "white",
           "radialaxis": {
            "gridcolor": "rgb(232,232,232)",
            "linecolor": "rgb(36,36,36)",
            "showgrid": false,
            "showline": true,
            "ticks": "outside"
           }
          },
          "scene": {
           "xaxis": {
            "backgroundcolor": "white",
            "gridcolor": "rgb(232,232,232)",
            "gridwidth": 2,
            "linecolor": "rgb(36,36,36)",
            "showbackground": true,
            "showgrid": false,
            "showline": true,
            "ticks": "outside",
            "zeroline": false,
            "zerolinecolor": "rgb(36,36,36)"
           },
           "yaxis": {
            "backgroundcolor": "white",
            "gridcolor": "rgb(232,232,232)",
            "gridwidth": 2,
            "linecolor": "rgb(36,36,36)",
            "showbackground": true,
            "showgrid": false,
            "showline": true,
            "ticks": "outside",
            "zeroline": false,
            "zerolinecolor": "rgb(36,36,36)"
           },
           "zaxis": {
            "backgroundcolor": "white",
            "gridcolor": "rgb(232,232,232)",
            "gridwidth": 2,
            "linecolor": "rgb(36,36,36)",
            "showbackground": true,
            "showgrid": false,
            "showline": true,
            "ticks": "outside",
            "zeroline": false,
            "zerolinecolor": "rgb(36,36,36)"
           }
          },
          "shapedefaults": {
           "fillcolor": "black",
           "line": {
            "width": 0
           },
           "opacity": 0.3
          },
          "ternary": {
           "aaxis": {
            "gridcolor": "rgb(232,232,232)",
            "linecolor": "rgb(36,36,36)",
            "showgrid": false,
            "showline": true,
            "ticks": "outside"
           },
           "baxis": {
            "gridcolor": "rgb(232,232,232)",
            "linecolor": "rgb(36,36,36)",
            "showgrid": false,
            "showline": true,
            "ticks": "outside"
           },
           "bgcolor": "white",
           "caxis": {
            "gridcolor": "rgb(232,232,232)",
            "linecolor": "rgb(36,36,36)",
            "showgrid": false,
            "showline": true,
            "ticks": "outside"
           }
          },
          "title": {
           "x": 0.05
          },
          "xaxis": {
           "automargin": true,
           "gridcolor": "rgb(232,232,232)",
           "linecolor": "rgb(36,36,36)",
           "showgrid": false,
           "showline": true,
           "ticks": "outside",
           "title": {
            "standoff": 15
           },
           "zeroline": false,
           "zerolinecolor": "rgb(36,36,36)"
          },
          "yaxis": {
           "automargin": true,
           "gridcolor": "rgb(232,232,232)",
           "linecolor": "rgb(36,36,36)",
           "showgrid": false,
           "showline": true,
           "ticks": "outside",
           "title": {
            "standoff": 15
           },
           "zeroline": false,
           "zerolinecolor": "rgb(36,36,36)"
          }
         }
        },
        "title": {
         "text": "Caplet price sensitivity to T<br><span style='font-size:12px;'>T=9.0 vs T_=7.0 <br> (N_paths = 30000)</span>",
         "x": 0.5,
         "xanchor": "center"
        }
       }
      }
     },
     "metadata": {},
     "output_type": "display_data"
    }
   ],
   "source": [
    "results_algo2 = []\n",
    "results_algo2_ = []\n",
    "results_algo1 = []\n",
    "results_algo1_ = []\n",
    "\n",
    "for h in h_list:\n",
    "    print(h, \"\\n\")\n",
    "    p, se = simulate_algo2(L0, H, K, sigma, T, h, N_paths)\n",
    "    results_algo2.append({\n",
    "        'h': h,\n",
    "        'Price': p,\n",
    "        'CI': 1.96*se\n",
    "    })\n",
    "    p, se = simulate_algo2(L0, H, K, sigma, T_, h, N_paths)\n",
    "    results_algo2_.append({\n",
    "        'h': h,\n",
    "        'Price': p,\n",
    "        'CI': 1.96*se\n",
    "    })\n",
    "    p, se, _ = simulate_algo1(L0, H, K, sigma, T, h, N_paths)\n",
    "    results_algo1.append({\n",
    "        'h': h,\n",
    "        'Price': p,\n",
    "        'CI': 1.96*se\n",
    "    })\n",
    "    p, se, _ = simulate_algo1(L0, H, K, sigma, T_, h, N_paths)\n",
    "    results_algo1_.append({\n",
    "        'h': h,\n",
    "        'Price': p,\n",
    "        'CI': 1.96*se\n",
    "    })\n",
    "\n",
    "exact = analytic_vtilde_caplet(L0, H, K, sigma, T)\n",
    "exact_ = analytic_vtilde_caplet(L0, H, K, sigma, T_)\n",
    "\n",
    "# Prepare figure\n",
    "fig = go.Figure()\n",
    "\n",
    "###### Baselines\n",
    "fig.add_trace(go.Scatter(\n",
    "    x=[d['h'] for d in results_algo1],   # or use a combined h-list like [0.25,0.125,0.0625]\n",
    "    y=[exact]*len(results_algo1),\n",
    "    mode='lines',\n",
    "    line=dict(dash='dot', color='black'),\n",
    "    name='Exact baseline'\n",
    "))\n",
    "\n",
    "fig.add_trace(go.Scatter(\n",
    "    x=[d['h'] for d in results_algo1],\n",
    "    y=[d['Price'] for d in results_algo1],\n",
    "    mode='lines+markers',\n",
    "    error_y=dict(type='data', array=[d['CI'] for d in results_algo1], visible=True),\n",
    "    line=dict(color=blue_hex),\n",
    "    marker=dict(color=blue_hex),\n",
    "    name='Algorithm 1 - baseline'\n",
    "))\n",
    "\n",
    "fig.add_trace(go.Scatter(\n",
    "    x=[d['h'] for d in results_algo2],\n",
    "    y=[d['Price'] for d in results_algo2],\n",
    "    mode='lines+markers',\n",
    "    error_y=dict(type='data', array=[d['CI'] for d in results_algo2], visible=True),\n",
    "    line=dict(color=orange_hex),\n",
    "    marker=dict(color=orange_hex),\n",
    "    name='Algorithm 2 - baseline'\n",
    "))\n",
    "\n",
    "###### Perturbed\n",
    "\n",
    "fig.add_trace(go.Scatter(\n",
    "    x=[d['h'] for d in results_algo1_],   # or use a combined h-list like [0.25,0.125,0.0625]\n",
    "    y=[exact_]*len(results_algo1_),\n",
    "    mode='lines',\n",
    "    line=dict(dash='dot', color='black'),\n",
    "    name='Exact perturbed'\n",
    "))\n",
    "\n",
    "fig.add_trace(go.Scatter(\n",
    "    x=[d['h'] for d in results_algo1_],\n",
    "    y=[d['Price'] for d in results_algo1_],\n",
    "    mode='lines+markers',\n",
    "    error_y=dict(type='data', array=[d['CI'] for d in results_algo1_], visible=True),\n",
    "    line=dict(color=blue_pastel_hex),\n",
    "    marker=dict(color=blue_pastel_hex),\n",
    "    name='Algorithm 1 - perturbed'\n",
    "))\n",
    "\n",
    "fig.add_trace(go.Scatter(\n",
    "    x=[d['h'] for d in results_algo2_],\n",
    "    y=[d['Price'] for d in results_algo2_],\n",
    "    mode='lines+markers',\n",
    "    error_y=dict(type='data', array=[d['CI'] for d in results_algo2_], visible=True),\n",
    "    line=dict(color=orange_pastel_hex),\n",
    "    marker=dict(color=orange_pastel_hex),\n",
    "    name='Algorithm 2 - perturbed'\n",
    "))\n",
    "\n",
    "\n",
    "###### General layout\n",
    "\n",
    "fig.update_layout(\n",
    "    template=\"simple_white\",\n",
    "    title={\n",
    "        \"text\": (\n",
    "            # main title in default size:\n",
    "            \"Caplet price sensitivity to T<br>\"\n",
    "            # parameters in a smaller span (e.g. 12px):\n",
    "            f\"<span style='font-size:12px;'>\"\n",
    "            f\"T={T} vs T_={T_} <br> (N_paths = {N_paths})\"\n",
    "            \"</span>\"\n",
    "        ),\n",
    "        \"x\": 0.5,\n",
    "        \"xanchor\": \"center\"\n",
    "    }\n",
    ")\n",
    "\n",
    "fig.show()"
   ]
  },
  {
   "cell_type": "markdown",
   "id": "7bb5f4cb",
   "metadata": {},
   "source": [
    "## Algorithm 2.2 with variance reduction (add Z from (4.6))"
   ]
  },
  {
   "cell_type": "markdown",
   "id": "e93e50f3",
   "metadata": {},
   "source": [
    "### Variance‑reduction term F(s,L) ≈ -σ ∂V/∂L from (4.7)"
   ]
  },
  {
   "cell_type": "code",
   "execution_count": 8,
   "id": "7b9e3583",
   "metadata": {},
   "outputs": [],
   "source": [
    "def F_vr_fd(L, H, K, sigma, tau, eps):\n",
    "    \"\"\"Finite-difference control-variate integrand.\"\"\"\n",
    "    Vp = analytic_vtilde_caplet(L + eps, H, K, sigma, tau)\n",
    "    Vm = analytic_vtilde_caplet(L - eps, H, K, sigma, tau)\n",
    "    dVdL = (Vp - Vm) / (2 * eps)\n",
    "    return -sigma * dVdL"
   ]
  },
  {
   "cell_type": "code",
   "execution_count": 9,
   "id": "abce9f70",
   "metadata": {},
   "outputs": [],
   "source": [
    "def F_vr_exact(L, H, K, sigma, tau, eps=None):\n",
    "    \"\"\"Exact closed-form ∂_L Ṽ from the barrier-caplet formula.\"\"\"\n",
    "    v = sigma * np.sqrt(tau)\n",
    "    inv_v = 1.0 / v\n",
    "    lnL = np.log(L)\n",
    "\n",
    "    # deltas\n",
    "    a1 = (lnL - np.log(K) + 0.5*v*v) * inv_v\n",
    "    a2 = (lnL - np.log(H) + 0.5*v*v) * inv_v\n",
    "    b1 = (lnL - np.log(K) - 0.5*v*v) * inv_v\n",
    "    b2 = (lnL - np.log(H) - 0.5*v*v) * inv_v\n",
    "    c1 = (np.log(H*H/(K*L)) + 0.5*v*v) * inv_v\n",
    "    c2 = (np.log(H/L)    + 0.5*v*v) * inv_v\n",
    "    d1 = (np.log(H*H/(K*L)) - 0.5*v*v) * inv_v\n",
    "    d2 = (np.log(H/L)    - 0.5*v*v) * inv_v\n",
    "\n",
    "    phi = norm.pdf\n",
    "    Phi = norm.cdf\n",
    "\n",
    "    T1 = (Phi(a1) - Phi(a2)) + inv_v*(phi(a1) - phi(a2))\n",
    "    T2 = -(K/(L*v))*(phi(b1) - phi(b2))\n",
    "    T3 =  (H/(L*v))*(phi(c1) - phi(c2))\n",
    "    T4 = (K/H)*(Phi(d1) - Phi(d2)) - (K/(H*v))*(phi(d1) - phi(d2))\n",
    "\n",
    "    dVdL = T1 + T2 + T3 + T4\n",
    "    return -sigma * dVdL"
   ]
  },
  {
   "cell_type": "code",
   "execution_count": 10,
   "id": "db4336c6",
   "metadata": {},
   "outputs": [],
   "source": [
    "def simulate_algo2(\n",
    "    L0, H, K, sigma, T, h, N_paths,\n",
    "    vr_method: str = \"none\",   # \"none\", \"fd\" or \"exact\"\n",
    "    seed: int = 42,\n",
    "    eps: float = 1e-4\n",
    "):\n",
    "    \"\"\"\n",
    "    Monte-Carlo Algo2 with choice of variance-reduction:\n",
    "\n",
    "      vr_method=\"none\"  → no control-variate\n",
    "      vr_method=\"fd\"    → finite-difference CV (needs eps)\n",
    "      vr_method=\"exact\" → exact CV (closed-form)\n",
    "    \"\"\"\n",
    "    rng = np.random.default_rng(seed)\n",
    "    M = int(np.ceil(T / h))\n",
    "    lnH, sqrt_h = np.log(H), np.sqrt(h)\n",
    "    half_sig2h = 0.5 * sigma**2 * h\n",
    "\n",
    "    payoffs = np.zeros(N_paths)\n",
    "    if vr_method != \"none\":\n",
    "        Z_vals = np.zeros(N_paths)\n",
    "\n",
    "    for i in tqdm(range(N_paths), desc=\"MC paths\"):\n",
    "        lnL = np.log(L0)\n",
    "        Z = 0.0\n",
    "\n",
    "        for k in range(M):\n",
    "            tau = T - k*h\n",
    "            # boundary check\n",
    "            if lnL >= lnH + half_sig2h - sigma*sqrt_h:\n",
    "                break\n",
    "\n",
    "            xi = 1 if rng.random() < 0.5 else -1\n",
    "            lnL += -half_sig2h + sigma*sqrt_h*xi\n",
    "\n",
    "            if vr_method == \"fd\":\n",
    "                Fvr = F_vr_fd(np.exp(lnL), H, K, sigma, tau, eps)\n",
    "                Z += Fvr * sqrt_h * xi\n",
    "            elif vr_method == \"exact\":\n",
    "                Fvr = F_vr_exact(np.exp(lnL), H, K, sigma, tau)\n",
    "                Z += Fvr * sqrt_h * xi\n",
    "\n",
    "        payoff = max(np.exp(lnL) - K, 0.0) if k == M-1 else 0.0\n",
    "        payoffs[i] = payoff\n",
    "        if vr_method != \"none\":\n",
    "            Z_vals[i] = Z\n",
    "\n",
    "    # No control-variate: plain MC\n",
    "    if vr_method == \"none\":\n",
    "        price  = payoffs.mean()\n",
    "        stderr = payoffs.std(ddof=1) / np.sqrt(N_paths)\n",
    "        return price, stderr\n",
    "\n",
    "    # Control-variate adjustment\n",
    "    cov = np.cov(payoffs, Z_vals, ddof=1)[0,1]\n",
    "    varZ = Z_vals.var(ddof=1)\n",
    "    g    = cov / varZ\n",
    "    Z_bar = Z_vals.mean()\n",
    "\n",
    "    adj = payoffs - g*(Z_vals - Z_bar)\n",
    "    price  = adj.mean()\n",
    "    stderr = adj.std(ddof=1) / np.sqrt(N_paths)\n",
    "    return price, stderr, g"
   ]
  },
  {
   "cell_type": "code",
   "execution_count": 11,
   "id": "c880fa3d",
   "metadata": {},
   "outputs": [],
   "source": [
    "h = 0.25"
   ]
  },
  {
   "cell_type": "code",
   "execution_count": 12,
   "id": "16b2c29b",
   "metadata": {},
   "outputs": [
    {
     "name": "stderr",
     "output_type": "stream",
     "text": [
      "MC paths: 100%|██████████| 3000/3000 [00:00<00:00, 19012.73it/s]\n"
     ]
    }
   ],
   "source": [
    "# 1) Plain MC\n",
    "p0, e0 = simulate_algo2(L0, H, K, sigma, T, h, 3000, vr_method=\"none\")"
   ]
  },
  {
   "cell_type": "code",
   "execution_count": 13,
   "id": "506c14bc",
   "metadata": {},
   "outputs": [
    {
     "name": "stderr",
     "output_type": "stream",
     "text": [
      "MC paths: 100%|██████████| 3000/3000 [01:14<00:00, 40.20it/s]\n"
     ]
    }
   ],
   "source": [
    "# 2) FD-based CV\n",
    "p_fd, e_fd, g_fd = simulate_algo2(\n",
    "    L0, H, K, sigma, T, h, 3000,\n",
    "    vr_method=\"fd\", eps=1e-4\n",
    ")"
   ]
  },
  {
   "cell_type": "code",
   "execution_count": 14,
   "id": "2eed4b4c",
   "metadata": {},
   "outputs": [
    {
     "name": "stderr",
     "output_type": "stream",
     "text": [
      "MC paths: 100%|██████████| 3000/3000 [00:55<00:00, 54.14it/s]\n"
     ]
    }
   ],
   "source": [
    "# 3) Exact-derivative CV\n",
    "p_ex, e_ex, g_ex = simulate_algo2(\n",
    "    L0, H, K, sigma, T, h, 3000,\n",
    "    vr_method=\"exact\"\n",
    ")"
   ]
  },
  {
   "cell_type": "code",
   "execution_count": 15,
   "id": "9a105dae",
   "metadata": {},
   "outputs": [
    {
     "name": "stdout",
     "output_type": "stream",
     "text": [
      "plain: 0.062768 ± 0.001029\n",
      "FD-CV:  0.062768 ± 0.000965 (g=-0.0479)\n",
      "Exact:  0.062768 ± 0.000965 (g=-0.0479)\n"
     ]
    }
   ],
   "source": [
    "print(f\"plain: {p0:.6f} ± {e0:.6f}\")\n",
    "print(f\"FD-CV:  {p_fd:.6f} ± {e_fd:.6f} (g={g_fd:.4f})\")\n",
    "print(f\"Exact:  {p_ex:.6f} ± {e_ex:.6f} (g={g_ex:.4f})\")"
   ]
  },
  {
   "cell_type": "markdown",
   "id": "603210f9",
   "metadata": {},
   "source": [
    "## Algorithm 2.2 with variance reduction (add Z from (4.6)) + NUMBA Acceleration"
   ]
  },
  {
   "cell_type": "code",
   "execution_count": 18,
   "id": "9c13954d",
   "metadata": {},
   "outputs": [
    {
     "name": "stdout",
     "output_type": "stream",
     "text": [
      "Collecting numba\n",
      "  Downloading numba-0.61.2-cp311-cp311-macosx_10_14_x86_64.whl.metadata (2.8 kB)\n",
      "Collecting llvmlite<0.45,>=0.44.0dev0 (from numba)\n",
      "  Downloading llvmlite-0.44.0-cp311-cp311-macosx_10_14_x86_64.whl.metadata (4.8 kB)\n",
      "Requirement already satisfied: numpy<2.3,>=1.24 in ./.conda/lib/python3.11/site-packages (from numba) (2.2.5)\n",
      "Downloading numba-0.61.2-cp311-cp311-macosx_10_14_x86_64.whl (2.8 MB)\n",
      "\u001b[2K   \u001b[90m━━━━━━━━━━━━━━━━━━━━━━━━━━━━━━━━━━━━━━━━\u001b[0m \u001b[32m2.8/2.8 MB\u001b[0m \u001b[31m10.1 MB/s\u001b[0m eta \u001b[36m0:00:00\u001b[0ma \u001b[36m0:00:01\u001b[0m\n",
      "\u001b[?25hDownloading llvmlite-0.44.0-cp311-cp311-macosx_10_14_x86_64.whl (28.1 MB)\n",
      "\u001b[2K   \u001b[90m━━━━━━━━━━━━━━━━━━━━━━━━━━━━━━━━━━━━━━━━\u001b[0m \u001b[32m28.1/28.1 MB\u001b[0m \u001b[31m9.3 MB/s\u001b[0m eta \u001b[36m0:00:00\u001b[0m00:01\u001b[0m00:01\u001b[0m\n",
      "\u001b[?25hInstalling collected packages: llvmlite, numba\n",
      "Successfully installed llvmlite-0.44.0 numba-0.61.2\n"
     ]
    }
   ],
   "source": [
    "!pip install numba"
   ]
  },
  {
   "cell_type": "code",
   "execution_count": null,
   "id": "b512dc41",
   "metadata": {},
   "outputs": [
    {
     "name": "stdout",
     "output_type": "stream",
     "text": [
      "Parameters: L0=0.13, H=0.28, K=0.01, sigma=0.25, T=9.0, h=0.015625, N_paths=1000000\n",
      "Starting Numba simulation for 1000000 paths...\n",
      "Numba simulation finished.\n",
      "Calculating final price/stderr (no VR)...\n",
      "\n",
      "Numba Plain MC Result:\n",
      "Price: 0.06437745 ± 0.00005615\n",
      "Time:  2.91 seconds\n",
      "Simulations per second: 344203\n",
      "------------------------------\n",
      "Starting Numba simulation for 1000000 paths...\n",
      "Numba simulation finished.\n",
      "Calculating final price/stderr with Control Variate...\n",
      "CV calculation finished.\n",
      "\n",
      "Numba Exact CV Result:\n",
      "Price: 0.06438229 ± 0.00002987 (g=-0.3936)\n",
      "Time:  22.08 seconds\n",
      "Simulations per second: 45284\n",
      "------------------------------\n",
      "\n",
      "Variance Reduction Factor (Exact CV vs Plain): 3.53x\n",
      "\n",
      "Achieved simulations per hour (Exact CV): 163,023,515\n",
      "Target simulations per hour:             1,000,000\n",
      ">>> Target performance MET or EXCEEDED! <<<\n",
      "\n",
      "Estimated speedup vs original (50 sims/sec): 905.7x\n",
      ">>> Target speedup (5x) ACHIEVED! <<<\n"
     ]
    }
   ],
   "source": [
    "import numpy as np\n",
    "import numba\n",
    "from numba import njit, prange\n",
    "import math\n",
    "from tqdm import tqdm # Keep tqdm for the outer loop if desired, but remove from Numba part\n",
    "\n",
    "# Parameters from the notebook (adjust N_paths as needed)\n",
    "L0, H, K = 0.13, 0.28, 0.01\n",
    "sigma, T = 0.25, 9.0\n",
    "# N_paths = 3000 # Original small test\n",
    "# N_paths = 300000 # Original large run\n",
    "N_paths = 1_000_000 # Target for 1 hour run\n",
    "h = 0.015625 # Using one of the smaller step sizes for demonstration\n",
    "seed = 42\n",
    "eps = 1e-4 # For FD method if used (though exact is preferred)\n",
    "\n",
    "# ==================================================\n",
    "# 1. Numba-compatible helper functions\n",
    "# ==================================================\n",
    "\n",
    "SQRT_2 = np.sqrt(2.0)\n",
    "SQRT_2PI = np.sqrt(2.0 * np.pi)\n",
    "\n",
    "@njit(fastmath=True)\n",
    "def norm_pdf_numba(x):\n",
    "    \"\"\"Numba-compatible standard normal PDF.\"\"\"\n",
    "    return math.exp(-0.5 * x * x) / SQRT_2PI\n",
    "\n",
    "@njit(fastmath=True)\n",
    "def norm_cdf_numba(x):\n",
    "    \"\"\"Numba-compatible standard normal CDF using math.erf.\"\"\"\n",
    "    return 0.5 * (1.0 + math.erf(x / SQRT_2))\n",
    "\n",
    "\n"
   ]
  },
  {
   "cell_type": "code",
   "execution_count": null,
   "id": "4c57b1bf",
   "metadata": {},
   "outputs": [],
   "source": [
    "# ==================================================\n",
    "# 2. Numba-compatible core logic functions\n",
    "# ==================================================\n",
    "\n",
    "@njit(fastmath=True)\n",
    "def analytic_vtilde_caplet_numba(L, H, K, sigma, tau):\n",
    "    \"\"\"Numba-compatible version of analytic_vtilde_caplet.\"\"\"\n",
    "    if L <= 0 or K <= 0 or H <= 0 or tau <= 0 or L >= H: # Add checks for invalid inputs\n",
    "        return 0.0\n",
    "    v = sigma * math.sqrt(tau)\n",
    "    if v == 0: # Avoid division by zero\n",
    "        return max(L - K, 0.0) if L < H else 0.0\n",
    "\n",
    "    log_L = math.log(L)\n",
    "    log_H = math.log(H)\n",
    "    log_K = math.log(K)\n",
    "    half_v2 = 0.5 * v * v\n",
    "\n",
    "    # Calculate d+ and d- terms carefully to avoid log(0) or division by zero\n",
    "    d_plus_LK = (log_L - log_K + half_v2) / v\n",
    "    d_plus_LH = (log_L - log_H + half_v2) / v\n",
    "    d_minus_LK = (log_L - log_K - half_v2) / v\n",
    "    d_minus_LH = (log_L - log_H - half_v2) / v\n",
    "\n",
    "    log_HHKL = 2.0 * log_H - log_K - log_L\n",
    "    log_HL = log_H - log_L\n",
    "\n",
    "    d_plus_HHKL = (log_HHKL + half_v2) / v\n",
    "    d_plus_HL = (log_HL + half_v2) / v\n",
    "    d_minus_HHKL = (log_HHKL - half_v2) / v\n",
    "    d_minus_HL = (log_HL - half_v2) / v\n",
    "\n",
    "\n",
    "    term1 = L * (norm_cdf_numba(d_plus_LK) - norm_cdf_numba(d_plus_LH))\n",
    "    term2 = -K * (norm_cdf_numba(d_minus_LK) - norm_cdf_numba(d_minus_LH))\n",
    "    term3 = -H * (norm_cdf_numba(d_plus_HHKL) - norm_cdf_numba(d_plus_HL))\n",
    "    term4 = K * L / H * (norm_cdf_numba(d_minus_HHKL) - norm_cdf_numba(d_minus_HL))\n",
    "\n",
    "    # Ensure result is non-negative (can happen due to floating point issues near boundaries)\n",
    "    result = term1 + term2 + term3 + term4\n",
    "    return max(result, 0.0)\n",
    "\n",
    "\n",
    "@njit(fastmath=True)\n",
    "def F_vr_exact_numba(L, H, K, sigma, tau):\n",
    "    \"\"\"Numba-compatible exact closed-form ∂_L Ṽ.\"\"\"\n",
    "    if L <= 0 or K <= 0 or H <= 0 or tau <= 0 or L >= H: # Add checks for invalid inputs\n",
    "        return 0.0\n",
    "    v = sigma * math.sqrt(tau)\n",
    "    if v == 0: # Avoid division by zero\n",
    "        return 0.0 # Derivative is 0 if v=0 (or handle based on specific limits)\n",
    "\n",
    "    inv_v = 1.0 / v\n",
    "    log_L = math.log(L)\n",
    "    log_H = math.log(H)\n",
    "    log_K = math.log(K)\n",
    "    half_v2 = 0.5 * v * v\n",
    "\n",
    "    # Calculate terms for dVdL\n",
    "    a1 = (log_L - log_K + half_v2) * inv_v\n",
    "    a2 = (log_L - log_H + half_v2) * inv_v\n",
    "    b1 = (log_L - log_K - half_v2) * inv_v\n",
    "    b2 = (log_L - log_H - half_v2) * inv_v\n",
    "    c1 = (2.0 * log_H - log_K - log_L + half_v2) * inv_v\n",
    "    c2 = (log_H - log_L + half_v2) * inv_v\n",
    "    d1 = (2.0 * log_H - log_K - log_L - half_v2) * inv_v\n",
    "    d2 = (log_H - log_L - half_v2) * inv_v\n",
    "\n",
    "    # Use Numba-compatible pdf/cdf\n",
    "    phi1 = norm_pdf_numba(a1)\n",
    "    phi2 = norm_pdf_numba(a2)\n",
    "    Phi1 = norm_cdf_numba(a1)\n",
    "    Phi2 = norm_cdf_numba(a2)\n",
    "\n",
    "    phib1 = norm_pdf_numba(b1)\n",
    "    phib2 = norm_pdf_numba(b2)\n",
    "\n",
    "    phic1 = norm_pdf_numba(c1)\n",
    "    phic2 = norm_pdf_numba(c2)\n",
    "\n",
    "    phid1 = norm_pdf_numba(d1)\n",
    "    phid2 = norm_pdf_numba(d2)\n",
    "    Phid1 = norm_cdf_numba(d1)\n",
    "    Phid2 = norm_cdf_numba(d2)\n",
    "\n",
    "    # Calculate terms of dVdL\n",
    "    T1 = (Phi1 - Phi2) + inv_v * (phi1 - phi2)\n",
    "    T2 = -(K / (L * v)) * (phib1 - phib2)\n",
    "    T3 = (H / (L * v)) * (phic1 - phic2)\n",
    "    T4 = (K / H) * (Phid1 - Phid2) - (K / (H * v)) * (phid1 - phid2)\n",
    "\n",
    "    dVdL = T1 + T2 + T3 + T4\n",
    "    return -sigma * dVdL"
   ]
  },
  {
   "cell_type": "code",
   "execution_count": null,
   "id": "4c08c70d",
   "metadata": {},
   "outputs": [],
   "source": [
    "# ==================================================\n",
    "# 3. Numba-Optimized Simulation Function\n",
    "# ==================================================\n",
    "\n",
    "@njit(parallel=True, fastmath=True)\n",
    "def simulate_algo2_numba_internal(\n",
    "    L0, H, K, sigma, T, h, N_paths, vr_method_flag # 0:none, 1:exact\n",
    "):\n",
    "    \"\"\"\n",
    "    Internal Numba-compiled simulation loop.\n",
    "    Uses parallel=True for potential speedup across paths.\n",
    "    \"\"\"\n",
    "    M = int(np.ceil(T / h))\n",
    "    lnL0 = math.log(L0)\n",
    "    lnH = math.log(H)\n",
    "    sqrt_h = math.sqrt(h)\n",
    "    half_sig2h = 0.5 * sigma * sigma * h\n",
    "    barrier_check_level = lnH + half_sig2h - sigma * sqrt_h\n",
    "\n",
    "    # Output arrays initialized with zeros\n",
    "    payoffs = np.zeros(N_paths)\n",
    "    Z_vals = np.zeros(N_paths) # Always calculate Z space, use later if vr_method != 0\n",
    "\n",
    "    # Parallel loop over paths\n",
    "    for i in prange(N_paths):\n",
    "        lnL = lnL0\n",
    "        Z = 0.0\n",
    "        path_active = True\n",
    "\n",
    "        for k in range(M):\n",
    "            # Check barrier condition FIRST\n",
    "            if lnL >= barrier_check_level:\n",
    "                path_active = False\n",
    "                break # Exit inner loop for this path\n",
    "\n",
    "            # Generate random step for this path and step\n",
    "            # Use Numba's recommended way for parallel RNG: get state per thread\n",
    "            # Simpler for now: use standard np.random inside loop (less ideal for perfect parallel scaling/reproducibility)\n",
    "            # A better approach involves passing pre-generated random numbers array.\n",
    "            # Using simple approach for now:\n",
    "            xi = np.random.randint(0, 2) * 2 - 1 # Generates -1 or 1\n",
    "\n",
    "            # Calculate next step lnL\n",
    "            lnL_next = lnL - half_sig2h + sigma * sqrt_h * xi\n",
    "\n",
    "            # Calculate Control Variate Increment (if applicable) BEFORE updating lnL\n",
    "            if vr_method_flag == 1: # 1 means \"exact\"\n",
    "                 # Calculate tau remaining for the *current* step k\n",
    "                 # The CV term F depends on the state *before* the random jump,\n",
    "                 # but the paper's formula Z = sum F(L_k+1) * dW_k uses state *after* jump.\n",
    "                 # Let's follow the paper's formula (4.6) which uses L(t_k+1)\n",
    "                 # tau = T - (k + 1) * h # Time remaining *after* the step\n",
    "                 # if tau > 1e-10: # Ensure tau is positive\n",
    "                 #     L_next = math.exp(lnL_next)\n",
    "                 #     # Check if L_next is valid before calling F_vr\n",
    "                 #     if L_next < H and L_next > 0:\n",
    "                 #         Fvr = F_vr_exact_numba(L_next, H, K, sigma, tau)\n",
    "                 #         Z += Fvr * sqrt_h * xi\n",
    "\n",
    "                 # *** Correction based on typical CV application & formula (4.6) ***\n",
    "                 # The control variate Z = sum_{k=0}^{M-1} F(t_k, L(t_k)) * (L(t_{k+1}) - L(t_k) - drift)\n",
    "                 # Or simpler Z = sum F * dW = sum F * sigma * sqrt(h) * xi\n",
    "                 # The function F should be evaluated at the *start* of the interval (t_k, L(t_k))\n",
    "                 tau = T - k * h # Time remaining at the start of the step\n",
    "                 if tau > 1e-10:\n",
    "                     L_current = math.exp(lnL)\n",
    "                     if L_current < H and L_current > 0: # Ensure valid state\n",
    "                         Fvr = F_vr_exact_numba(L_current, H, K, sigma, tau)\n",
    "                         Z += Fvr * sigma * sqrt_h * xi # Match dZ = F * dW\n",
    "\n",
    "\n",
    "            # Update Log Libor rate\n",
    "            lnL = lnL_next\n",
    "\n",
    "        # End of inner loop (time steps)\n",
    "\n",
    "        # Calculate payoff only if path survived until maturity (k == M-1 means loop finished)\n",
    "        if path_active:\n",
    "            payoffs[i] = max(math.exp(lnL) - K, 0.0)\n",
    "        # else: payoff remains 0 (hit barrier)\n",
    "\n",
    "        if vr_method_flag != 0:\n",
    "             Z_vals[i] = Z # Store accumulated Z for this path\n",
    "\n",
    "    return payoffs, Z_vals\n",
    "\n",
    "\n",
    "def simulate_algo2_numba(\n",
    "    L0, H, K, sigma, T, h, N_paths,\n",
    "    vr_method: str = \"none\",   # \"none\" or \"exact\"\n",
    "    seed: int = 42\n",
    "):\n",
    "    \"\"\"\n",
    "    Wrapper function for the Numba simulation.\n",
    "    Handles seeding, calling the Numba kernel, and final CV calculation.\n",
    "    \"\"\"\n",
    "    # Seed NumPy's global random state for Numba (if reproducibility is needed)\n",
    "    # Note: Seeding global state isn't ideal for perfect parallel reproducibility.\n",
    "    # For strict reproducibility, generate random numbers outside and pass them in.\n",
    "    np.random.seed(seed)\n",
    "\n",
    "    vr_flag = 0\n",
    "    if vr_method == \"exact\":\n",
    "        vr_flag = 1\n",
    "    elif vr_method != \"none\":\n",
    "        raise ValueError(\"vr_method must be 'none' or 'exact' for Numba version\")\n",
    "\n",
    "    # --- Run the Numba simulation ---\n",
    "    print(f\"Starting Numba simulation for {N_paths} paths...\")\n",
    "    payoffs, Z_vals = simulate_algo2_numba_internal(\n",
    "        L0, H, K, sigma, T, h, N_paths, vr_flag\n",
    "    )\n",
    "    print(\"Numba simulation finished.\")\n",
    "    # --------------------------------\n",
    "\n",
    "    # --- Post-processing ---\n",
    "    # No control-variate: plain MC\n",
    "    if vr_flag == 0:\n",
    "        price = np.mean(payoffs)\n",
    "        # Calculate stderr using ddof=1 for sample standard deviation\n",
    "        stderr = np.std(payoffs, ddof=1) / np.sqrt(N_paths)\n",
    "        print(\"Calculating final price/stderr (no VR)...\")\n",
    "        return price, stderr\n",
    "\n",
    "    # Control-variate adjustment\n",
    "    else:\n",
    "        print(\"Calculating final price/stderr with Control Variate...\")\n",
    "        # Use ddof=1 for unbiased sample covariance and variance\n",
    "        # np.cov returns a 2x2 matrix\n",
    "        cov_matrix = np.cov(payoffs, Z_vals, ddof=1)\n",
    "\n",
    "        # Handle cases where variance might be zero or near-zero\n",
    "        varZ = cov_matrix[1, 1]\n",
    "        if varZ < 1e-20: # Check if variance is effectively zero\n",
    "             print(\"Warning: Variance of Z is near zero. Skipping CV adjustment.\")\n",
    "             g = 0.0\n",
    "             price = np.mean(payoffs) # Fallback to plain MC price\n",
    "        else:\n",
    "            cov = cov_matrix[0, 1]\n",
    "            g = cov / varZ # Optimal control variate coefficient\n",
    "\n",
    "            # Apply adjustment: V_adj = V - g * (Z - E[Z])\n",
    "            # E[Z] should be 0 for this martingale control variate, but use sample mean for robustness\n",
    "            Z_bar = np.mean(Z_vals)\n",
    "            adj_payoffs = payoffs - g * (Z_vals - Z_bar) # Adjusted payoffs\n",
    "            price = np.mean(adj_payoffs)\n",
    "\n",
    "\n",
    "        # Calculate stderr of the *adjusted* payoffs\n",
    "        # Need to recalculate variance of adjusted payoffs if g was non-zero\n",
    "        if g != 0.0:\n",
    "             stderr = np.std(adj_payoffs, ddof=1) / np.sqrt(N_paths)\n",
    "        else: # If g is zero, stderr is based on original payoffs\n",
    "             stderr = np.std(payoffs, ddof=1) / np.sqrt(N_paths)\n",
    "\n",
    "\n",
    "        print(\"CV calculation finished.\")\n",
    "        return price, stderr, g\n"
   ]
  },
  {
   "cell_type": "code",
   "execution_count": 22,
   "id": "69cd9f22",
   "metadata": {},
   "outputs": [
    {
     "name": "stdout",
     "output_type": "stream",
     "text": [
      "Parameters: L0=0.13, H=0.28, K=0.01, sigma=0.25, T=9.0, h=0.015625, N_paths=1000000\n",
      "Starting Numba simulation for 1000000 paths...\n",
      "Numba simulation finished.\n",
      "Calculating final price/stderr (no VR)...\n",
      "\n",
      "Numba Plain MC Result:\n",
      "Price: 0.06437730 ± 0.00005608\n",
      "Time:  1.01 seconds\n",
      "Simulations per second: 992917\n",
      "------------------------------\n",
      "Starting Numba simulation for 1000000 paths...\n",
      "Numba simulation finished.\n",
      "Calculating final price/stderr with Control Variate...\n",
      "CV calculation finished.\n",
      "\n",
      "Numba Exact CV Result:\n",
      "Price: 0.06440607 ± 0.00002985 (g=-0.3937)\n",
      "Time:  21.76 seconds\n",
      "Simulations per second: 45959\n",
      "------------------------------\n",
      "\n",
      "Variance Reduction Factor (Exact CV vs Plain): 3.53x\n",
      "\n",
      "Achieved simulations per hour (Exact CV): 165,453,045\n",
      "Target simulations per hour:             1,000,000\n",
      ">>> Target performance MET or EXCEEDED! <<<\n",
      "\n",
      "Estimated speedup vs original (50 sims/sec): 919.2x\n",
      ">>> Target speedup (5x) ACHIEVED! <<<\n"
     ]
    }
   ],
   "source": [
    "# ==================================================\n",
    "# 4. Running the Simulation\n",
    "# ==================================================\n",
    "import time\n",
    "\n",
    "print(f\"Parameters: L0={L0}, H={H}, K={K}, sigma={sigma}, T={T}, h={h}, N_paths={N_paths}\")\n",
    "\n",
    "# --- Run Plain MC (Numba) ---\n",
    "start_time = time.time()\n",
    "p0_numba, e0_numba = simulate_algo2_numba(\n",
    "    L0, H, K, sigma, T, h, N_paths, vr_method=\"none\", seed=seed\n",
    ")\n",
    "end_time = time.time()\n",
    "time_plain = end_time - start_time\n",
    "print(f\"\\nNumba Plain MC Result:\")\n",
    "print(f\"Price: {p0_numba:.8f} ± {e0_numba:.8f}\")\n",
    "print(f\"Time:  {time_plain:.2f} seconds\")\n",
    "print(f\"Simulations per second: {N_paths / time_plain:.0f}\")\n",
    "print(\"-\" * 30)\n",
    "\n",
    "\n",
    "# --- Run Exact CV (Numba) ---\n",
    "start_time = time.time()\n",
    "p_ex_numba, e_ex_numba, g_ex_numba = simulate_algo2_numba(\n",
    "    L0, H, K, sigma, T, h, N_paths, vr_method=\"exact\", seed=seed\n",
    ")\n",
    "end_time = time.time()\n",
    "time_exact = end_time - start_time\n",
    "print(f\"\\nNumba Exact CV Result:\")\n",
    "print(f\"Price: {p_ex_numba:.8f} ± {e_ex_numba:.8f} (g={g_ex_numba:.4f})\")\n",
    "print(f\"Time:  {time_exact:.2f} seconds\")\n",
    "print(f\"Simulations per second: {N_paths / time_exact:.0f}\")\n",
    "print(\"-\" * 30)\n",
    "\n",
    "# --- Variance Reduction Analysis ---\n",
    "if 'e0_numba' in locals() and 'e_ex_numba' in locals() and e_ex_numba > 0:\n",
    "    variance_reduction_factor = (e0_numba / e_ex_numba)**2\n",
    "    print(f\"\\nVariance Reduction Factor (Exact CV vs Plain): {variance_reduction_factor:.2f}x\")\n",
    "else:\n",
    "    print(\"\\nCould not calculate variance reduction factor (check standard errors).\")\n",
    "\n",
    "# --- Performance vs Target ---\n",
    "sims_per_hour_exact = (N_paths / time_exact) * 3600\n",
    "target_sims_per_hour = 1_000_000\n",
    "print(f\"\\nAchieved simulations per hour (Exact CV): {sims_per_hour_exact:,.0f}\")\n",
    "print(f\"Target simulations per hour:             {target_sims_per_hour:,.0f}\")\n",
    "if sims_per_hour_exact >= target_sims_per_hour:\n",
    "    print(\">>> Target performance MET or EXCEEDED! <<<\")\n",
    "else:\n",
    "    print(\">>> Target performance NOT met. <<<\")\n",
    "\n",
    "# Compare speedup vs original estimate (3000/min = 50/sec)\n",
    "original_sims_per_sec = 50\n",
    "speedup_factor = (N_paths / time_exact) / original_sims_per_sec\n",
    "print(f\"\\nEstimated speedup vs original ({original_sims_per_sec:.0f} sims/sec): {speedup_factor:.1f}x\")\n",
    "target_speedup = 5\n",
    "if speedup_factor >= target_speedup:\n",
    "     print(f\">>> Target speedup ({target_speedup}x) ACHIEVED! <<<\")\n",
    "else:\n",
    "     print(f\">>> Target speedup ({target_speedup}x) NOT achieved. <<<\")"
   ]
  },
  {
   "cell_type": "code",
   "execution_count": 23,
   "id": "2108f456",
   "metadata": {},
   "outputs": [
    {
     "name": "stdout",
     "output_type": "stream",
     "text": [
      "plain: 0.062768 ± 0.001029\n",
      "FD-CV:  0.062768 ± 0.000965 (g=-0.0479)\n",
      "Exact:  0.062768 ± 0.000965 (g=-0.0479)\n"
     ]
    }
   ],
   "source": [
    "print(f\"plain: {p0:.6f} ± {e0:.6f}\")\n",
    "print(f\"FD-CV:  {p_fd:.6f} ± {e_fd:.6f} (g={g_fd:.4f})\")\n",
    "print(f\"Exact:  {p_ex:.6f} ± {e_ex:.6f} (g={g_ex:.4f})\")"
   ]
  },
  {
   "cell_type": "code",
   "execution_count": null,
   "id": "1fe36cc3",
   "metadata": {},
   "outputs": [],
   "source": []
  }
 ],
 "metadata": {
  "kernelspec": {
   "display_name": "Python 3",
   "language": "python",
   "name": "python3"
  },
  "language_info": {
   "codemirror_mode": {
    "name": "ipython",
    "version": 3
   },
   "file_extension": ".py",
   "mimetype": "text/x-python",
   "name": "python",
   "nbconvert_exporter": "python",
   "pygments_lexer": "ipython3",
   "version": "3.11.11"
  }
 },
 "nbformat": 4,
 "nbformat_minor": 5
}
