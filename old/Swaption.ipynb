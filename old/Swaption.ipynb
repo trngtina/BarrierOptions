{
 "cells": [
  {
   "cell_type": "markdown",
   "id": "ac9dc409",
   "metadata": {},
   "source": [
    "# Barrier swaption"
   ]
  },
  {
   "cell_type": "markdown",
   "id": "79c788ed",
   "metadata": {},
   "source": [
    "In this section we consider Monte Carlo evaluation of a knock-out swaption\n",
    "under the LMM. We use the knock-out swaption as a guide in our exposition,\n",
    "its treatment is rather general and it can be used to value diﬀerent barrier\n",
    "options, where the underlying and barrier can be expressed as functionals of\n",
    "some diﬀusion process."
   ]
  },
  {
   "cell_type": "markdown",
   "id": "28e2f255",
   "metadata": {},
   "source": [
    "A European payer (receiver) swaption is an option that gives its holder a\n",
    "right, but not an obligation, to enter a payer (receiver) swap at a future date\n",
    "at a given fixed rate K. Usually, the swaption maturity coincides with the first\n",
    "reset date T0 of the underlying swap. The underlying swap length TN− T0 is\n",
    "called the tenor of the swaption."
   ]
  },
  {
   "cell_type": "markdown",
   "id": "58883521",
   "metadata": {},
   "source": [
    "$$\n",
    "V_{\\text{swaption}}(0) = P(0, T_0) \\, \\mathbb{E}^{\\mathbb{Q}^{T_0}} \\left[\n",
    "\\delta \\left( R_{\\text{swap}}(T_0) - K \\right)_+\n",
    "\\sum_{j=1}^{N} P(T_0, T_j) \\, \\chi(\\theta > T_0)\n",
    "\\right]\n",
    "\\tag{6.1}\n",
    "$$\n",
    "\n",
    "where $\\theta$ is the first exit time of the process $R_{\\text{swap}}(s), s \\geq 0$,\n",
    "from the interval $(0, R_{\\text{up}})$.\n",
    "That is, $\\theta$ is the earliest time at which the swap rate crosses the upper barrier $R_{\\text{up}}$,\n",
    "causing the knock-out feature of the swaption to be triggered."
   ]
  },
  {
   "cell_type": "code",
   "execution_count": 207,
   "id": "6255f90c",
   "metadata": {},
   "outputs": [],
   "source": [
    "import numpy as np\n",
    "from scipy.linalg import cholesky\n",
    "from scipy.optimize import minimize\n",
    "from tqdm import tqdm\n",
    "from scipy.stats import norm"
   ]
  },
  {
   "cell_type": "markdown",
   "id": "87f488ab",
   "metadata": {},
   "source": [
    "## 0. Setup du modèle"
   ]
  },
  {
   "cell_type": "markdown",
   "id": "42bfd54a",
   "metadata": {},
   "source": [
    "- Nombre de forward rates `N`\n",
    "- Maturité $(T_0)$ découpée en `M` pas de taille `h`\n",
    "- Courbe initiale `L0`, volatilités `sigma`\n",
    "- Corrélation exponentielle $( \\rho_{ij} = e^{-\\beta|T_i - T_j|} $)"
   ]
  },
  {
   "cell_type": "code",
   "execution_count": 208,
   "id": "82e37e7b",
   "metadata": {},
   "outputs": [],
   "source": [
    "# Paramètres\n",
    "N     = 10\n",
    "T0    = 10.0\n",
    "delta = 1.0\n",
    "M     = 100\n",
    "h     = T0 / M\n",
    "K     = 0.01   # Strike\n",
    "Rup   = 0.075  # Barrier\n",
    "L0    = 0.05 * np.ones(N)\n",
    "sigma = 0.10 * np.ones(N)\n",
    "beta  = 0.1\n",
    "T_star= T0 + delta * N"
   ]
  },
  {
   "cell_type": "markdown",
   "id": "2d9e29f2",
   "metadata": {},
   "source": [
    "$$\n",
    "\\rho_{i,j} = \\exp(-\\beta |T_i - T_j|).\n",
    "\\tag{3.6}\n",
    "$$\n",
    "\n",
    "Where $U$ is the upper triangular matrix\n",
    "$$\n",
    "\\rho = UU^\\top,\n",
    "\\tag{3.5}\n",
    "$$"
   ]
  },
  {
   "cell_type": "code",
   "execution_count": 209,
   "id": "07c89294",
   "metadata": {},
   "outputs": [],
   "source": [
    "# Corrélation et Cholesky\n",
    "times = T0 + delta * np.arange(N)       # T_i = T0, T0+δ, …, T0+(N-1)δ\n",
    "rho   = np.exp(-beta * np.abs(times[:, None] - times[None, :]))\n",
    "U     = cholesky(rho, lower=False)\n",
    "\n",
    "# PRICE conventionnel\n",
    "T0_index = int(T0 / delta)\n",
    "P0_T0 = np.prod(1.0 / (1 + delta * L0[:T0_index]))\n",
    "\n",
    "# Matrice précomputée pour drift (i >= j)\n",
    "full_mat  = rho * np.outer(sigma, sigma)\n",
    "drift_mat = np.tril(full_mat)           # (i,j) zero if j>i"
   ]
  },
  {
   "cell_type": "markdown",
   "id": "5eec6878",
   "metadata": {},
   "source": [
    "### Swap Rate Function"
   ]
  },
  {
   "cell_type": "markdown",
   "id": "39e2f2c1",
   "metadata": {},
   "source": [
    "The swap rate $R_{swap}(s)$ can be expressed in terms of the spanning LIBOR rates as:\n",
    "\n",
    "$$\n",
    "R_{\\text{swap}}(s) = \\frac{1 - \\frac{1}{\\prod\\limits_{j=0}^{N-1} \\left(1 + \\delta L^j(s)\\right)}}\n",
    "{\\delta \\sum\\limits_{i=0}^{N-1} \\frac{1}{\\prod\\limits_{j=0}^{i} \\left(1 + \\delta L^j(s)\\right)}}.\n",
    "\\tag{6.2}\n",
    "$$"
   ]
  },
  {
   "cell_type": "code",
   "execution_count": 210,
   "id": "04594b00",
   "metadata": {},
   "outputs": [],
   "source": [
    "def R_swap(logL, delta):\n",
    "    L = np.exp(logL)\n",
    "    discount_prod = np.prod(1 + delta * L)\n",
    "    numer = 1 - 1.0 / discount_prod\n",
    "    denom = delta * np.sum(1.0 / np.cumprod(1 + delta * L))\n",
    "    return numer / denom"
   ]
  },
  {
   "cell_type": "markdown",
   "id": "2eb505dc",
   "metadata": {},
   "source": [
    "## 1. Approximation analytique\n",
    "\n",
    "For test purposes, let us introduce an analytical approximation for the barrier swaption. To this end, we note that under the Swap Market Model (SMM, see details in [4, 18, 21]) the barrier swaption pricing problem admits the closed-form solution (cf. (4.3)):\n"
   ]
  },
  {
   "cell_type": "markdown",
   "id": "b0c7d241",
   "metadata": {},
   "source": [
    "- La payer swaption KO est deep in-the-money\n",
    "- La **receiver swaption KO** est deep out-of-the-money"
   ]
  },
  {
   "cell_type": "code",
   "execution_count": 211,
   "id": "9418ec79",
   "metadata": {},
   "outputs": [
    {
     "name": "stdout",
     "output_type": "stream",
     "text": [
      "Swap rate initial R0:          0.050000\n",
      "Volatilité effective v:        0.065629\n",
      "Prix analytique payer KO :     0.308869\n",
      "Prix analytique receiver KO ≈  0.154435\n"
     ]
    }
   ],
   "source": [
    "# Swap rate initial R0\n",
    "R0 = R_swap(np.log(L0), delta)\n",
    "\n",
    "# --- 4) Discount factors P(0,Tj) pour j=1..N ---\n",
    "P0_T = np.concatenate(([1.0], np.cumprod(1.0 / (1 + delta * L0))))\n",
    "annuity = np.sum(P0_T[1:])   # somme des P(0,Tj)\n",
    "\n",
    "# --- 5) Pondérations ω_i(0) vectorisées ---\n",
    "prefix = np.ones(N)\n",
    "prefix[1:] = np.cumprod(1 + delta * L0[:-1])\n",
    "denom_w = delta * np.sum(1.0 / prefix)\n",
    "weights = (1.0 - 1.0 / prefix) / denom_w       # shape (N,)\n",
    "\n",
    "# --- 6) Volatilité effective v selon Rebonato (6.5) ---\n",
    "# ∫₀^T0 σ_i(s)σ_j(s) ds = σ_i * σ_j * T0\n",
    "integrals = np.outer(sigma, sigma) * T0         # matrice (i,j)\n",
    "wL = weights * L0                              # vecteur (i)\n",
    "num = np.outer(wL, wL) * rho * integrals        # numérateur v²\n",
    "v2  = num.sum() / (R0**2)\n",
    "v   = np.sqrt(v2)\n",
    "\n",
    "# --- 7) Fonctions d± ---\n",
    "dplus  = lambda x: (np.log(x) + 0.5 * v**2) / v\n",
    "dminus = lambda x: (np.log(x) - 0.5 * v**2) / v\n",
    "\n",
    "# --- 7. Ratios utiles ---\n",
    "x1 = R0 / K\n",
    "x2 = R0 / Rup\n",
    "y1 = Rup**2 / (K * R0)\n",
    "y2 = Rup / R0\n",
    "\n",
    "# --- 8. Termes de la formule fermée (eq. 6.4) ---\n",
    "term1 = R0 * (norm.cdf(dplus(x1)) - norm.cdf(dplus(x2)))\n",
    "term3 = - K   * (norm.cdf(dminus(x1)) - norm.cdf(dminus(x2)))\n",
    "term4 = - Rup * (norm.cdf(dplus(y1)) - norm.cdf(dplus(y2)))\n",
    "term5 =   K * R0 / Rup * (norm.cdf(dminus(y1)) - norm.cdf(dminus(y2)))\n",
    "\n",
    "# --- 9. Prix analytique final (payer swaption barrière) ---\n",
    "brace = term1 + term3 + term4 + term5\n",
    "price_payer = delta * annuity * brace\n",
    "\n",
    "# --- 10. Receiver swaption KO (≈ moitié du payer) ---\n",
    "price_receiver = 0.5 * price_payer\n",
    "\n",
    "# --- Affichage ---\n",
    "print(f\"Swap rate initial R0:          {R0:.6f}\")\n",
    "print(f\"Volatilité effective v:        {v:.6f}\")\n",
    "print(f\"Prix analytique payer KO :     {price_payer:.6f}\")\n",
    "print(f\"Prix analytique receiver KO ≈  {price_receiver:.6f}\")"
   ]
  },
  {
   "cell_type": "markdown",
   "id": "54097bb1",
   "metadata": {},
   "source": [
    "## 2. Projection sur la surface barrière"
   ]
  },
  {
   "cell_type": "markdown",
   "id": "17e0ed67",
   "metadata": {},
   "source": [
    "For completeness of the exposition, let us discuss how the projection $\\ln L_k^{\\pi}$\n",
    "can be simulated before we return to the description of the algorithm. The\n",
    "problem of finding point $\\ln L_k^{\\pi}$ is equivalent to finding the minimum value of the function\n",
    "\n",
    "$$\n",
    "\\left| \\ln L_k^\\pi - \\ln L_k \\right|^2 = \\left( \\ln L_k^{\\pi,0} - \\ln L_k^0 \\right)^2 + \\cdots + \\left( \\ln L_k^{\\pi,N-1} - \\ln L_k^{N-1} \\right)^2 \\tag{6.11}\n",
    "$$\n",
    "subject to the constraint\n",
    "$$\n",
    "\\ln \\left(\n",
    "\\frac{ \\displaystyle\\prod_{j=0}^{N-1} \\left( 1 + \\delta L_k^{\\pi,j} \\right) - 1 }{\n",
    "\\delta \\left( 1 + \\displaystyle\\sum_{i=0}^{N-2} \\prod_{j=i+1}^{N-1} \\left( 1 + \\delta L_k^{\\pi,j} \\right) \\right) }\n",
    "\\right) = \\ln R_{\\text{up}} \\tag{6.12}\n",
    "$$"
   ]
  },
  {
   "cell_type": "code",
   "execution_count": 212,
   "id": "2e6012e7",
   "metadata": {},
   "outputs": [],
   "source": [
    "## Full constrained optimization\n",
    "\n",
    "def project_to_barrier(x, delta, Rup):\n",
    "    cons = {\n",
    "        'type': 'eq',\n",
    "        'fun': lambda logL: np.log(R_swap(logL, delta)) - np.log(Rup)\n",
    "    }\n",
    "    res = minimize(\n",
    "        fun=lambda logL: np.sum((logL - x)**2),\n",
    "        x0=x.copy(),\n",
    "        constraints=cons,\n",
    "        method='SLSQP'\n",
    "    )\n",
    "    if not res.success:\n",
    "        raise RuntimeError(\"Projection failed: \" + res.message)\n",
    "    return res.x"
   ]
  },
  {
   "cell_type": "markdown",
   "id": "57cb8412",
   "metadata": {},
   "source": [
    "Hence the minimization problem is reduced to finding the point $\\ln L_k^{\\pi,1}, \\ldots, \\ln L_k^{\\pi,N-1}$ at which the function $|\\ln L_k^{\\pi} - \\ln L_k|^2$ from (6.11) with $\\ln L_k^{\\pi,0}$ from (6.13) has its minimum value. This optimization problem can be solved using standard procedures, e.g. the MATLAB function lsqnonlin().\n"
   ]
  },
  {
   "cell_type": "markdown",
   "id": "983b1271",
   "metadata": {},
   "source": [
    "The equation (6.13) is given by:\n",
    "$$\n",
    "\\ln L_k^{\\pi,0} = \\ln \\left( \\frac{\n",
    "R_{up} \\cdot \\left( 1 + \\sum_{i=0}^{N-2} \\prod_{j=i+1}^{N-1} \\left( 1 + \\delta L_k^{\\pi,j} \\right) \\right) + 1\n",
    "}{\n",
    "\\prod_{j=1}^{N-1} \\left( 1 + \\delta L_k^{\\pi,j} \\right)\n",
    "} - \\frac{1}{\\delta} \\right) \\tag{6.13}\n",
    "$$"
   ]
  },
  {
   "cell_type": "code",
   "execution_count": 213,
   "id": "f4251028",
   "metadata": {},
   "outputs": [],
   "source": [
    "def project_to_barrier2(x, delta, Rup):\n",
    "    \"\"\"\n",
    "    Fast and robust projection of logL onto the surface R_swap = Rup.\n",
    "    Uses semi-analytic formula for logL0 (eq. 6.13) to reduce to (N-1) variables.\n",
    "    \"\"\"\n",
    "    N = x.shape[0]\n",
    "    eps = 1e-6  # ← internal safeguard threshold\n",
    "\n",
    "    def objective(y):\n",
    "        try:\n",
    "            L_tail = np.exp(y)\n",
    "            one_plus = 1 + delta * L_tail\n",
    "            revcp = np.cumprod(one_plus[::-1])[::-1]\n",
    "            prods = revcp\n",
    "            sum_term = 1 + np.sum(prods)\n",
    "\n",
    "            numerator = Rup * sum_term + 1\n",
    "            denominator = np.prod(one_plus)\n",
    "            term = numerator / denominator\n",
    "\n",
    "            log_arg = term - 1.0 / delta\n",
    "            if log_arg <= eps:\n",
    "                return 1e6 * (eps - log_arg)**2\n",
    "\n",
    "            logL0 = np.log(log_arg)\n",
    "\n",
    "            logLpi = np.empty(N)\n",
    "            logLpi[0] = logL0\n",
    "            logLpi[1:] = y\n",
    "            return np.sum((logLpi - x)**2)\n",
    "\n",
    "        except Exception:\n",
    "            return 1e12\n",
    "\n",
    "    y0 = np.clip(x[1:], -5.0, 5.0)\n",
    "\n",
    "    res = minimize(objective, y0, method='L-BFGS-B',\n",
    "                   options={'ftol': 1e-9, 'gtol': 1e-5, 'maxiter': 100})\n",
    "\n",
    "    if not res.success:\n",
    "        raise RuntimeError(f\"Projection2 failed: {res.message}\")\n",
    "\n",
    "    # Reconstruct final logLpi\n",
    "    y_opt = res.x\n",
    "    L_tail = np.exp(y_opt)\n",
    "    one_plus = 1 + delta * L_tail\n",
    "    revcp = np.cumprod(one_plus[::-1])[::-1]\n",
    "    prods = revcp\n",
    "    sum_term = 1 + np.sum(prods)\n",
    "    numerator = Rup * sum_term + 1\n",
    "    denominator = np.prod(one_plus)\n",
    "    log_arg = numerator / denominator - 1.0 / delta\n",
    "\n",
    "    if log_arg <= 0:\n",
    "        raise RuntimeError(\"Projection2 failed post-opt: log_arg <= 0\")\n",
    "\n",
    "    logL0 = np.log(log_arg)\n",
    "    logLpi = np.empty(N)\n",
    "    logLpi[0] = logL0\n",
    "    logLpi[1:] = y_opt\n",
    "    return logLpi"
   ]
  },
  {
   "cell_type": "markdown",
   "id": "a0d2d091",
   "metadata": {},
   "source": [
    "## 3. Simulation Monte Carlo\n",
    "\n",
    "- **Coarse check** : test rapide pour rester loin de la barrière\n",
    "- **Fine check** : perturbation maximale en un pas\n",
    "- **Boundary zone** : projection + saut auxiliaire"
   ]
  },
  {
   "cell_type": "markdown",
   "id": "654d3897",
   "metadata": {},
   "source": [
    "Introduce\n",
    "$$ \\ln L_{k, Max} = \\max_i \\ln L_k^i $$\n",
    "\n",
    "$$\n",
    "\\ln \\hat{L}_{k+1} = \\ln L_{k, Max} + \\sigma_{Max}^2 hN - \\frac{1}{2} \\sigma_{Max}^2 h + \\sigma_{Max} \\sqrt{hN}, \\tag{6.7}\n",
    "$$\n",
    "\n",
    "where $$ \\sigma_{Max} = \\max_{i,k} \\sigma_i(t_k).$$\n",
    "Using the fact that $$ R_{swap}(\\hat{L}_{k+1}, …, \\hat{L}_{k+1}) = \\hat{L}_{k+1} $$"
   ]
  },
  {
   "cell_type": "markdown",
   "id": "b25787c3",
   "metadata": {},
   "source": [
    "### Algorithm 2.1 – weak order 1 with kick‑back reflection"
   ]
  },
  {
   "cell_type": "code",
   "execution_count": 216,
   "id": "ea91c430",
   "metadata": {},
   "outputs": [
    {
     "name": "stderr",
     "output_type": "stream",
     "text": [
      "MC paths: 100%|██████████| 100000/100000 [02:06<00:00, 792.71it/s]\n"
     ]
    }
   ],
   "source": [
    "# Nombre de chemins\n",
    "n_paths    = 100_000\n",
    "payoffs    = np.zeros(n_paths)\n",
    "exit_times = np.zeros(n_paths)  # stocke l'étape d'exit pour chaque chemin\n",
    "h = 0.25\n",
    "M = int(T0 / h)           # Number of time steps until T0\n",
    "\n",
    "# Nouvelle variable pour stocker la somme des discounts P(T0,Tj) pour chemins survivants\n",
    "discount_sums = np.zeros(n_paths)\n",
    "prices = np.zeros(n_paths)\n",
    "\n",
    "for p in tqdm(range(n_paths), desc=\"MC paths\"):\n",
    "    # Initialize per-path variables\n",
    "    logL = np.log(L0)\n",
    "    knocked_out = False\n",
    "    exit_step = M\n",
    "    # Precompute coarse_bound from eq (6.7)\n",
    "    sigma_max = np.max(sigma)\n",
    "    coarse_bound = (\n",
    "        sigma_max**2 * h * N\n",
    "        - 0.5 * sigma_max**2 * h\n",
    "        + sigma_max * np.sqrt(h * N)\n",
    "    )\n",
    "\n",
    "    for k in range(M):\n",
    "        L = np.exp(logL)\n",
    "        # Drift vector\n",
    "        v         = delta * L / (1 + delta * L)\n",
    "        drift_vec = drift_mat.dot(v) * h - 0.5 * sigma**2 * h\n",
    "\n",
    "        # Coarse check: bound from (6.7)\n",
    "        if np.max(logL) + coarse_bound < np.log(Rup):\n",
    "            xi        = np.random.choice([-1,1], size=N)\n",
    "            diffusion = sigma * np.sqrt(h) * (U.T @ xi)\n",
    "            logL    += drift_vec + diffusion\n",
    "            continue\n",
    "\n",
    "        # Fine check: worst-case drift + diffusion per coordinate\n",
    "        L_vec = L  # already computed\n",
    "        idx   = np.arange(N)\n",
    "        drift_worst = (idx + 1) * sigma * sigma_max * h\n",
    "        diff_worst  = sigma * np.sqrt((N - idx) * h)\n",
    "        L_pert      = L_vec * (1 + drift_worst + diff_worst)\n",
    "        logL_pert   = np.log(L_pert)\n",
    "        if R_swap(logL_pert, delta) < Rup:\n",
    "            xi        = np.random.choice([-1,1], size=N)\n",
    "            diffusion = sigma * np.sqrt(h) * (U.T @ xi)\n",
    "            logL    += drift_vec + diffusion\n",
    "            continue\n",
    "\n",
    "        # Boundary zone\n",
    "        logL_pi = project_to_barrier2(logL, delta, Rup)\n",
    "        dist    = np.linalg.norm(logL_pi - logL)\n",
    "        lambda_k = np.sqrt(N) * coarse_bound  # use bound as lambda*sqrt(h)\n",
    "\n",
    "        if np.random.rand() < lambda_k / (dist + lambda_k):\n",
    "            knocked_out = True\n",
    "            exit_step   = k\n",
    "            break\n",
    "\n",
    "        # Jump back then Euler\n",
    "        logL    += (lambda_k / dist) * (logL_pi - logL)\n",
    "        xi        = np.random.choice([-1,1], size=N)\n",
    "        diffusion = sigma * np.sqrt(h) * (U.T @ xi)\n",
    "        logL    += drift_vec + diffusion\n",
    "\n",
    "    exit_times[p] = exit_step * h\n",
    "    if not knocked_out:\n",
    "        payoffs[p] = delta * max(R_swap(logL, delta) - K, 0)\n",
    "        # L est le vecteur des prix finaux des forwards: L_end = exp(logL)\n",
    "        L_end = np.exp(logL)\n",
    "        # discount_curve[j] = P(T0, T_{j+1}) = prod_{i=0..j} 1/(1+delta*L_end[i])\n",
    "        discount_curve = np.cumprod(1.0/(1 + delta * L_end))\n",
    "        # somme pour j=1...N\n",
    "        discount_sums[p] = np.sum(discount_curve)\n",
    "        prices[p] = P0_T0 * (discount_sums[p] * payoffs[p])"
   ]
  },
  {
   "cell_type": "code",
   "execution_count": 215,
   "id": "15269bed",
   "metadata": {},
   "outputs": [
    {
     "name": "stdout",
     "output_type": "stream",
     "text": [
      "0.12980509569886936 8.955725\n",
      "0.3088693969016971\n",
      "h          error                     mean exit time \n",
      "-------------------------------------------------------\n",
      "0.25000    1.79e-01 ± 8.05e-04   8.96\n"
     ]
    }
   ],
   "source": [
    "price_algo1      = np.mean(prices)\n",
    "p_stderr_algo1   = prices.std(ddof=1) / np.sqrt(n_paths)\n",
    "exit_time_algo1  = np.mean(exit_times)\n",
    "\n",
    "print(price_algo1, exit_time_algo1)\n",
    "print(price_payer)\n",
    "\n",
    "# Header\n",
    "print(f\"{'h':<10} {'error':<25} {'mean exit time':<15}\")\n",
    "print(\"-\" * 55)\n",
    "\n",
    "# Row\n",
    "h_value = h  # your current step size, e.g. 0.1\n",
    "error = abs(price_algo1 - price_payer)\n",
    "print(f\"{h_value:<10.5f} \"\n",
    "      f\"{error:.2e} ± {p_stderr_algo1:.2e}   \"\n",
    "      f\"{exit_time_algo1:.2f}\")"
   ]
  },
  {
   "cell_type": "markdown",
   "id": "1639a193",
   "metadata": {},
   "source": [
    "### Algorithm 2.2 – weak order 1/2, absorbing barrier (no VR)"
   ]
  },
  {
   "cell_type": "code",
   "execution_count": 217,
   "id": "f5e08fbd",
   "metadata": {},
   "outputs": [
    {
     "name": "stderr",
     "output_type": "stream",
     "text": [
      "MC paths:   0%|          | 0/100000 [00:00<?, ?it/s]"
     ]
    },
    {
     "name": "stderr",
     "output_type": "stream",
     "text": [
      "MC paths: 100%|██████████| 100000/100000 [01:45<00:00, 945.76it/s]\n"
     ]
    }
   ],
   "source": [
    "# Nombre de chemins\n",
    "n_paths    = 100_000\n",
    "\n",
    "payoffs    = np.zeros(n_paths)\n",
    "exit_times = np.zeros(n_paths)  # stocke l'étape d'exit pour chaque chemin\n",
    "h = 0.25\n",
    "M = int(T0 / h)           # Number of time steps until T0\n",
    "\n",
    "# Nouvelle variable pour stocker la somme des discounts P(T0,Tj) pour chemins survivants\n",
    "discount_sums = np.zeros(n_paths)\n",
    "prices = np.zeros(n_paths)\n",
    "\n",
    "for p in tqdm(range(n_paths), desc=\"MC paths\"):\n",
    "    logL        = np.log(L0)\n",
    "    knocked_out = False\n",
    "    exit_step   = M\n",
    "\n",
    "    # pré-calcul constant\n",
    "    sigma_max   = np.max(sigma)\n",
    "    coarse_bound = (\n",
    "        sigma_max**2 * h * N\n",
    "        - 0.5 * sigma_max**2 * h\n",
    "        + sigma_max * np.sqrt(h * N)\n",
    "    )\n",
    "\n",
    "    for k in range(M):\n",
    "        L         = np.exp(logL)\n",
    "        # drift Euler faible\n",
    "        v         = delta * L / (1 + delta * L)\n",
    "        drift_vec = drift_mat.dot(v) * h - 0.5 * sigma**2 * h\n",
    "\n",
    "        # 1) Coarse check : si loin de la barrière\n",
    "        if np.max(logL) + coarse_bound < np.log(Rup):\n",
    "            xi        = np.random.choice([-1,1], size=N)\n",
    "            diffusion = sigma * np.sqrt(h) * (U.T @ xi)\n",
    "            logL    += drift_vec + diffusion\n",
    "            continue\n",
    "\n",
    "        # 2) Fine check : worst-case drift+diffusion par composante\n",
    "        idx         = np.arange(N)\n",
    "        drift_worst = (idx + 1) * sigma * sigma_max * h\n",
    "        diff_worst  = sigma * np.sqrt((N - idx) * h)\n",
    "        L_pert      = L * (1 + drift_worst + diff_worst)\n",
    "        logL_pert   = np.log(L_pert)\n",
    "        if R_swap(logL_pert, delta) < Rup:\n",
    "            xi        = np.random.choice([-1,1], size=N)\n",
    "            diffusion = sigma * np.sqrt(h) * (U.T @ xi)\n",
    "            logL    += drift_vec + diffusion\n",
    "            continue\n",
    "\n",
    "        # 3) Zone frontière : projection & stop (ordre 1/2)\n",
    "        logL        = project_to_barrier2(logL, delta, Rup)\n",
    "        exit_step   = k\n",
    "        knocked_out = True\n",
    "        break\n",
    "\n",
    "    exit_times[p] = exit_step * h\n",
    "\n",
    "    if not knocked_out:\n",
    "        payoffs[p]     = delta * max(R_swap(logL, delta) - K, 0)\n",
    "        discounts      = np.cumprod(1.0 / (1 + delta * np.exp(logL)))\n",
    "        discount_sums[p] = np.sum(discounts)\n",
    "        prices[p]       = P0_T0 * discount_sums[p] * payoffs[p]"
   ]
  },
  {
   "cell_type": "code",
   "execution_count": 218,
   "id": "002d424f",
   "metadata": {},
   "outputs": [
    {
     "name": "stdout",
     "output_type": "stream",
     "text": [
      "0.12900116195854644 8.9415\n",
      "h          error                     mean exit time \n",
      "-------------------------------------------------------\n",
      "0.25000    1.80e-01 ± 2.52e-04   8.94\n"
     ]
    }
   ],
   "source": [
    "price_algo2      = np.mean(prices)\n",
    "p_stderr_algo2   = prices.std(ddof=1) / np.sqrt(n_paths)\n",
    "exit_time_algo2  = np.mean(exit_times)\n",
    "\n",
    "print(price_algo2, exit_time_algo2)\n",
    "\n",
    "# Header\n",
    "print(f\"{'h':<10} {'error':<25} {'mean exit time':<15}\")\n",
    "print(\"-\" * 55)\n",
    "\n",
    "# Row\n",
    "h_value = h  # your current step size, e.g. 0.1\n",
    "error = abs(price_algo2 - price_payer)\n",
    "print(f\"{h_value:<10.5f} \"\n",
    "      f\"{error:.2e} ± {p_stderr_algo2:.2e}   \"\n",
    "      f\"{exit_time_algo2:.2f}\")"
   ]
  },
  {
   "cell_type": "markdown",
   "id": "70609a92",
   "metadata": {},
   "source": [
    "## 4. Rassembler tout dans une fonction"
   ]
  },
  {
   "cell_type": "code",
   "execution_count": 175,
   "id": "f78d91af",
   "metadata": {},
   "outputs": [],
   "source": [
    "def algo1(L0, sigma, delta, K, Rup, T0, T_star, h, n_paths, rho, P0_T0, drift_mat, U, project_func):\n",
    "    N = len(L0)\n",
    "    M = int(T0 / h)\n",
    "\n",
    "    prices = np.zeros(n_paths)\n",
    "    payoffs = np.zeros(n_paths)\n",
    "    exit_times = np.zeros(n_paths)\n",
    "    discount_sums = np.zeros(n_paths)\n",
    "\n",
    "    sigma_max = np.max(sigma)\n",
    "    coarse_bound = (\n",
    "        sigma_max**2 * h * N\n",
    "        - 0.5 * sigma_max**2 * h\n",
    "        + sigma_max * np.sqrt(h * N)\n",
    "    )\n",
    "\n",
    "    for p in tqdm(range(n_paths), desc=\"MC paths - Algo 1\"):\n",
    "        logL = np.log(L0)\n",
    "        knocked_out = False\n",
    "        exit_step = M\n",
    "\n",
    "        for k in range(M):\n",
    "            L = np.exp(logL)\n",
    "            v = delta * L / (1 + delta * L)\n",
    "            drift_vec = drift_mat.dot(v) * h - 0.5 * sigma**2 * h\n",
    "\n",
    "            if np.max(logL) + coarse_bound < np.log(Rup):\n",
    "                xi = np.random.choice([-1,1], size=N)\n",
    "                diffusion = sigma * np.sqrt(h) * (U.T @ xi)\n",
    "                logL += drift_vec + diffusion\n",
    "                continue\n",
    "\n",
    "            idx = np.arange(N)\n",
    "            drift_worst = (idx + 1) * sigma * sigma_max * h\n",
    "            diff_worst  = sigma * np.sqrt((N - idx) * h)\n",
    "            L_pert = L * (1 + drift_worst + diff_worst)\n",
    "            logL_pert = np.log(L_pert)\n",
    "            if R_swap(logL_pert, delta) < Rup:\n",
    "                xi = np.random.choice([-1,1], size=N)\n",
    "                diffusion = sigma * np.sqrt(h) * (U.T @ xi)\n",
    "                logL += drift_vec + diffusion\n",
    "                continue\n",
    "\n",
    "            # Zone frontière : projection et KO\n",
    "            try:\n",
    "                logL = project_func(logL, delta, Rup)\n",
    "            except RuntimeError as e:\n",
    "                knocked_out = True\n",
    "                exit_step = k\n",
    "                break\n",
    "\n",
    "            knocked_out = True\n",
    "            exit_step = k\n",
    "            break\n",
    "\n",
    "        exit_times[p] = exit_step * h\n",
    "\n",
    "        if not knocked_out:\n",
    "            R = R_swap(logL, delta)\n",
    "            payoffs[p] = delta * max(R - K, 0)\n",
    "            discounts = np.cumprod(1.0 / (1 + delta * np.exp(logL)))\n",
    "            discount_sums[p] = np.sum(discounts)\n",
    "            prices[p] = P0_T0 * discount_sums[p] * payoffs[p]\n",
    "\n",
    "    return prices, exit_times"
   ]
  },
  {
   "cell_type": "code",
   "execution_count": 134,
   "id": "c9556a02",
   "metadata": {},
   "outputs": [],
   "source": [
    "def algo2(L0, sigma, delta, K, Rup, T0, T_star, h, n_paths, rho, P0_T0, drift_mat, U, project_func):\n",
    "    N = len(L0)\n",
    "    M = int(T0 / h)\n",
    "\n",
    "    prices = np.zeros(n_paths)\n",
    "    payoffs = np.zeros(n_paths)\n",
    "    exit_times = np.zeros(n_paths)\n",
    "    discount_sums = np.zeros(n_paths)\n",
    "\n",
    "    sigma_max = np.max(sigma)\n",
    "    coarse_bound = (\n",
    "        sigma_max**2 * h * N\n",
    "        - 0.5 * sigma_max**2 * h\n",
    "        + sigma_max * np.sqrt(h * N)\n",
    "    )\n",
    "\n",
    "    for p in tqdm(range(n_paths), desc=\"MC paths - Algo 2\"):\n",
    "        logL = np.log(L0)\n",
    "        knocked_out = False\n",
    "        exit_step = M\n",
    "\n",
    "        for k in range(M):\n",
    "            L = np.exp(logL)\n",
    "            v = delta * L / (1 + delta * L)\n",
    "            drift_vec = drift_mat.dot(v) * h - 0.5 * sigma**2 * h\n",
    "\n",
    "            if np.max(logL) + coarse_bound < np.log(Rup):\n",
    "                xi = np.random.choice([-1,1], size=N)\n",
    "                diffusion = sigma * np.sqrt(h) * (U.T @ xi)\n",
    "                logL += drift_vec + diffusion\n",
    "                continue\n",
    "\n",
    "            idx = np.arange(N)\n",
    "            drift_worst = (idx + 1) * sigma * sigma_max * h\n",
    "            diff_worst  = sigma * np.sqrt((N - idx) * h)\n",
    "            L_pert = L * (1 + drift_worst + diff_worst)\n",
    "            logL_pert = np.log(L_pert)\n",
    "            if R_swap(logL_pert, delta) < Rup:\n",
    "                xi = np.random.choice([-1,1], size=N)\n",
    "                diffusion = sigma * np.sqrt(h) * (U.T @ xi)\n",
    "                logL += drift_vec + diffusion\n",
    "                continue\n",
    "\n",
    "            # Zone frontière : projection puis on continue\n",
    "            try:\n",
    "                logL_pi = project_func(logL, delta, Rup)\n",
    "                dist = np.linalg.norm(logL_pi - logL)\n",
    "                lambda_k = np.sqrt(N) * coarse_bound\n",
    "                if np.random.rand() < lambda_k / (dist + lambda_k):\n",
    "                    knocked_out = True\n",
    "                    exit_step = k\n",
    "                    break\n",
    "\n",
    "                logL += (lambda_k / dist) * (logL_pi - logL)\n",
    "            except RuntimeError as e:\n",
    "                knocked_out = True\n",
    "                exit_step = k\n",
    "                break\n",
    "\n",
    "            xi = np.random.choice([-1,1], size=N)\n",
    "            diffusion = sigma * np.sqrt(h) * (U.T @ xi)\n",
    "            logL += drift_vec + diffusion\n",
    "\n",
    "        exit_times[p] = exit_step * h\n",
    "\n",
    "        if not knocked_out:\n",
    "            R = R_swap(logL, delta)\n",
    "            payoffs[p] = delta * max(R - K, 0)\n",
    "            discounts = np.cumprod(1.0 / (1 + delta * np.exp(logL)))\n",
    "            discount_sums[p] = np.sum(discounts)\n",
    "            prices[p] = P0_T0 * discount_sums[p] * payoffs[p]\n",
    "\n",
    "    return prices, exit_times"
   ]
  },
  {
   "cell_type": "code",
   "execution_count": 176,
   "id": "dd4411ee",
   "metadata": {},
   "outputs": [
    {
     "name": "stderr",
     "output_type": "stream",
     "text": [
      "MC paths - Algo 1: 100%|██████████| 10000/10000 [00:10<00:00, 963.72it/s]\n",
      "MC paths - Algo 2: 100%|██████████| 10000/10000 [00:11<00:00, 838.42it/s]\n"
     ]
    }
   ],
   "source": [
    "prices1, exit_times1 = algo1(L0, sigma, delta, K, Rup, T0, T_star, h, n_paths, rho, P0_T0, drift_mat, U, project_to_barrier2)\n",
    "prices2, exit_times2 = algo2(L0, sigma, delta, K, Rup, T0, T_star, h, n_paths, rho, P0_T0, drift_mat, U, project_to_barrier2)"
   ]
  },
  {
   "cell_type": "code",
   "execution_count": 177,
   "id": "822fa0cf",
   "metadata": {},
   "outputs": [
    {
     "name": "stdout",
     "output_type": "stream",
     "text": [
      "0.12691380798655716 8.9027\n",
      "0.13134659849099106 9.000175\n"
     ]
    }
   ],
   "source": [
    "print(np.mean(prices1), np.mean(exit_times1))\n",
    "print(np.mean(prices2), np.mean(exit_times2))"
   ]
  },
  {
   "cell_type": "code",
   "execution_count": 178,
   "id": "daf7eebf",
   "metadata": {},
   "outputs": [
    {
     "name": "stderr",
     "output_type": "stream",
     "text": [
      "MC paths - Algo 1: 100%|██████████| 10000/10000 [00:10<00:00, 929.35it/s]\n",
      "MC paths - Algo 2: 100%|██████████| 10000/10000 [00:12<00:00, 809.84it/s]\n"
     ]
    }
   ],
   "source": [
    "prices1, exit_times1 = algo1(L0, sigma, delta, K, Rup, T0, T_star, h, n_paths, rho, P0_T0, drift_mat, U, project_to_barrier)\n",
    "prices2, exit_times2 = algo2(L0, sigma, delta, K, Rup, T0, T_star, h, n_paths, rho, P0_T0, drift_mat, U, project_to_barrier)"
   ]
  },
  {
   "cell_type": "code",
   "execution_count": 179,
   "id": "0ad4c80d",
   "metadata": {},
   "outputs": [
    {
     "name": "stdout",
     "output_type": "stream",
     "text": [
      "0.1295923631043575 8.955125\n",
      "0.13116367396410927 8.9943\n"
     ]
    }
   ],
   "source": [
    "print(np.mean(prices1), np.mean(exit_times1))\n",
    "print(np.mean(prices2), np.mean(exit_times2))"
   ]
  },
  {
   "cell_type": "markdown",
   "id": "13e43d53",
   "metadata": {},
   "source": [
    "# Parallélisation"
   ]
  },
  {
   "cell_type": "code",
   "execution_count": 236,
   "id": "b67e59ee",
   "metadata": {},
   "outputs": [],
   "source": [
    "from numba import njit, prange\n",
    "import numpy as np"
   ]
  },
  {
   "cell_type": "code",
   "execution_count": 237,
   "id": "692ae866",
   "metadata": {},
   "outputs": [],
   "source": [
    "@njit\n",
    "def R_swap(logL, delta):\n",
    "    L = np.exp(logL)\n",
    "    discount_prod = np.prod(1 + delta * L)\n",
    "    numer = 1 - 1.0 / discount_prod\n",
    "    denom = delta * np.sum(1.0 / np.cumprod(1 + delta * L))\n",
    "    return numer / denom"
   ]
  },
  {
   "cell_type": "code",
   "execution_count": 238,
   "id": "cf828886",
   "metadata": {},
   "outputs": [],
   "source": [
    "@njit\n",
    "def project_to_barrier_fast(logL, delta, Rup):\n",
    "    N = len(logL)\n",
    "    eps = 1e-8\n",
    "\n",
    "    logL_tail = logL[1:]\n",
    "    L_tail = np.exp(logL_tail)\n",
    "    one_plus = 1.0 + delta * L_tail\n",
    "\n",
    "    revcp = np.ones(N-1)\n",
    "    revcp[-1] = one_plus[-1]\n",
    "    for i in range(N-3, -1, -1):\n",
    "        revcp[i] = revcp[i+1] * one_plus[i]\n",
    "\n",
    "    sum_term = 1.0 + np.sum(revcp)\n",
    "    denominator = np.prod(one_plus)\n",
    "\n",
    "    term = (Rup * sum_term + 1.0) / denominator\n",
    "    log_arg = term - 1.0 / delta\n",
    "    if log_arg <= eps:\n",
    "        log_arg = eps\n",
    "\n",
    "    logL0 = np.log(log_arg)\n",
    "\n",
    "    logLpi = np.empty(N)\n",
    "    logLpi[0] = logL0\n",
    "    logLpi[1:] = logL_tail\n",
    "\n",
    "    return logLpi"
   ]
  },
  {
   "cell_type": "code",
   "execution_count": 239,
   "id": "f45ac20f",
   "metadata": {},
   "outputs": [],
   "source": [
    "@njit(parallel=True)\n",
    "def algo1_numba(L0, sigma, delta, K, Rup, T0, T_star, h, n_paths, rho, P0_T0, drift_mat, U):\n",
    "    N = len(L0)\n",
    "    M = int(T0 / h)\n",
    "\n",
    "    prices = np.zeros(n_paths)\n",
    "    exit_times = np.zeros(n_paths)\n",
    "\n",
    "    sigma_max = np.max(sigma)\n",
    "    coarse_bound = (\n",
    "        sigma_max**2 * h * N\n",
    "        - 0.5 * sigma_max**2 * h\n",
    "        + sigma_max * np.sqrt(h * N)\n",
    "    )\n",
    "\n",
    "    for p in prange(n_paths):\n",
    "        logL = np.log(L0.copy())\n",
    "        knocked_out = False\n",
    "        exit_step = M\n",
    "\n",
    "        for k in range(M):\n",
    "            L = np.exp(logL)\n",
    "            v = delta * L / (1 + delta * L)\n",
    "            drift_vec = drift_mat @ v * h - 0.5 * sigma**2 * h\n",
    "\n",
    "            if np.max(logL) + coarse_bound < np.log(Rup):\n",
    "                xi = 2 * (np.random.rand(N) < 0.5) - 1\n",
    "                diffusion = sigma * np.sqrt(h) * (U.T @ xi)\n",
    "                logL += drift_vec + diffusion\n",
    "                continue\n",
    "\n",
    "            idx = np.arange(N)\n",
    "            drift_worst = (idx + 1) * sigma * sigma_max * h\n",
    "            diff_worst  = sigma * np.sqrt((N - idx) * h)\n",
    "            L_pert = L * (1 + drift_worst + diff_worst)\n",
    "            logL_pert = np.log(L_pert)\n",
    "            if R_swap(logL_pert, delta) < Rup:\n",
    "                xi = 2 * (np.random.rand(N) < 0.5) - 1\n",
    "                diffusion = sigma * np.sqrt(h) * (U.T @ xi)\n",
    "                logL += drift_vec + diffusion\n",
    "                continue\n",
    "\n",
    "            knocked_out = True\n",
    "            exit_step = k\n",
    "            break\n",
    "\n",
    "        exit_times[p] = exit_step * h\n",
    "\n",
    "        if not knocked_out:\n",
    "            R = R_swap(logL, delta)\n",
    "            payoff = delta * max(R - K, 0)\n",
    "            discounts = np.cumprod(1.0 / (1 + delta * np.exp(logL)))\n",
    "            discount_sum = np.sum(discounts)\n",
    "            prices[p] = P0_T0 * discount_sum * payoff\n",
    "\n",
    "    return prices, exit_times"
   ]
  },
  {
   "cell_type": "code",
   "execution_count": 285,
   "id": "68d25755",
   "metadata": {},
   "outputs": [],
   "source": [
    "\n",
    "@njit(parallel=True)\n",
    "def algo2_numba(L0, sigma, delta, K, Rup, T0, h, n_paths, drift_mat, U, annuity):\n",
    "    N = len(L0)\n",
    "    M = int(T0 / h)\n",
    "\n",
    "    prices = np.zeros(n_paths)\n",
    "    exit_times = np.zeros(n_paths)\n",
    "\n",
    "    sigma_max = np.max(sigma)\n",
    "\n",
    "    # Coarse Bound comme dans l'article (eq 6.7)\n",
    "    coarse_bound = sigma_max**2 * h * N - 0.5 * sigma_max**2 * h + sigma_max * np.sqrt(h * N)\n",
    "\n",
    "    # Lambda_k constant\n",
    "    lambda_k = np.sqrt(N) * coarse_bound\n",
    "\n",
    "    for p in prange(n_paths):\n",
    "        logL = np.log(L0.copy())\n",
    "        knocked_out = False\n",
    "        exit_step = M\n",
    "\n",
    "        for k in range(M):\n",
    "            L = np.exp(logL)\n",
    "            v = delta * L / (1 + delta * L)\n",
    "            drift_vec = drift_mat @ v * h - 0.5 * sigma**2 * h\n",
    "\n",
    "            # Coarse check\n",
    "            if np.amax(logL) + coarse_bound < np.log(Rup):\n",
    "                xi = np.where(np.random.random(N) < 0.5, -1.0, 1.0)\n",
    "                diffusion = sigma * np.sqrt(h) * (U.T @ xi)\n",
    "                logL += drift_vec + diffusion\n",
    "                continue\n",
    "\n",
    "            # Fine check\n",
    "            idx = np.arange(N)\n",
    "            drift_worst = (idx + 1) * sigma * sigma_max * h\n",
    "            diff_worst = sigma * np.sqrt((N - idx) * h)\n",
    "            L_pert = L * (1 + drift_worst + diff_worst)\n",
    "            logL_pert = np.log(L_pert)\n",
    "            if R_swap(logL_pert, delta) < Rup:\n",
    "                xi = np.where(np.random.random(N) < 0.5, -1.0, 1.0)\n",
    "                diffusion = sigma * np.sqrt(h) * (U.T @ xi)\n",
    "                logL += drift_vec + diffusion\n",
    "                continue\n",
    "\n",
    "            # Projection et rebond\n",
    "            logL_pi = project_to_barrier_fast(logL, delta, Rup)\n",
    "            diff_vec = logL_pi - logL\n",
    "            dist = np.sqrt(np.sum(diff_vec * diff_vec) + 1e-12)\n",
    "\n",
    "            p_accept = lambda_k / (dist + lambda_k)\n",
    "            if p_accept > 1.0:\n",
    "                p_accept = 1.0\n",
    "\n",
    "            if np.random.random() < p_accept:\n",
    "                knocked_out = True\n",
    "                exit_step = k\n",
    "                break\n",
    "\n",
    "            logL += (lambda_k / dist) * diff_vec\n",
    "\n",
    "            xi = np.where(np.random.random(N) < 0.5, -1.0, 1.0)\n",
    "            diffusion = sigma * np.sqrt(h) * (U.T @ xi)\n",
    "            logL += drift_vec + diffusion\n",
    "\n",
    "        exit_times[p] = exit_step * h\n",
    "\n",
    "        if not knocked_out:\n",
    "            R = R_swap(logL, delta)\n",
    "            payoff = delta * max(R - K, 0)\n",
    "            prices[p] = delta * annuity * payoff  # PAYOFF SIMPLIFIÉ CORRECT\n",
    "\n",
    "    return prices, exit_times"
   ]
  },
  {
   "cell_type": "code",
   "execution_count": 286,
   "id": "ff09b927",
   "metadata": {},
   "outputs": [],
   "source": [
    "# Casts sécurisés :\n",
    "delta = np.float64(delta)\n",
    "K = np.float64(K)\n",
    "Rup = np.float64(Rup)\n",
    "T0 = np.float64(T0)\n",
    "T_star = np.float64(T_star)\n",
    "h = np.float64(h)\n",
    "P0_T0 = np.float64(P0_T0)\n",
    "\n",
    "# Casts matrices :\n",
    "L0 = np.array(L0, dtype=np.float64)\n",
    "sigma = np.array(sigma, dtype=np.float64)\n",
    "rho = np.array(rho, dtype=np.float64)\n",
    "drift_mat = np.array(drift_mat, dtype=np.float64)\n",
    "U = np.array(U, dtype=np.float64)"
   ]
  },
  {
   "cell_type": "code",
   "execution_count": 287,
   "id": "f639478f",
   "metadata": {},
   "outputs": [],
   "source": [
    "# Précalcule une seule fois\n",
    "P0_T = np.concatenate(([1.0], np.cumprod(1.0 / (1 + delta * L0))))\n",
    "annuity = np.sum(P0_T[1:])  # somme des discounts initiaux\n",
    "\n",
    "# Lancement simulation\n",
    "prices, exit_times = algo2_numba(\n",
    "    L0, sigma, delta, K, Rup, T0, h,\n",
    "    1_000_000, drift_mat, U, annuity\n",
    ")"
   ]
  },
  {
   "cell_type": "code",
   "execution_count": 288,
   "id": "77d6cbb1",
   "metadata": {},
   "outputs": [
    {
     "name": "stdout",
     "output_type": "stream",
     "text": [
      "h =  0.03125\n",
      "MC Price: 0.239244 ± 1.26e-04\n",
      "Exit time: 9.412218\n"
     ]
    }
   ],
   "source": [
    "print(\"h = \", h)\n",
    "\n",
    "mean_price = np.mean(prices)\n",
    "stderr_price = np.std(prices, ddof=1) / np.sqrt(len(prices))\n",
    "mean_exit = np.mean(exit_times)\n",
    "\n",
    "print(f\"MC Price: {mean_price:.6f} ± {stderr_price:.2e}\")\n",
    "print(f\"Exit time: {mean_exit:.6f}\")"
   ]
  },
  {
   "cell_type": "code",
   "execution_count": 284,
   "id": "cfb819fb",
   "metadata": {},
   "outputs": [
    {
     "name": "stdout",
     "output_type": "stream",
     "text": [
      "Fraction of alive paths: 0.8427\n",
      "Fraction of nonzero payoffs: 0.8427\n",
      "Mean exit time: 9.4128\n"
     ]
    }
   ],
   "source": [
    "alive = (exit_times >= T0 - 1e-6)  # Chemins qui ne sont PAS KO\n",
    "fraction_alive = np.mean(alive)\n",
    "print(f\"Fraction of alive paths: {fraction_alive:.4f}\")\n",
    "\n",
    "payoff_nonzero = (prices > 0.0)\n",
    "fraction_nonzero = np.mean(payoff_nonzero)\n",
    "print(f\"Fraction of nonzero payoffs: {fraction_nonzero:.4f}\")\n",
    "\n",
    "print(f\"Mean exit time: {np.mean(exit_times):.4f}\")"
   ]
  },
  {
   "cell_type": "code",
   "execution_count": 263,
   "id": "3470f483",
   "metadata": {},
   "outputs": [],
   "source": [
    "h = 0.03125"
   ]
  },
  {
   "cell_type": "code",
   "execution_count": 265,
   "id": "86ac9674",
   "metadata": {},
   "outputs": [
    {
     "name": "stdout",
     "output_type": "stream",
     "text": [
      "MC Price: 0.147672 ± 7.38e-05\n"
     ]
    }
   ],
   "source": [
    "prices, exit_times = algo2_numba(\n",
    "    L0, sigma, delta, K, Rup, T0, h,\n",
    "    1_000_000, P0_T0, drift_mat, U\n",
    ")\n",
    "\n",
    "mean_price = np.mean(prices)\n",
    "stderr_price = np.std(prices, ddof=1) / np.sqrt(len(prices))\n",
    "\n",
    "print(f\"MC Price: {mean_price:.6f} ± {stderr_price:.2e}\")"
   ]
  },
  {
   "cell_type": "code",
   "execution_count": 246,
   "id": "7d2dfddd",
   "metadata": {},
   "outputs": [
    {
     "name": "stdout",
     "output_type": "stream",
     "text": [
      "Mean exit time: 9.408\n"
     ]
    }
   ],
   "source": [
    "print(f\"Mean exit time: {np.mean(exit_times):.3f}\")"
   ]
  },
  {
   "cell_type": "markdown",
   "id": "2b99976f",
   "metadata": {},
   "source": [
    "## 5. Résultat\n",
    "\n",
    "Calcul du prix par moyenne des payoffs et actualisation"
   ]
  },
  {
   "cell_type": "markdown",
   "id": "5d8e6f91",
   "metadata": {},
   "source": [
    "Cette approximation sert de référence pour évaluer la cohérence de la simulation LMM."
   ]
  },
  {
   "cell_type": "markdown",
   "id": "dc3579d5",
   "metadata": {},
   "source": [
    "# 7. Comparaison avec méthode MC 1/2 ordre faible"
   ]
  },
  {
   "cell_type": "code",
   "execution_count": 54,
   "id": "800adefa",
   "metadata": {},
   "outputs": [
    {
     "name": "stderr",
     "output_type": "stream",
     "text": [
      "MC paths: 100%|██████████| 100000/100000 [03:14<00:00, 512.99it/s]\n"
     ]
    }
   ],
   "source": [
    "for p in tqdm(range(n_paths), desc=\"MC paths\"):\n",
    "    logL        = np.log(L0)\n",
    "    knocked_out = False\n",
    "    exit_step   = M\n",
    "\n",
    "    # pré-calcul constant\n",
    "    sigma_max   = np.max(sigma)\n",
    "    coarse_bound = (\n",
    "        sigma_max**2 * h * N\n",
    "        - 0.5 * sigma_max**2 * h\n",
    "        + sigma_max * np.sqrt(h * N)\n",
    "    )\n",
    "\n",
    "    for k in range(M):\n",
    "        L         = np.exp(logL)\n",
    "        # drift Euler faible\n",
    "        v         = delta * L / (1 + delta * L)\n",
    "        drift_vec = drift_mat.dot(v) * h - 0.5 * sigma**2 * h\n",
    "\n",
    "        # 1) Coarse check : si loin de la barrière\n",
    "        if np.max(logL) + coarse_bound < np.log(Rup):\n",
    "            xi        = np.random.choice([-1,1], size=N)\n",
    "            diffusion = sigma * np.sqrt(h) * (U @ xi)\n",
    "            logL    += drift_vec + diffusion\n",
    "            continue\n",
    "\n",
    "        # 2) Fine check : worst-case drift+diffusion par composante\n",
    "        idx         = np.arange(N)\n",
    "        drift_worst = (idx + 1) * sigma * sigma_max * h\n",
    "        diff_worst  = sigma * np.sqrt((N - idx) * h)\n",
    "        L_pert      = L * (1 + drift_worst + diff_worst)\n",
    "        logL_pert   = np.log(L_pert)\n",
    "        if R_swap(logL_pert, delta) < Rup:\n",
    "            xi        = np.random.choice([-1,1], size=N)\n",
    "            diffusion = sigma * np.sqrt(h) * (U @ xi)\n",
    "            logL    += drift_vec + diffusion\n",
    "            continue\n",
    "\n",
    "        # 3) Zone frontière : projection & stop (ordre 1/2)\n",
    "        logL        = project_to_barrier2(logL, delta, Rup)\n",
    "        exit_step   = k\n",
    "        knocked_out = True\n",
    "        break\n",
    "\n",
    "    exit_times[p] = exit_step * h\n",
    "\n",
    "    if not knocked_out:\n",
    "        payoffs[p]     = delta * max(R_swap(logL, delta) - K, 0)\n",
    "        discounts      = np.cumprod(1.0 / (1 + delta * np.exp(logL)))\n",
    "        discount_sums[p] = np.sum(discounts)\n",
    "        prices[p]       = P0_T0 * discount_sums[p] * payoffs[p]"
   ]
  },
  {
   "cell_type": "code",
   "execution_count": 83,
   "id": "57c94609",
   "metadata": {},
   "outputs": [
    {
     "name": "stdout",
     "output_type": "stream",
     "text": [
      "Barrier swaption price:    0.265078\n",
      "Mean exit time (in years): 9.2737\n"
     ]
    }
   ],
   "source": [
    "price           = np.mean(prices)\n",
    "mean_exit_time  = np.mean(exit_times)\n",
    "print(f\"Barrier swaption price:    {price:.6f}\")\n",
    "print(f\"Mean exit time (in years): {mean_exit_time:.4f}\")"
   ]
  },
  {
   "cell_type": "markdown",
   "id": "d9316692",
   "metadata": {},
   "source": [
    "# 8. Variance reduction"
   ]
  },
  {
   "cell_type": "code",
   "execution_count": null,
   "id": "88174a3e",
   "metadata": {},
   "outputs": [],
   "source": []
  }
 ],
 "metadata": {
  "kernelspec": {
   "display_name": "env_py_31011",
   "language": "python",
   "name": "python3"
  },
  "language_info": {
   "codemirror_mode": {
    "name": "ipython",
    "version": 3
   },
   "file_extension": ".py",
   "mimetype": "text/x-python",
   "name": "python",
   "nbconvert_exporter": "python",
   "pygments_lexer": "ipython3",
   "version": "3.10.14"
  }
 },
 "nbformat": 4,
 "nbformat_minor": 5
}
