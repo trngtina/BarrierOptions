{
 "cells": [
  {
   "cell_type": "markdown",
   "id": "1c6e4138",
   "metadata": {},
   "source": [
    "# C2. Barrier Option in Libor Market Model "
   ]
  },
  {
   "cell_type": "markdown",
   "id": "afaaa0eb",
   "metadata": {},
   "source": [
    "# Barrier Caplet Pricing Algorithms\n",
    "Compare:\n",
    "1. Analytic closed‑form (\\~V)  \n",
    "2. Algorithm 2.1 (weak 1, kick‑back)  \n",
    "3. Algorithm 2.2 (weak ½, no VR)  \n",
    "4. Algorithm 2.2 with variance reduction"
   ]
  },
  {
   "cell_type": "markdown",
   "id": "a3b573f2",
   "metadata": {},
   "source": [
    "### Imports"
   ]
  },
  {
   "cell_type": "code",
   "execution_count": 15,
   "id": "0432d4ce",
   "metadata": {},
   "outputs": [],
   "source": [
    "import numpy as np\n",
    "import matplotlib.pyplot as plt\n",
    "from scipy.stats import norm\n",
    "import pandas as pd\n",
    "import plotly.graph_objects as go\n",
    "from tqdm import tqdm"
   ]
  },
  {
   "cell_type": "code",
   "execution_count": 6,
   "id": "bcbf5e52",
   "metadata": {},
   "outputs": [],
   "source": [
    "L0, H, K = 0.13, 0.28, 0.01\n",
    "sigma, T = 0.25, 9.0\n",
    "N_paths = 3000\n",
    "h_list  = [0.25, 0.125, 0.0625, 0.03125, 0.015625] #[0.25, 0.125, 0.0625]\n",
    "\n",
    "# Storing results in this list\n",
    "results = []"
   ]
  },
  {
   "cell_type": "markdown",
   "id": "ad31bb19",
   "metadata": {},
   "source": [
    "### Analytic barrier‑caplet formula (eqs. 4.3–4.5)"
   ]
  },
  {
   "cell_type": "code",
   "execution_count": 7,
   "id": "7228215c",
   "metadata": {},
   "outputs": [],
   "source": [
    "def analytic_vtilde_caplet(L, H, K, sigma, tau):\n",
    "    v = sigma * np.sqrt(tau)\n",
    "    def d_plus(x):  return (np.log(x) + 0.5*v**2)/v\n",
    "    def d_minus(x): return (np.log(x) - 0.5*v**2)/v\n",
    "\n",
    "    term1 = L*(norm.cdf(d_plus(L/K)) - norm.cdf(d_plus(L/H)))\n",
    "    term2 = -K*(norm.cdf(d_minus(L/K)) - norm.cdf(d_minus(L/H)))\n",
    "    term3 = -H*(norm.cdf(d_plus(H*H/(K*L))) - norm.cdf(d_plus(H/L)))\n",
    "    term4 = K*L/H*(norm.cdf(d_minus(H*H/(K*L))) - norm.cdf(d_minus(H/L)))\n",
    "    return term1 + term2 + term3 + term4"
   ]
  },
  {
   "cell_type": "code",
   "execution_count": 8,
   "id": "1873f21f",
   "metadata": {},
   "outputs": [
    {
     "data": {
      "text/plain": [
       "0.06571345192162645"
      ]
     },
     "execution_count": 8,
     "metadata": {},
     "output_type": "execute_result"
    }
   ],
   "source": [
    "exact = analytic_vtilde_caplet(L0, H, K, sigma, T)\n",
    "exact"
   ]
  },
  {
   "cell_type": "markdown",
   "id": "908060e2",
   "metadata": {},
   "source": [
    "# Algorithm 2.1 – weak order 1 with kick‑back reflection"
   ]
  },
  {
   "cell_type": "code",
   "execution_count": 9,
   "id": "8307a0d1",
   "metadata": {},
   "outputs": [],
   "source": [
    "def simulate_algo1(L0, H, K, sigma, T, h, N_paths, seed=42):\n",
    "    \"\"\"\n",
    "    Algorithm 2.1 (weak 1, kick‐back reflection).\n",
    "    Returns (price, stderr, mean_exit_time).\n",
    "    \"\"\"\n",
    "    rng = np.random.default_rng(seed)\n",
    "    M = int(np.ceil(T / h))\n",
    "    lnH = np.log(H)\n",
    "    sqrt_h = np.sqrt(h)\n",
    "    half_sigma2_h = 0.5 * sigma**2 * h\n",
    "    # λ√h from (4.12)\n",
    "    lambda_sqrt_h = -half_sigma2_h + sigma*sqrt_h\n",
    "\n",
    "    payoffs = np.zeros(N_paths)\n",
    "    exit_steps = np.zeros(N_paths, dtype=int)\n",
    "\n",
    "    for i in range(N_paths):\n",
    "        lnL = np.log(L0)\n",
    "        for k in range(M):\n",
    "            if lnL >= lnH + half_sigma2_h - sigma*sqrt_h:\n",
    "                # in boundary zone\n",
    "                delta = lnH - lnL\n",
    "                p = lambda_sqrt_h / (delta + lambda_sqrt_h)\n",
    "                if rng.random() < p:\n",
    "                    # knock‐out at barrier\n",
    "                    exit_steps[i] = k\n",
    "                    lnL = lnH\n",
    "                    break\n",
    "                else:\n",
    "                    # kick back in\n",
    "                    lnL -= lambda_sqrt_h\n",
    "                    xi = 1 if rng.random() < 0.5 else -1\n",
    "                    lnL += -half_sigma2_h + sigma*sqrt_h*xi\n",
    "            else:\n",
    "                # usual Euler step\n",
    "                xi = 1 if rng.random() < 0.5 else -1\n",
    "                lnL += -half_sigma2_h + sigma*sqrt_h*xi\n",
    "        else:\n",
    "            # survived to maturity\n",
    "            exit_steps[i] = M\n",
    "            payoffs[i] = max(np.exp(lnL) - K, 0.0)\n",
    "\n",
    "    price = payoffs.mean()\n",
    "    stderr = payoffs.std(ddof=1) / np.sqrt(N_paths)\n",
    "    mean_exit_time = exit_steps.mean() * h\n",
    "    return price, stderr, mean_exit_time"
   ]
  },
  {
   "cell_type": "code",
   "execution_count": 10,
   "id": "f272a8bc",
   "metadata": {},
   "outputs": [
    {
     "data": {
      "text/plain": [
       "[{'h': 0.25, 'Algo': 0.0671626955325963, 'CI': 0.0020738548076747695},\n",
       " {'h': 0.125, 'Algo': 0.06549103088704948, 'CI': 0.00202795788665657},\n",
       " {'h': 0.0625, 'Algo': 0.06565471589132234, 'CI': 0.002014484118945565},\n",
       " {'h': 0.03125, 'Algo': 0.06610594009418236, 'CI': 0.002030469408846287},\n",
       " {'h': 0.015625, 'Algo': 0.0654894031441852, 'CI': 0.0019978620265584074}]"
      ]
     },
     "execution_count": 10,
     "metadata": {},
     "output_type": "execute_result"
    }
   ],
   "source": [
    "results_algo1 = []\n",
    "\n",
    "for h in h_list:\n",
    "    p, se, _   = simulate_algo1(L0, H, K, sigma, T, h, N_paths)\n",
    "    results_algo1.append({\n",
    "        'h': h,\n",
    "        'Algo': p,\n",
    "        'CI': 1.96*se\n",
    "    })\n",
    "\n",
    "results_algo1"
   ]
  },
  {
   "cell_type": "markdown",
   "id": "8e1ee565",
   "metadata": {},
   "source": [
    "### Algorithm 2.2 – weak order 1/2, absorbing barrier (no VR)"
   ]
  },
  {
   "cell_type": "code",
   "execution_count": null,
   "id": "6ac9122b",
   "metadata": {},
   "outputs": [],
   "source": [
    "def simulate_algo2(L0, H, K, sigma, T, h, N_paths, seed=42):\n",
    "    rng = np.random.default_rng(seed)\n",
    "    M = int(np.ceil(T/h))\n",
    "    lnH, sqrt_h = np.log(H), np.sqrt(h)\n",
    "    half_sig2h = 0.5 * sigma**2 * h\n",
    "    payoffs = np.zeros(N_paths)\n",
    "    for i in range(N_paths):\n",
    "        lnL = np.log(L0)\n",
    "        for k in range(M):\n",
    "            if lnL >= lnH + half_sig2h - sigma*sqrt_h:\n",
    "                break\n",
    "            xi = 1 if rng.random() < 0.5 else -1\n",
    "            lnL += -half_sig2h + sigma*sqrt_h*xi\n",
    "        payoffs[i] = max(np.exp(lnL)-K, 0.0) if k == M-1 else 0.0\n",
    "    price, stderr = payoffs.mean(), payoffs.std(ddof=1)/np.sqrt(N_paths)\n",
    "    return price, stderr"
   ]
  },
  {
   "cell_type": "code",
   "execution_count": 21,
   "id": "f47e2525",
   "metadata": {},
   "outputs": [
    {
     "data": {
      "text/plain": [
       "[{'h': 0.25, 'Algo': 0.06276817648644427, 'CI': 0.0020176456765123177},\n",
       " {'h': 0.125, 'Algo': 0.06301169186866125, 'CI': 0.0020600861476816066},\n",
       " {'h': 0.0625, 'Algo': 0.06208582465469845, 'CI': 0.0019592788978218634},\n",
       " {'h': 0.03125, 'Algo': 0.06556391051886841, 'CI': 0.002020493810257483},\n",
       " {'h': 0.015625, 'Algo': 0.06377240841252307, 'CI': 0.0019911801195465597}]"
      ]
     },
     "execution_count": 21,
     "metadata": {},
     "output_type": "execute_result"
    }
   ],
   "source": [
    "results_algo2 = []\n",
    "\n",
    "for h in h_list:\n",
    "    p, se = simulate_algo2(L0, H, K, sigma, T, h, N_paths)\n",
    "    results_algo2.append({\n",
    "        'h': h,\n",
    "        'Algo': p,\n",
    "        'CI': 1.96*se\n",
    "    })\n",
    "\n",
    "results_algo2"
   ]
  },
  {
   "cell_type": "code",
   "execution_count": 22,
   "id": "a09ce370",
   "metadata": {},
   "outputs": [
    {
     "data": {
      "application/vnd.plotly.v1+json": {
       "config": {
        "plotlyServerURL": "https://plot.ly"
       },
       "data": [
        {
         "error_y": {
          "array": [
           0.0020738548076747695,
           0.00202795788665657,
           0.002014484118945565,
           0.002030469408846287,
           0.0019978620265584074
          ],
          "type": "data",
          "visible": true
         },
         "mode": "lines+markers",
         "name": "Algorithm 1",
         "type": "scatter",
         "x": [
          0.25,
          0.125,
          0.0625,
          0.03125,
          0.015625
         ],
         "y": [
          0.0671626955325963,
          0.06549103088704948,
          0.06565471589132234,
          0.06610594009418236,
          0.0654894031441852
         ]
        },
        {
         "error_y": {
          "array": [
           0.0020176456765123177,
           0.0020600861476816066,
           0.0019592788978218634,
           0.002020493810257483,
           0.0019911801195465597
          ],
          "type": "data",
          "visible": true
         },
         "mode": "lines+markers",
         "name": "Algorithm 2",
         "type": "scatter",
         "x": [
          0.25,
          0.125,
          0.0625,
          0.03125,
          0.015625
         ],
         "y": [
          0.06276817648644427,
          0.06301169186866125,
          0.06208582465469845,
          0.06556391051886841,
          0.06377240841252307
         ]
        },
        {
         "line": {
          "color": "black",
          "dash": "dot"
         },
         "mode": "lines",
         "name": "Exact",
         "type": "scatter",
         "x": [
          0.25,
          0.125,
          0.0625,
          0.03125,
          0.015625
         ],
         "y": [
          0.06571345192162645,
          0.06571345192162645,
          0.06571345192162645,
          0.06571345192162645,
          0.06571345192162645
         ]
        }
       ],
       "layout": {
        "template": {
         "data": {
          "bar": [
           {
            "error_x": {
             "color": "#2a3f5f"
            },
            "error_y": {
             "color": "#2a3f5f"
            },
            "marker": {
             "line": {
              "color": "#E5ECF6",
              "width": 0.5
             },
             "pattern": {
              "fillmode": "overlay",
              "size": 10,
              "solidity": 0.2
             }
            },
            "type": "bar"
           }
          ],
          "barpolar": [
           {
            "marker": {
             "line": {
              "color": "#E5ECF6",
              "width": 0.5
             },
             "pattern": {
              "fillmode": "overlay",
              "size": 10,
              "solidity": 0.2
             }
            },
            "type": "barpolar"
           }
          ],
          "carpet": [
           {
            "aaxis": {
             "endlinecolor": "#2a3f5f",
             "gridcolor": "white",
             "linecolor": "white",
             "minorgridcolor": "white",
             "startlinecolor": "#2a3f5f"
            },
            "baxis": {
             "endlinecolor": "#2a3f5f",
             "gridcolor": "white",
             "linecolor": "white",
             "minorgridcolor": "white",
             "startlinecolor": "#2a3f5f"
            },
            "type": "carpet"
           }
          ],
          "choropleth": [
           {
            "colorbar": {
             "outlinewidth": 0,
             "ticks": ""
            },
            "type": "choropleth"
           }
          ],
          "contour": [
           {
            "colorbar": {
             "outlinewidth": 0,
             "ticks": ""
            },
            "colorscale": [
             [
              0,
              "#0d0887"
             ],
             [
              0.1111111111111111,
              "#46039f"
             ],
             [
              0.2222222222222222,
              "#7201a8"
             ],
             [
              0.3333333333333333,
              "#9c179e"
             ],
             [
              0.4444444444444444,
              "#bd3786"
             ],
             [
              0.5555555555555556,
              "#d8576b"
             ],
             [
              0.6666666666666666,
              "#ed7953"
             ],
             [
              0.7777777777777778,
              "#fb9f3a"
             ],
             [
              0.8888888888888888,
              "#fdca26"
             ],
             [
              1,
              "#f0f921"
             ]
            ],
            "type": "contour"
           }
          ],
          "contourcarpet": [
           {
            "colorbar": {
             "outlinewidth": 0,
             "ticks": ""
            },
            "type": "contourcarpet"
           }
          ],
          "heatmap": [
           {
            "colorbar": {
             "outlinewidth": 0,
             "ticks": ""
            },
            "colorscale": [
             [
              0,
              "#0d0887"
             ],
             [
              0.1111111111111111,
              "#46039f"
             ],
             [
              0.2222222222222222,
              "#7201a8"
             ],
             [
              0.3333333333333333,
              "#9c179e"
             ],
             [
              0.4444444444444444,
              "#bd3786"
             ],
             [
              0.5555555555555556,
              "#d8576b"
             ],
             [
              0.6666666666666666,
              "#ed7953"
             ],
             [
              0.7777777777777778,
              "#fb9f3a"
             ],
             [
              0.8888888888888888,
              "#fdca26"
             ],
             [
              1,
              "#f0f921"
             ]
            ],
            "type": "heatmap"
           }
          ],
          "heatmapgl": [
           {
            "colorbar": {
             "outlinewidth": 0,
             "ticks": ""
            },
            "colorscale": [
             [
              0,
              "#0d0887"
             ],
             [
              0.1111111111111111,
              "#46039f"
             ],
             [
              0.2222222222222222,
              "#7201a8"
             ],
             [
              0.3333333333333333,
              "#9c179e"
             ],
             [
              0.4444444444444444,
              "#bd3786"
             ],
             [
              0.5555555555555556,
              "#d8576b"
             ],
             [
              0.6666666666666666,
              "#ed7953"
             ],
             [
              0.7777777777777778,
              "#fb9f3a"
             ],
             [
              0.8888888888888888,
              "#fdca26"
             ],
             [
              1,
              "#f0f921"
             ]
            ],
            "type": "heatmapgl"
           }
          ],
          "histogram": [
           {
            "marker": {
             "pattern": {
              "fillmode": "overlay",
              "size": 10,
              "solidity": 0.2
             }
            },
            "type": "histogram"
           }
          ],
          "histogram2d": [
           {
            "colorbar": {
             "outlinewidth": 0,
             "ticks": ""
            },
            "colorscale": [
             [
              0,
              "#0d0887"
             ],
             [
              0.1111111111111111,
              "#46039f"
             ],
             [
              0.2222222222222222,
              "#7201a8"
             ],
             [
              0.3333333333333333,
              "#9c179e"
             ],
             [
              0.4444444444444444,
              "#bd3786"
             ],
             [
              0.5555555555555556,
              "#d8576b"
             ],
             [
              0.6666666666666666,
              "#ed7953"
             ],
             [
              0.7777777777777778,
              "#fb9f3a"
             ],
             [
              0.8888888888888888,
              "#fdca26"
             ],
             [
              1,
              "#f0f921"
             ]
            ],
            "type": "histogram2d"
           }
          ],
          "histogram2dcontour": [
           {
            "colorbar": {
             "outlinewidth": 0,
             "ticks": ""
            },
            "colorscale": [
             [
              0,
              "#0d0887"
             ],
             [
              0.1111111111111111,
              "#46039f"
             ],
             [
              0.2222222222222222,
              "#7201a8"
             ],
             [
              0.3333333333333333,
              "#9c179e"
             ],
             [
              0.4444444444444444,
              "#bd3786"
             ],
             [
              0.5555555555555556,
              "#d8576b"
             ],
             [
              0.6666666666666666,
              "#ed7953"
             ],
             [
              0.7777777777777778,
              "#fb9f3a"
             ],
             [
              0.8888888888888888,
              "#fdca26"
             ],
             [
              1,
              "#f0f921"
             ]
            ],
            "type": "histogram2dcontour"
           }
          ],
          "mesh3d": [
           {
            "colorbar": {
             "outlinewidth": 0,
             "ticks": ""
            },
            "type": "mesh3d"
           }
          ],
          "parcoords": [
           {
            "line": {
             "colorbar": {
              "outlinewidth": 0,
              "ticks": ""
             }
            },
            "type": "parcoords"
           }
          ],
          "pie": [
           {
            "automargin": true,
            "type": "pie"
           }
          ],
          "scatter": [
           {
            "fillpattern": {
             "fillmode": "overlay",
             "size": 10,
             "solidity": 0.2
            },
            "type": "scatter"
           }
          ],
          "scatter3d": [
           {
            "line": {
             "colorbar": {
              "outlinewidth": 0,
              "ticks": ""
             }
            },
            "marker": {
             "colorbar": {
              "outlinewidth": 0,
              "ticks": ""
             }
            },
            "type": "scatter3d"
           }
          ],
          "scattercarpet": [
           {
            "marker": {
             "colorbar": {
              "outlinewidth": 0,
              "ticks": ""
             }
            },
            "type": "scattercarpet"
           }
          ],
          "scattergeo": [
           {
            "marker": {
             "colorbar": {
              "outlinewidth": 0,
              "ticks": ""
             }
            },
            "type": "scattergeo"
           }
          ],
          "scattergl": [
           {
            "marker": {
             "colorbar": {
              "outlinewidth": 0,
              "ticks": ""
             }
            },
            "type": "scattergl"
           }
          ],
          "scattermapbox": [
           {
            "marker": {
             "colorbar": {
              "outlinewidth": 0,
              "ticks": ""
             }
            },
            "type": "scattermapbox"
           }
          ],
          "scatterpolar": [
           {
            "marker": {
             "colorbar": {
              "outlinewidth": 0,
              "ticks": ""
             }
            },
            "type": "scatterpolar"
           }
          ],
          "scatterpolargl": [
           {
            "marker": {
             "colorbar": {
              "outlinewidth": 0,
              "ticks": ""
             }
            },
            "type": "scatterpolargl"
           }
          ],
          "scatterternary": [
           {
            "marker": {
             "colorbar": {
              "outlinewidth": 0,
              "ticks": ""
             }
            },
            "type": "scatterternary"
           }
          ],
          "surface": [
           {
            "colorbar": {
             "outlinewidth": 0,
             "ticks": ""
            },
            "colorscale": [
             [
              0,
              "#0d0887"
             ],
             [
              0.1111111111111111,
              "#46039f"
             ],
             [
              0.2222222222222222,
              "#7201a8"
             ],
             [
              0.3333333333333333,
              "#9c179e"
             ],
             [
              0.4444444444444444,
              "#bd3786"
             ],
             [
              0.5555555555555556,
              "#d8576b"
             ],
             [
              0.6666666666666666,
              "#ed7953"
             ],
             [
              0.7777777777777778,
              "#fb9f3a"
             ],
             [
              0.8888888888888888,
              "#fdca26"
             ],
             [
              1,
              "#f0f921"
             ]
            ],
            "type": "surface"
           }
          ],
          "table": [
           {
            "cells": {
             "fill": {
              "color": "#EBF0F8"
             },
             "line": {
              "color": "white"
             }
            },
            "header": {
             "fill": {
              "color": "#C8D4E3"
             },
             "line": {
              "color": "white"
             }
            },
            "type": "table"
           }
          ]
         },
         "layout": {
          "annotationdefaults": {
           "arrowcolor": "#2a3f5f",
           "arrowhead": 0,
           "arrowwidth": 1
          },
          "autotypenumbers": "strict",
          "coloraxis": {
           "colorbar": {
            "outlinewidth": 0,
            "ticks": ""
           }
          },
          "colorscale": {
           "diverging": [
            [
             0,
             "#8e0152"
            ],
            [
             0.1,
             "#c51b7d"
            ],
            [
             0.2,
             "#de77ae"
            ],
            [
             0.3,
             "#f1b6da"
            ],
            [
             0.4,
             "#fde0ef"
            ],
            [
             0.5,
             "#f7f7f7"
            ],
            [
             0.6,
             "#e6f5d0"
            ],
            [
             0.7,
             "#b8e186"
            ],
            [
             0.8,
             "#7fbc41"
            ],
            [
             0.9,
             "#4d9221"
            ],
            [
             1,
             "#276419"
            ]
           ],
           "sequential": [
            [
             0,
             "#0d0887"
            ],
            [
             0.1111111111111111,
             "#46039f"
            ],
            [
             0.2222222222222222,
             "#7201a8"
            ],
            [
             0.3333333333333333,
             "#9c179e"
            ],
            [
             0.4444444444444444,
             "#bd3786"
            ],
            [
             0.5555555555555556,
             "#d8576b"
            ],
            [
             0.6666666666666666,
             "#ed7953"
            ],
            [
             0.7777777777777778,
             "#fb9f3a"
            ],
            [
             0.8888888888888888,
             "#fdca26"
            ],
            [
             1,
             "#f0f921"
            ]
           ],
           "sequentialminus": [
            [
             0,
             "#0d0887"
            ],
            [
             0.1111111111111111,
             "#46039f"
            ],
            [
             0.2222222222222222,
             "#7201a8"
            ],
            [
             0.3333333333333333,
             "#9c179e"
            ],
            [
             0.4444444444444444,
             "#bd3786"
            ],
            [
             0.5555555555555556,
             "#d8576b"
            ],
            [
             0.6666666666666666,
             "#ed7953"
            ],
            [
             0.7777777777777778,
             "#fb9f3a"
            ],
            [
             0.8888888888888888,
             "#fdca26"
            ],
            [
             1,
             "#f0f921"
            ]
           ]
          },
          "colorway": [
           "#636efa",
           "#EF553B",
           "#00cc96",
           "#ab63fa",
           "#FFA15A",
           "#19d3f3",
           "#FF6692",
           "#B6E880",
           "#FF97FF",
           "#FECB52"
          ],
          "font": {
           "color": "#2a3f5f"
          },
          "geo": {
           "bgcolor": "white",
           "lakecolor": "white",
           "landcolor": "#E5ECF6",
           "showlakes": true,
           "showland": true,
           "subunitcolor": "white"
          },
          "hoverlabel": {
           "align": "left"
          },
          "hovermode": "closest",
          "mapbox": {
           "style": "light"
          },
          "paper_bgcolor": "white",
          "plot_bgcolor": "#E5ECF6",
          "polar": {
           "angularaxis": {
            "gridcolor": "white",
            "linecolor": "white",
            "ticks": ""
           },
           "bgcolor": "#E5ECF6",
           "radialaxis": {
            "gridcolor": "white",
            "linecolor": "white",
            "ticks": ""
           }
          },
          "scene": {
           "xaxis": {
            "backgroundcolor": "#E5ECF6",
            "gridcolor": "white",
            "gridwidth": 2,
            "linecolor": "white",
            "showbackground": true,
            "ticks": "",
            "zerolinecolor": "white"
           },
           "yaxis": {
            "backgroundcolor": "#E5ECF6",
            "gridcolor": "white",
            "gridwidth": 2,
            "linecolor": "white",
            "showbackground": true,
            "ticks": "",
            "zerolinecolor": "white"
           },
           "zaxis": {
            "backgroundcolor": "#E5ECF6",
            "gridcolor": "white",
            "gridwidth": 2,
            "linecolor": "white",
            "showbackground": true,
            "ticks": "",
            "zerolinecolor": "white"
           }
          },
          "shapedefaults": {
           "line": {
            "color": "#2a3f5f"
           }
          },
          "ternary": {
           "aaxis": {
            "gridcolor": "white",
            "linecolor": "white",
            "ticks": ""
           },
           "baxis": {
            "gridcolor": "white",
            "linecolor": "white",
            "ticks": ""
           },
           "bgcolor": "#E5ECF6",
           "caxis": {
            "gridcolor": "white",
            "linecolor": "white",
            "ticks": ""
           }
          },
          "title": {
           "x": 0.05
          },
          "xaxis": {
           "automargin": true,
           "gridcolor": "white",
           "linecolor": "white",
           "ticks": "",
           "title": {
            "standoff": 15
           },
           "zerolinecolor": "white",
           "zerolinewidth": 2
          },
          "yaxis": {
           "automargin": true,
           "gridcolor": "white",
           "linecolor": "white",
           "ticks": "",
           "title": {
            "standoff": 15
           },
           "zerolinecolor": "white",
           "zerolinewidth": 2
          }
         }
        }
       }
      }
     },
     "metadata": {},
     "output_type": "display_data"
    }
   ],
   "source": [
    "# Prepare figure\n",
    "fig = go.Figure()\n",
    "\n",
    "# Add trace for Algorithm 1\n",
    "fig.add_trace(go.Scatter(\n",
    "    x=[d['h'] for d in results_algo1],\n",
    "    y=[d['Algo'] for d in results_algo1],\n",
    "    mode='lines+markers',\n",
    "    error_y=dict(type='data', array=[d['CI'] for d in results_algo1], visible=True),\n",
    "    name='Algorithm 1'\n",
    "))\n",
    "\n",
    "# Add trace for Algorithm 2\n",
    "fig.add_trace(go.Scatter(\n",
    "    x=[d['h'] for d in results_algo2],\n",
    "    y=[d['Algo'] for d in results_algo2],\n",
    "    mode='lines+markers',\n",
    "    error_y=dict(type='data', array=[d['CI'] for d in results_algo2], visible=True),\n",
    "    name='Algorithm 2'\n",
    "))\n",
    "\n",
    "fig.add_trace(go.Scatter(\n",
    "    x=[d['h'] for d in results_algo2],   # or use a combined h-list like [0.25,0.125,0.0625]\n",
    "    y=[exact]*len(results_algo2),\n",
    "    mode='lines',\n",
    "    line=dict(dash='dot', color='black'),\n",
    "    name='Exact'\n",
    "))\n",
    "\n",
    "fig.show()"
   ]
  },
  {
   "cell_type": "markdown",
   "id": "8c82c591",
   "metadata": {},
   "source": [
    "We see that Algorithm 2.1 is much more accurate than Algorithm 2.2. We also observe “oscillating” convergence which is typical for binary tree methods."
   ]
  },
  {
   "cell_type": "markdown",
   "id": "7bb5f4cb",
   "metadata": {},
   "source": [
    "### Algorithm 2.2 with variance reduction (add Z from (4.6))"
   ]
  },
  {
   "cell_type": "markdown",
   "id": "e93e50f3",
   "metadata": {},
   "source": [
    "### Variance‑reduction term F(s,L) ≈ -σ ∂V/∂L from (4.7)"
   ]
  },
  {
   "cell_type": "code",
   "execution_count": 16,
   "id": "7b9e3583",
   "metadata": {},
   "outputs": [],
   "source": [
    "def F_variance_reduction(L, H, K, sigma, tau, eps=1e-4):\n",
    "    V_plus  = analytic_vtilde_caplet(L+eps, H, K, sigma, tau)\n",
    "    V_minus = analytic_vtilde_caplet(L-eps, H, K, sigma, tau)\n",
    "    dVdL = (V_plus - V_minus) / (2*eps)\n",
    "    return -sigma * dVdL"
   ]
  },
  {
   "cell_type": "code",
   "execution_count": 17,
   "id": "abce9f70",
   "metadata": {},
   "outputs": [],
   "source": [
    "def F_variance_reduction(L, H, K, sigma, tau):\n",
    "    \"\"\"\n",
    "    Exact derivative-based variance-reduction term:\n",
    "      F(s,L) = -sigma * dVtilde/dL\n",
    "    for the barrier caplet, using closed-form dV/dL.\n",
    "    \"\"\"\n",
    "    # precompute\n",
    "    v = sigma * np.sqrt(tau)\n",
    "    inv_v = 1.0 / v\n",
    "    lnL = np.log(L)\n",
    "    \n",
    "    # helper deltas\n",
    "    a1 = (lnL - np.log(K) + 0.5*v*v) * inv_v        # δ+(L/K)\n",
    "    a2 = (lnL - np.log(H) + 0.5*v*v) * inv_v        # δ+(L/H)\n",
    "    b1 = (lnL - np.log(K) - 0.5*v*v) * inv_v        # δ-(L/K)\n",
    "    b2 = (lnL - np.log(H) - 0.5*v*v) * inv_v        # δ-(L/H)\n",
    "    c1 = (np.log(H*H/(K*L)) + 0.5*v*v) * inv_v      # δ+(H^2/(K L))\n",
    "    c2 = (np.log(H/L)    + 0.5*v*v) * inv_v         # δ+(H/ L)\n",
    "    d1 = (np.log(H*H/(K*L)) - 0.5*v*v) * inv_v      # δ-(H^2/(K L))\n",
    "    d2 = (np.log(H/L)    - 0.5*v*v) * inv_v         # δ-(H/ L)\n",
    "\n",
    "    # Gaussian pdf/ccdf\n",
    "    phi  = norm.pdf\n",
    "    Phi  = norm.cdf\n",
    "\n",
    "    # terms\n",
    "    T1 = (Phi(a1) - Phi(a2)) + inv_v*(phi(a1) - phi(a2))\n",
    "    T2 = -(K/(L*v))*(phi(b1) - phi(b2))\n",
    "    T3 =  (H/(L*v))*(phi(c1) - phi(c2))\n",
    "    T4 = (K/H)*(Phi(d1) - Phi(d2)) - (K/(H*v))*(phi(d1) - phi(d2))\n",
    "\n",
    "    dVdL = T1 + T2 + T3 + T4\n",
    "    return -sigma * dVdL"
   ]
  },
  {
   "cell_type": "code",
   "execution_count": 18,
   "id": "2be1d8cc",
   "metadata": {},
   "outputs": [],
   "source": [
    "def simulate_algo2_vr(L0, H, K, sigma, T, h, N_paths, seed=42):\n",
    "    \"\"\"\n",
    "    Algorithm 2.2 with variance reduction and a tqdm progress bar.\n",
    "    Returns (price, stderr).\n",
    "    \"\"\"\n",
    "    rng = np.random.default_rng(seed)\n",
    "    M = int(np.ceil(T/h))\n",
    "    lnH, sqrt_h = np.log(H), np.sqrt(h)\n",
    "    half_sig2h = 0.5 * sigma**2 * h\n",
    "\n",
    "    payoffs = np.zeros(N_paths)\n",
    "\n",
    "    # Wrap the outer loop in tqdm\n",
    "    for i in tqdm(range(N_paths), desc=\"Simulating paths\", unit=\"path\"):\n",
    "        lnL = np.log(L0)\n",
    "        Z   = 0.0\n",
    "\n",
    "        for k in range(M):\n",
    "            tau = T - k*h\n",
    "            boundary = lnH + half_sig2h - sigma*sqrt_h\n",
    "            if lnL >= boundary:\n",
    "                break\n",
    "\n",
    "            xi = 1 if rng.random() < 0.5 else -1\n",
    "            L  = np.exp(lnL)\n",
    "            Fk = F_variance_reduction(L, H, K, sigma, tau)\n",
    "\n",
    "            Z   += Fk * sqrt_h * xi\n",
    "            lnL += -half_sig2h + sigma*sqrt_h * xi\n",
    "\n",
    "        payoff = max(np.exp(lnL) - K, 0.0) if k == M-1 else 0.0\n",
    "        payoffs[i] = payoff + Z\n",
    "\n",
    "    price  = payoffs.mean()\n",
    "    stderr = payoffs.std(ddof=1) / np.sqrt(N_paths)\n",
    "    return price, stderr"
   ]
  },
  {
   "cell_type": "code",
   "execution_count": 23,
   "id": "79bc43c1",
   "metadata": {},
   "outputs": [
    {
     "name": "stdout",
     "output_type": "stream",
     "text": [
      "0.25\n"
     ]
    },
    {
     "name": "stderr",
     "output_type": "stream",
     "text": [
      "Simulating paths: 100%|██████████| 3000/3000 [00:38<00:00, 77.54path/s]\n"
     ]
    },
    {
     "name": "stdout",
     "output_type": "stream",
     "text": [
      "0.125\n"
     ]
    },
    {
     "name": "stderr",
     "output_type": "stream",
     "text": [
      "Simulating paths: 100%|██████████| 3000/3000 [01:17<00:00, 38.84path/s]\n"
     ]
    },
    {
     "name": "stdout",
     "output_type": "stream",
     "text": [
      "0.0625\n"
     ]
    },
    {
     "name": "stderr",
     "output_type": "stream",
     "text": [
      "Simulating paths: 100%|██████████| 3000/3000 [02:34<00:00, 19.39path/s]\n"
     ]
    },
    {
     "data": {
      "text/plain": [
       "[{'h': 0.25, 'Algo': 0.06616839901949118, 'CI': 0.015550000031309222},\n",
       " {'h': 0.125, 'Algo': 0.0660727212430857, 'CI': 0.015419666402308511},\n",
       " {'h': 0.0625, 'Algo': 0.0602098829438728, 'CI': 0.01574920530721758}]"
      ]
     },
     "execution_count": 23,
     "metadata": {},
     "output_type": "execute_result"
    }
   ],
   "source": [
    "results_algo2_vr = []\n",
    "h_list2  = [0.25, 0.125, 0.0625]\n",
    "\n",
    "for h in h_list2:\n",
    "    print(h)\n",
    "    p, se = simulate_algo2_vr(L0, H, K, sigma, T, h, N_paths)\n",
    "    results_algo2_vr.append({\n",
    "        'h': h,\n",
    "        'Algo': p,\n",
    "        'CI':1.96*se,\n",
    "    })\n",
    "\n",
    "results_algo2_vr"
   ]
  },
  {
   "cell_type": "markdown",
   "id": "d54f50f5",
   "metadata": {},
   "source": [
    "### Compare over a few time‑steps and plot"
   ]
  },
  {
   "cell_type": "code",
   "execution_count": null,
   "id": "9fd83a14",
   "metadata": {},
   "outputs": [
    {
     "data": {
      "application/vnd.plotly.v1+json": {
       "config": {
        "plotlyServerURL": "https://plot.ly"
       },
       "data": [
        {
         "error_y": {
          "array": [
           0.0020738548076747695,
           0.00202795788665657,
           0.002014484118945565,
           0.002030469408846287,
           0.0019978620265584074
          ],
          "type": "data",
          "visible": true
         },
         "mode": "lines+markers",
         "name": "Algorithm 1",
         "type": "scatter",
         "x": [
          0.25,
          0.125,
          0.0625,
          0.03125,
          0.015625
         ],
         "y": [
          0.0671626955325963,
          0.06549103088704948,
          0.06565471589132234,
          0.06610594009418236,
          0.0654894031441852
         ]
        },
        {
         "error_y": {
          "array": [
           0.0020176456765123177,
           0.0020600861476816066,
           0.0019592788978218634,
           0.002020493810257483,
           0.0019911801195465597
          ],
          "type": "data",
          "visible": true
         },
         "mode": "lines+markers",
         "name": "Algorithm 2",
         "type": "scatter",
         "x": [
          0.25,
          0.125,
          0.0625,
          0.03125,
          0.015625
         ],
         "y": [
          0.06276817648644427,
          0.06301169186866125,
          0.06208582465469845,
          0.06556391051886841,
          0.06377240841252307
         ]
        },
        {
         "error_y": {
          "array": [
           0.015550000031309222,
           0.015419666402308511,
           0.01574920530721758
          ],
          "type": "data",
          "visible": true
         },
         "mode": "lines+markers",
         "name": "Algorithm 2 VR",
         "type": "scatter",
         "x": [
          0.25,
          0.125,
          0.0625
         ],
         "y": [
          0.06616839901949118,
          0.0660727212430857,
          0.0602098829438728
         ]
        },
        {
         "line": {
          "color": "black",
          "dash": "dot"
         },
         "mode": "lines",
         "name": "Exact",
         "type": "scatter",
         "x": [
          0.25,
          0.125,
          0.0625
         ],
         "y": [
          0.06571345192162645,
          0.06571345192162645,
          0.06571345192162645
         ]
        }
       ],
       "layout": {
        "template": {
         "data": {
          "bar": [
           {
            "error_x": {
             "color": "#2a3f5f"
            },
            "error_y": {
             "color": "#2a3f5f"
            },
            "marker": {
             "line": {
              "color": "#E5ECF6",
              "width": 0.5
             },
             "pattern": {
              "fillmode": "overlay",
              "size": 10,
              "solidity": 0.2
             }
            },
            "type": "bar"
           }
          ],
          "barpolar": [
           {
            "marker": {
             "line": {
              "color": "#E5ECF6",
              "width": 0.5
             },
             "pattern": {
              "fillmode": "overlay",
              "size": 10,
              "solidity": 0.2
             }
            },
            "type": "barpolar"
           }
          ],
          "carpet": [
           {
            "aaxis": {
             "endlinecolor": "#2a3f5f",
             "gridcolor": "white",
             "linecolor": "white",
             "minorgridcolor": "white",
             "startlinecolor": "#2a3f5f"
            },
            "baxis": {
             "endlinecolor": "#2a3f5f",
             "gridcolor": "white",
             "linecolor": "white",
             "minorgridcolor": "white",
             "startlinecolor": "#2a3f5f"
            },
            "type": "carpet"
           }
          ],
          "choropleth": [
           {
            "colorbar": {
             "outlinewidth": 0,
             "ticks": ""
            },
            "type": "choropleth"
           }
          ],
          "contour": [
           {
            "colorbar": {
             "outlinewidth": 0,
             "ticks": ""
            },
            "colorscale": [
             [
              0,
              "#0d0887"
             ],
             [
              0.1111111111111111,
              "#46039f"
             ],
             [
              0.2222222222222222,
              "#7201a8"
             ],
             [
              0.3333333333333333,
              "#9c179e"
             ],
             [
              0.4444444444444444,
              "#bd3786"
             ],
             [
              0.5555555555555556,
              "#d8576b"
             ],
             [
              0.6666666666666666,
              "#ed7953"
             ],
             [
              0.7777777777777778,
              "#fb9f3a"
             ],
             [
              0.8888888888888888,
              "#fdca26"
             ],
             [
              1,
              "#f0f921"
             ]
            ],
            "type": "contour"
           }
          ],
          "contourcarpet": [
           {
            "colorbar": {
             "outlinewidth": 0,
             "ticks": ""
            },
            "type": "contourcarpet"
           }
          ],
          "heatmap": [
           {
            "colorbar": {
             "outlinewidth": 0,
             "ticks": ""
            },
            "colorscale": [
             [
              0,
              "#0d0887"
             ],
             [
              0.1111111111111111,
              "#46039f"
             ],
             [
              0.2222222222222222,
              "#7201a8"
             ],
             [
              0.3333333333333333,
              "#9c179e"
             ],
             [
              0.4444444444444444,
              "#bd3786"
             ],
             [
              0.5555555555555556,
              "#d8576b"
             ],
             [
              0.6666666666666666,
              "#ed7953"
             ],
             [
              0.7777777777777778,
              "#fb9f3a"
             ],
             [
              0.8888888888888888,
              "#fdca26"
             ],
             [
              1,
              "#f0f921"
             ]
            ],
            "type": "heatmap"
           }
          ],
          "heatmapgl": [
           {
            "colorbar": {
             "outlinewidth": 0,
             "ticks": ""
            },
            "colorscale": [
             [
              0,
              "#0d0887"
             ],
             [
              0.1111111111111111,
              "#46039f"
             ],
             [
              0.2222222222222222,
              "#7201a8"
             ],
             [
              0.3333333333333333,
              "#9c179e"
             ],
             [
              0.4444444444444444,
              "#bd3786"
             ],
             [
              0.5555555555555556,
              "#d8576b"
             ],
             [
              0.6666666666666666,
              "#ed7953"
             ],
             [
              0.7777777777777778,
              "#fb9f3a"
             ],
             [
              0.8888888888888888,
              "#fdca26"
             ],
             [
              1,
              "#f0f921"
             ]
            ],
            "type": "heatmapgl"
           }
          ],
          "histogram": [
           {
            "marker": {
             "pattern": {
              "fillmode": "overlay",
              "size": 10,
              "solidity": 0.2
             }
            },
            "type": "histogram"
           }
          ],
          "histogram2d": [
           {
            "colorbar": {
             "outlinewidth": 0,
             "ticks": ""
            },
            "colorscale": [
             [
              0,
              "#0d0887"
             ],
             [
              0.1111111111111111,
              "#46039f"
             ],
             [
              0.2222222222222222,
              "#7201a8"
             ],
             [
              0.3333333333333333,
              "#9c179e"
             ],
             [
              0.4444444444444444,
              "#bd3786"
             ],
             [
              0.5555555555555556,
              "#d8576b"
             ],
             [
              0.6666666666666666,
              "#ed7953"
             ],
             [
              0.7777777777777778,
              "#fb9f3a"
             ],
             [
              0.8888888888888888,
              "#fdca26"
             ],
             [
              1,
              "#f0f921"
             ]
            ],
            "type": "histogram2d"
           }
          ],
          "histogram2dcontour": [
           {
            "colorbar": {
             "outlinewidth": 0,
             "ticks": ""
            },
            "colorscale": [
             [
              0,
              "#0d0887"
             ],
             [
              0.1111111111111111,
              "#46039f"
             ],
             [
              0.2222222222222222,
              "#7201a8"
             ],
             [
              0.3333333333333333,
              "#9c179e"
             ],
             [
              0.4444444444444444,
              "#bd3786"
             ],
             [
              0.5555555555555556,
              "#d8576b"
             ],
             [
              0.6666666666666666,
              "#ed7953"
             ],
             [
              0.7777777777777778,
              "#fb9f3a"
             ],
             [
              0.8888888888888888,
              "#fdca26"
             ],
             [
              1,
              "#f0f921"
             ]
            ],
            "type": "histogram2dcontour"
           }
          ],
          "mesh3d": [
           {
            "colorbar": {
             "outlinewidth": 0,
             "ticks": ""
            },
            "type": "mesh3d"
           }
          ],
          "parcoords": [
           {
            "line": {
             "colorbar": {
              "outlinewidth": 0,
              "ticks": ""
             }
            },
            "type": "parcoords"
           }
          ],
          "pie": [
           {
            "automargin": true,
            "type": "pie"
           }
          ],
          "scatter": [
           {
            "fillpattern": {
             "fillmode": "overlay",
             "size": 10,
             "solidity": 0.2
            },
            "type": "scatter"
           }
          ],
          "scatter3d": [
           {
            "line": {
             "colorbar": {
              "outlinewidth": 0,
              "ticks": ""
             }
            },
            "marker": {
             "colorbar": {
              "outlinewidth": 0,
              "ticks": ""
             }
            },
            "type": "scatter3d"
           }
          ],
          "scattercarpet": [
           {
            "marker": {
             "colorbar": {
              "outlinewidth": 0,
              "ticks": ""
             }
            },
            "type": "scattercarpet"
           }
          ],
          "scattergeo": [
           {
            "marker": {
             "colorbar": {
              "outlinewidth": 0,
              "ticks": ""
             }
            },
            "type": "scattergeo"
           }
          ],
          "scattergl": [
           {
            "marker": {
             "colorbar": {
              "outlinewidth": 0,
              "ticks": ""
             }
            },
            "type": "scattergl"
           }
          ],
          "scattermapbox": [
           {
            "marker": {
             "colorbar": {
              "outlinewidth": 0,
              "ticks": ""
             }
            },
            "type": "scattermapbox"
           }
          ],
          "scatterpolar": [
           {
            "marker": {
             "colorbar": {
              "outlinewidth": 0,
              "ticks": ""
             }
            },
            "type": "scatterpolar"
           }
          ],
          "scatterpolargl": [
           {
            "marker": {
             "colorbar": {
              "outlinewidth": 0,
              "ticks": ""
             }
            },
            "type": "scatterpolargl"
           }
          ],
          "scatterternary": [
           {
            "marker": {
             "colorbar": {
              "outlinewidth": 0,
              "ticks": ""
             }
            },
            "type": "scatterternary"
           }
          ],
          "surface": [
           {
            "colorbar": {
             "outlinewidth": 0,
             "ticks": ""
            },
            "colorscale": [
             [
              0,
              "#0d0887"
             ],
             [
              0.1111111111111111,
              "#46039f"
             ],
             [
              0.2222222222222222,
              "#7201a8"
             ],
             [
              0.3333333333333333,
              "#9c179e"
             ],
             [
              0.4444444444444444,
              "#bd3786"
             ],
             [
              0.5555555555555556,
              "#d8576b"
             ],
             [
              0.6666666666666666,
              "#ed7953"
             ],
             [
              0.7777777777777778,
              "#fb9f3a"
             ],
             [
              0.8888888888888888,
              "#fdca26"
             ],
             [
              1,
              "#f0f921"
             ]
            ],
            "type": "surface"
           }
          ],
          "table": [
           {
            "cells": {
             "fill": {
              "color": "#EBF0F8"
             },
             "line": {
              "color": "white"
             }
            },
            "header": {
             "fill": {
              "color": "#C8D4E3"
             },
             "line": {
              "color": "white"
             }
            },
            "type": "table"
           }
          ]
         },
         "layout": {
          "annotationdefaults": {
           "arrowcolor": "#2a3f5f",
           "arrowhead": 0,
           "arrowwidth": 1
          },
          "autotypenumbers": "strict",
          "coloraxis": {
           "colorbar": {
            "outlinewidth": 0,
            "ticks": ""
           }
          },
          "colorscale": {
           "diverging": [
            [
             0,
             "#8e0152"
            ],
            [
             0.1,
             "#c51b7d"
            ],
            [
             0.2,
             "#de77ae"
            ],
            [
             0.3,
             "#f1b6da"
            ],
            [
             0.4,
             "#fde0ef"
            ],
            [
             0.5,
             "#f7f7f7"
            ],
            [
             0.6,
             "#e6f5d0"
            ],
            [
             0.7,
             "#b8e186"
            ],
            [
             0.8,
             "#7fbc41"
            ],
            [
             0.9,
             "#4d9221"
            ],
            [
             1,
             "#276419"
            ]
           ],
           "sequential": [
            [
             0,
             "#0d0887"
            ],
            [
             0.1111111111111111,
             "#46039f"
            ],
            [
             0.2222222222222222,
             "#7201a8"
            ],
            [
             0.3333333333333333,
             "#9c179e"
            ],
            [
             0.4444444444444444,
             "#bd3786"
            ],
            [
             0.5555555555555556,
             "#d8576b"
            ],
            [
             0.6666666666666666,
             "#ed7953"
            ],
            [
             0.7777777777777778,
             "#fb9f3a"
            ],
            [
             0.8888888888888888,
             "#fdca26"
            ],
            [
             1,
             "#f0f921"
            ]
           ],
           "sequentialminus": [
            [
             0,
             "#0d0887"
            ],
            [
             0.1111111111111111,
             "#46039f"
            ],
            [
             0.2222222222222222,
             "#7201a8"
            ],
            [
             0.3333333333333333,
             "#9c179e"
            ],
            [
             0.4444444444444444,
             "#bd3786"
            ],
            [
             0.5555555555555556,
             "#d8576b"
            ],
            [
             0.6666666666666666,
             "#ed7953"
            ],
            [
             0.7777777777777778,
             "#fb9f3a"
            ],
            [
             0.8888888888888888,
             "#fdca26"
            ],
            [
             1,
             "#f0f921"
            ]
           ]
          },
          "colorway": [
           "#636efa",
           "#EF553B",
           "#00cc96",
           "#ab63fa",
           "#FFA15A",
           "#19d3f3",
           "#FF6692",
           "#B6E880",
           "#FF97FF",
           "#FECB52"
          ],
          "font": {
           "color": "#2a3f5f"
          },
          "geo": {
           "bgcolor": "white",
           "lakecolor": "white",
           "landcolor": "#E5ECF6",
           "showlakes": true,
           "showland": true,
           "subunitcolor": "white"
          },
          "hoverlabel": {
           "align": "left"
          },
          "hovermode": "closest",
          "mapbox": {
           "style": "light"
          },
          "paper_bgcolor": "white",
          "plot_bgcolor": "#E5ECF6",
          "polar": {
           "angularaxis": {
            "gridcolor": "white",
            "linecolor": "white",
            "ticks": ""
           },
           "bgcolor": "#E5ECF6",
           "radialaxis": {
            "gridcolor": "white",
            "linecolor": "white",
            "ticks": ""
           }
          },
          "scene": {
           "xaxis": {
            "backgroundcolor": "#E5ECF6",
            "gridcolor": "white",
            "gridwidth": 2,
            "linecolor": "white",
            "showbackground": true,
            "ticks": "",
            "zerolinecolor": "white"
           },
           "yaxis": {
            "backgroundcolor": "#E5ECF6",
            "gridcolor": "white",
            "gridwidth": 2,
            "linecolor": "white",
            "showbackground": true,
            "ticks": "",
            "zerolinecolor": "white"
           },
           "zaxis": {
            "backgroundcolor": "#E5ECF6",
            "gridcolor": "white",
            "gridwidth": 2,
            "linecolor": "white",
            "showbackground": true,
            "ticks": "",
            "zerolinecolor": "white"
           }
          },
          "shapedefaults": {
           "line": {
            "color": "#2a3f5f"
           }
          },
          "ternary": {
           "aaxis": {
            "gridcolor": "white",
            "linecolor": "white",
            "ticks": ""
           },
           "baxis": {
            "gridcolor": "white",
            "linecolor": "white",
            "ticks": ""
           },
           "bgcolor": "#E5ECF6",
           "caxis": {
            "gridcolor": "white",
            "linecolor": "white",
            "ticks": ""
           }
          },
          "title": {
           "x": 0.05
          },
          "xaxis": {
           "automargin": true,
           "gridcolor": "white",
           "linecolor": "white",
           "ticks": "",
           "title": {
            "standoff": 15
           },
           "zerolinecolor": "white",
           "zerolinewidth": 2
          },
          "yaxis": {
           "automargin": true,
           "gridcolor": "white",
           "linecolor": "white",
           "ticks": "",
           "title": {
            "standoff": 15
           },
           "zerolinecolor": "white",
           "zerolinewidth": 2
          }
         }
        },
        "title": {
         "text": "Algo Values vs h with CI Error Bars for Multiple Algorithms"
        },
        "xaxis": {
         "title": {
          "text": "h"
         }
        },
        "yaxis": {
         "title": {
          "text": "Algo Value"
         }
        }
       }
      }
     },
     "metadata": {},
     "output_type": "display_data"
    }
   ],
   "source": [
    "# Prepare figure\n",
    "fig = go.Figure()\n",
    "\n",
    "# Add trace for Algorithm 1\n",
    "fig.add_trace(go.Scatter(\n",
    "    x=[d['h'] for d in results_algo1],\n",
    "    y=[d['Algo'] for d in results_algo1],\n",
    "    mode='lines+markers',\n",
    "    error_y=dict(type='data', array=[d['CI'] for d in results_algo1], visible=True),\n",
    "    name='Algorithm 1'\n",
    "))\n",
    "\n",
    "# Add trace for Algorithm 2\n",
    "fig.add_trace(go.Scatter(\n",
    "    x=[d['h'] for d in results_algo2],\n",
    "    y=[d['Algo'] for d in results_algo2],\n",
    "    mode='lines+markers',\n",
    "    error_y=dict(type='data', array=[d['CI'] for d in results_algo2], visible=True),\n",
    "    name='Algorithm 2'\n",
    "))\n",
    "\n",
    "# Add trace for Algorithm 2 VR\n",
    "fig.add_trace(go.Scatter(\n",
    "    x=[d['h'] for d in results_algo2_vr],\n",
    "    y=[d['Algo'] for d in results_algo2_vr],\n",
    "    mode='lines+markers',\n",
    "    error_y=dict(type='data', array=[d['CI'] for d in results_algo2_vr], visible=True),\n",
    "    name='Algorithm 2 VR'\n",
    "))\n",
    "\n",
    "# Update layout\n",
    "fig.update_layout(\n",
    "    title='Algo Values vs h with CI Error Bars for Multiple Algorithms',\n",
    "    xaxis_title='h',\n",
    "    yaxis_title='Algo Value'\n",
    ")\n",
    "\n",
    "fig.add_trace(go.Scatter(\n",
    "    x=[d['h'] for d in results_algo2_vr],   # or use a combined h-list like [0.25,0.125,0.0625]\n",
    "    y=[exact]*len(results_algo2_vr),\n",
    "    mode='lines',\n",
    "    line=dict(dash='dot', color='black'),\n",
    "    name='Exact'\n",
    "))\n",
    "\n",
    "fig.show()"
   ]
  },
  {
   "cell_type": "markdown",
   "id": "0ef52a39",
   "metadata": {},
   "source": [
    "We see that Algorithm 2.1 is much more accurate than Algorithm 2.2. We also observe “oscillating” convergence\n",
    "which is typical for binary tree methods."
   ]
  }
 ],
 "metadata": {
  "kernelspec": {
   "display_name": "env_py_31011",
   "language": "python",
   "name": "python3"
  },
  "language_info": {
   "codemirror_mode": {
    "name": "ipython",
    "version": 3
   },
   "file_extension": ".py",
   "mimetype": "text/x-python",
   "name": "python",
   "nbconvert_exporter": "python",
   "pygments_lexer": "ipython3",
   "version": "3.10.14"
  }
 },
 "nbformat": 4,
 "nbformat_minor": 5
}
