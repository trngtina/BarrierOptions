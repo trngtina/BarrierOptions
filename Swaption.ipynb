{
 "cells": [
  {
   "cell_type": "markdown",
   "id": "ac9dc409",
   "metadata": {},
   "source": [
    "# Barrier swaption"
   ]
  },
  {
   "cell_type": "markdown",
   "id": "79c788ed",
   "metadata": {},
   "source": [
    "In this section we consider Monte Carlo evaluation of a knock-out swaption\n",
    "under the LMM. We use the knock-out swaption as a guide in our exposition,\n",
    "its treatment is rather general and it can be used to value diﬀerent barrier\n",
    "options, where the underlying and barrier can be expressed as functionals of\n",
    "some diﬀusion process."
   ]
  },
  {
   "cell_type": "markdown",
   "id": "28e2f255",
   "metadata": {},
   "source": [
    "A European payer (receiver) swaption is an option that gives its holder a\n",
    "right, but not an obligation, to enter a payer (receiver) swap at a future date\n",
    "at a given fixed rate K. Usually, the swaption maturity coincides with the first\n",
    "reset date T0 of the underlying swap. The underlying swap length TN− T0 is\n",
    "called the tenor of the swaption."
   ]
  },
  {
   "cell_type": "markdown",
   "id": "58883521",
   "metadata": {},
   "source": [
    "$$\n",
    "V_{\\text{swaption}}(0) = P(0, T_0) \\, \\mathbb{E}^{\\mathbb{Q}^{T_0}} \\left[\n",
    "\\delta \\left( R_{\\text{swap}}(T_0) - K \\right)_+\n",
    "\\sum_{j=1}^{N} P(T_0, T_j) \\, \\chi(\\theta > T_0)\n",
    "\\right]\n",
    "\\tag{6.1}\n",
    "$$\n",
    "\n",
    "where $\\theta$ is the first exit time of the process $R_{\\text{swap}}(s), s \\geq 0$,\n",
    "from the interval $(0, R_{\\text{up}})$.\n",
    "That is, $\\theta$ is the earliest time at which the swap rate crosses the upper barrier $R_{\\text{up}}$,\n",
    "causing the knock-out feature of the swaption to be triggered."
   ]
  },
  {
   "cell_type": "code",
   "execution_count": 17,
   "id": "6255f90c",
   "metadata": {},
   "outputs": [],
   "source": [
    "import numpy as np\n",
    "from scipy.linalg import cholesky\n",
    "from scipy.optimize import minimize\n",
    "from tqdm import tqdm\n",
    "from scipy.stats import norm\n",
    "import pandas as pd\n",
    "import scipy.stats as stats\n",
    "from math import *\n",
    "\n",
    "from numba import njit, prange"
   ]
  },
  {
   "cell_type": "markdown",
   "id": "87f488ab",
   "metadata": {},
   "source": [
    "## 0. Setup du modèle"
   ]
  },
  {
   "cell_type": "markdown",
   "id": "42bfd54a",
   "metadata": {},
   "source": [
    "- Nombre de forward rates `N`\n",
    "- Maturité $(T_0)$ découpée en `M` pas de taille `h`\n",
    "- Courbe initiale `L0`, volatilités `sigma`\n",
    "- Corrélation exponentielle $( \\rho_{ij} = e^{-\\beta|T_i - T_j|} $)"
   ]
  },
  {
   "cell_type": "code",
   "execution_count": 18,
   "id": "82e37e7b",
   "metadata": {},
   "outputs": [],
   "source": [
    "# Paramètres\n",
    "N     = 10\n",
    "T0    = 10.0\n",
    "delta = 1.0\n",
    "M     = 100\n",
    "h     = T0 / M\n",
    "K     = 0.01   # Strike\n",
    "Rup   = 0.075  # Barrier\n",
    "L0    = 0.05 * np.ones(N)\n",
    "sigma = 0.10 * np.ones(N)\n",
    "beta  = 0.1\n",
    "T_star= T0 + delta * N"
   ]
  },
  {
   "cell_type": "markdown",
   "id": "2d9e29f2",
   "metadata": {},
   "source": [
    "$$\n",
    "\\rho_{i,j} = \\exp(-\\beta |T_i - T_j|).\n",
    "\\tag{3.6}\n",
    "$$\n",
    "\n",
    "Where $U$ is the upper triangular matrix\n",
    "$$\n",
    "\\rho = UU^\\top,\n",
    "\\tag{3.5}\n",
    "$$"
   ]
  },
  {
   "cell_type": "code",
   "execution_count": 19,
   "id": "07c89294",
   "metadata": {},
   "outputs": [],
   "source": [
    "# Corrélation et Cholesky\n",
    "times = T0 + delta * np.arange(N)       # T_i = T0, T0+δ, …, T0+(N-1)δ\n",
    "rho   = np.exp(-beta * np.abs(times[:, None] - times[None, :]))\n",
    "U     = cholesky(rho, lower=False)\n",
    "\n",
    "# PRICE conventionnel\n",
    "T0_index = int(T0 / delta)\n",
    "P0_T0 = np.prod(1.0 / (1 + delta * L0[:T0_index]))\n",
    "\n",
    "# Matrice précomputée pour drift (i >= j)\n",
    "full_mat  = rho * np.outer(sigma, sigma)\n",
    "drift_mat = np.tril(full_mat)           # (i,j) zero if j>i"
   ]
  },
  {
   "cell_type": "markdown",
   "id": "5eec6878",
   "metadata": {},
   "source": [
    "### Swap Rate Function"
   ]
  },
  {
   "cell_type": "markdown",
   "id": "39e2f2c1",
   "metadata": {},
   "source": [
    "The swap rate $R_{swap}(s)$ can be expressed in terms of the spanning LIBOR rates as:\n",
    "\n",
    "$$\n",
    "R_{\\text{swap}}(s) = \\frac{1 - \\frac{1}{\\prod\\limits_{j=0}^{N-1} \\left(1 + \\delta L^j(s)\\right)}}\n",
    "{\\delta \\sum\\limits_{i=0}^{N-1} \\frac{1}{\\prod\\limits_{j=0}^{i} \\left(1 + \\delta L^j(s)\\right)}}.\n",
    "\\tag{6.2}\n",
    "$$"
   ]
  },
  {
   "cell_type": "code",
   "execution_count": 20,
   "id": "04594b00",
   "metadata": {},
   "outputs": [],
   "source": [
    "def R_swap(logL, delta):\n",
    "    L = np.exp(logL)\n",
    "    discount_prod = np.prod(1 + delta * L)\n",
    "    numer = 1 - 1.0 / discount_prod\n",
    "    denom = delta * np.sum(1.0 / np.cumprod(1 + delta * L))\n",
    "    return numer / denom"
   ]
  },
  {
   "cell_type": "markdown",
   "id": "2eb505dc",
   "metadata": {},
   "source": [
    "## 1. Approximation analytique\n",
    "\n",
    "For test purposes, let us introduce an analytical approximation for the barrier swaption. To this end, we note that under the Swap Market Model (SMM, see details in [4, 18, 21]) the barrier swaption pricing problem admits the closed-form solution (cf. (4.3)):\n"
   ]
  },
  {
   "cell_type": "markdown",
   "id": "b0c7d241",
   "metadata": {},
   "source": [
    "- La payer swaption KO est deep in-the-money\n",
    "- La **receiver swaption KO** est deep out-of-the-money"
   ]
  },
  {
   "cell_type": "code",
   "execution_count": 21,
   "id": "9418ec79",
   "metadata": {},
   "outputs": [
    {
     "name": "stdout",
     "output_type": "stream",
     "text": [
      "Swap rate initial R0:          0.050000\n",
      "Volatilité effective v:        0.065629\n",
      "Prix analytique payer KO :     0.308869\n",
      "Prix analytique receiver KO ≈  0.154435\n",
      "Prix article :                 0.15556\n"
     ]
    }
   ],
   "source": [
    "# Swap rate initial R0\n",
    "R0 = R_swap(np.log(L0), delta)\n",
    "\n",
    "# --- 4) Discount factors P(0,Tj) pour j=1..N ---\n",
    "P0_T = np.concatenate(([1.0], np.cumprod(1.0 / (1 + delta * L0))))\n",
    "annuity = np.sum(P0_T[1:])   # somme des P(0,Tj)\n",
    "\n",
    "# --- 5) Pondérations ω_i(0) vectorisées ---\n",
    "prefix = np.ones(N)\n",
    "prefix[1:] = np.cumprod(1 + delta * L0[:-1])\n",
    "denom_w = delta * np.sum(1.0 / prefix)\n",
    "weights = (1.0 - 1.0 / prefix) / denom_w       # shape (N,)\n",
    "\n",
    "# --- 6) Volatilité effective v selon Rebonato (6.5) ---\n",
    "# ∫₀^T0 σ_i(s)σ_j(s) ds = σ_i * σ_j * T0\n",
    "integrals = np.outer(sigma, sigma) * T0         # matrice (i,j)\n",
    "wL = weights * L0                              # vecteur (i)\n",
    "num = np.outer(wL, wL) * rho * integrals        # numérateur v²\n",
    "v2  = num.sum() / (R0**2)\n",
    "v   = np.sqrt(v2)\n",
    "\n",
    "# --- 7) Fonctions d± ---\n",
    "dplus  = lambda x: (np.log(x) + 0.5 * v**2) / v\n",
    "dminus = lambda x: (np.log(x) - 0.5 * v**2) / v\n",
    "\n",
    "# --- 7. Ratios utiles ---\n",
    "x1 = R0 / K\n",
    "x2 = R0 / Rup\n",
    "y1 = Rup**2 / (K * R0)\n",
    "y2 = Rup / R0\n",
    "\n",
    "# --- 8. Termes de la formule fermée (eq. 6.4) ---\n",
    "term1 = R0 * (norm.cdf(dplus(x1)) - norm.cdf(dplus(x2)))\n",
    "term3 = - K   * (norm.cdf(dminus(x1)) - norm.cdf(dminus(x2)))\n",
    "term4 = - Rup * (norm.cdf(dplus(y1)) - norm.cdf(dplus(y2)))\n",
    "term5 =   K * R0 / Rup * (norm.cdf(dminus(y1)) - norm.cdf(dminus(y2)))\n",
    "\n",
    "# --- 9. Prix analytique final (payer swaption barrière) ---\n",
    "brace = term1 + term3 + term4 + term5\n",
    "price_payer = delta * annuity * brace\n",
    "\n",
    "# --- 10. Receiver swaption KO (≈ moitié du payer) ---\n",
    "price_receiver = 0.5 * price_payer\n",
    "\n",
    "price_article = 0.15556\n",
    "\n",
    "# --- Affichage ---\n",
    "print(f\"Swap rate initial R0:          {R0:.6f}\")\n",
    "print(f\"Volatilité effective v:        {v:.6f}\")\n",
    "print(f\"Prix analytique payer KO :     {price_payer:.6f}\")\n",
    "print(f\"Prix analytique receiver KO ≈  {price_receiver:.6f}\")\n",
    "print(f\"Prix article :                 {price_article}\")"
   ]
  },
  {
   "cell_type": "markdown",
   "id": "54097bb1",
   "metadata": {},
   "source": [
    "## 2. Projection sur la surface barrière"
   ]
  },
  {
   "cell_type": "markdown",
   "id": "17e0ed67",
   "metadata": {},
   "source": [
    "For completeness of the exposition, let us discuss how the projection $\\ln L_k^{\\pi}$\n",
    "can be simulated before we return to the description of the algorithm. The\n",
    "problem of finding point $\\ln L_k^{\\pi}$ is equivalent to finding the minimum value of the function\n",
    "\n",
    "$$\n",
    "\\left| \\ln L_k^\\pi - \\ln L_k \\right|^2 = \\left( \\ln L_k^{\\pi,0} - \\ln L_k^0 \\right)^2 + \\cdots + \\left( \\ln L_k^{\\pi,N-1} - \\ln L_k^{N-1} \\right)^2 \\tag{6.11}\n",
    "$$\n",
    "subject to the constraint\n",
    "$$\n",
    "\\ln \\left(\n",
    "\\frac{ \\displaystyle\\prod_{j=0}^{N-1} \\left( 1 + \\delta L_k^{\\pi,j} \\right) - 1 }{\n",
    "\\delta \\left( 1 + \\displaystyle\\sum_{i=0}^{N-2} \\prod_{j=i+1}^{N-1} \\left( 1 + \\delta L_k^{\\pi,j} \\right) \\right) }\n",
    "\\right) = \\ln R_{\\text{up}} \\tag{6.12}\n",
    "$$"
   ]
  },
  {
   "cell_type": "code",
   "execution_count": 22,
   "id": "2e6012e7",
   "metadata": {},
   "outputs": [],
   "source": [
    "## Full constrained optimization\n",
    "\n",
    "def project_to_barrier(x, delta, Rup):\n",
    "    cons = {\n",
    "        'type': 'eq',\n",
    "        'fun': lambda logL: np.log(R_swap(logL, delta)) - np.log(Rup)\n",
    "    }\n",
    "    res = minimize(\n",
    "        fun=lambda logL: np.sum((logL - x)**2),\n",
    "        x0=x.copy(),\n",
    "        constraints=cons,\n",
    "        method='SLSQP'\n",
    "    )\n",
    "    if not res.success:\n",
    "        raise RuntimeError(\"Projection failed: \" + res.message)\n",
    "    return res.x"
   ]
  },
  {
   "cell_type": "markdown",
   "id": "57cb8412",
   "metadata": {},
   "source": [
    "Hence the minimization problem is reduced to finding the point $\\ln L_k^{\\pi,1}, \\ldots, \\ln L_k^{\\pi,N-1}$ at which the function $|\\ln L_k^{\\pi} - \\ln L_k|^2$ from (6.11) with $\\ln L_k^{\\pi,0}$ from (6.13) has its minimum value. This optimization problem can be solved using standard procedures, e.g. the MATLAB function lsqnonlin().\n"
   ]
  },
  {
   "cell_type": "markdown",
   "id": "983b1271",
   "metadata": {},
   "source": [
    "The equation (6.13) is given by:\n",
    "$$\n",
    "\\ln L_k^{\\pi,0} = \\ln \\left( \\frac{\n",
    "R_{up} \\cdot \\left( 1 + \\sum_{i=0}^{N-2} \\prod_{j=i+1}^{N-1} \\left( 1 + \\delta L_k^{\\pi,j} \\right) \\right) + 1\n",
    "}{\n",
    "\\prod_{j=1}^{N-1} \\left( 1 + \\delta L_k^{\\pi,j} \\right)\n",
    "} - \\frac{1}{\\delta} \\right) \\tag{6.13}\n",
    "$$"
   ]
  },
  {
   "cell_type": "code",
   "execution_count": 23,
   "id": "f4251028",
   "metadata": {},
   "outputs": [],
   "source": [
    "def project_to_barrier2(x, delta, Rup):\n",
    "    \"\"\"\n",
    "    Fast and robust projection of logL onto the surface R_swap = Rup.\n",
    "    Uses semi-analytic formula for logL0 (eq. 6.13) to reduce to (N-1) variables.\n",
    "    \"\"\"\n",
    "    N = x.shape[0]\n",
    "    eps = 1e-6  # ← internal safeguard threshold\n",
    "\n",
    "    def objective(y):\n",
    "        try:\n",
    "            L_tail = np.exp(y)\n",
    "            one_plus = 1 + delta * L_tail\n",
    "            revcp = np.cumprod(one_plus[::-1])[::-1]\n",
    "            prods = revcp\n",
    "            sum_term = 1 + np.sum(prods)\n",
    "\n",
    "            numerator = Rup * sum_term + 1\n",
    "            denominator = np.prod(one_plus)\n",
    "            term = numerator / denominator\n",
    "\n",
    "            log_arg = term - 1.0 / delta\n",
    "            if log_arg <= eps:\n",
    "                return 1e6 * (eps - log_arg)**2\n",
    "\n",
    "            logL0 = np.log(log_arg)\n",
    "\n",
    "            logLpi = np.empty(N)\n",
    "            logLpi[0] = logL0\n",
    "            logLpi[1:] = y\n",
    "            return np.sum((logLpi - x)**2)\n",
    "\n",
    "        except Exception:\n",
    "            return 1e12\n",
    "\n",
    "    y0 = np.clip(x[1:], -5.0, 5.0)\n",
    "\n",
    "    res = minimize(objective, y0, method='L-BFGS-B',\n",
    "                   options={'ftol': 1e-9, 'gtol': 1e-5, 'maxiter': 100})\n",
    "\n",
    "    if not res.success:\n",
    "        raise RuntimeError(f\"Projection2 failed: {res.message}\")\n",
    "\n",
    "    # Reconstruct final logLpi\n",
    "    y_opt = res.x\n",
    "    L_tail = np.exp(y_opt)\n",
    "    one_plus = 1 + delta * L_tail\n",
    "    revcp = np.cumprod(one_plus[::-1])[::-1]\n",
    "    prods = revcp\n",
    "    sum_term = 1 + np.sum(prods)\n",
    "    numerator = Rup * sum_term + 1\n",
    "    denominator = np.prod(one_plus)\n",
    "    log_arg = numerator / denominator - 1.0 / delta\n",
    "\n",
    "    if log_arg <= 0:\n",
    "        raise RuntimeError(\"Projection2 failed post-opt: log_arg <= 0\")\n",
    "\n",
    "    logL0 = np.log(log_arg)\n",
    "    logLpi = np.empty(N)\n",
    "    logLpi[0] = logL0\n",
    "    logLpi[1:] = y_opt\n",
    "    return logLpi"
   ]
  },
  {
   "cell_type": "markdown",
   "id": "a0d2d091",
   "metadata": {},
   "source": [
    "## 3. Simulation Monte Carlo\n",
    "\n",
    "- **Coarse check** : test rapide pour rester loin de la barrière\n",
    "- **Fine check** : perturbation maximale en un pas\n",
    "- **Boundary zone** : projection + saut auxiliaire"
   ]
  },
  {
   "cell_type": "markdown",
   "id": "654d3897",
   "metadata": {},
   "source": [
    "Introduce\n",
    "$$ \\ln L_{k, Max} = \\max_i \\ln L_k^i $$\n",
    "\n",
    "$$\n",
    "\\ln \\hat{L}_{k+1} = \\ln L_{k, Max} + \\sigma_{Max}^2 hN - \\frac{1}{2} \\sigma_{Max}^2 h + \\sigma_{Max} \\sqrt{hN}, \\tag{6.7}\n",
    "$$\n",
    "\n",
    "where $$ \\sigma_{Max} = \\max_{i,k} \\sigma_i(t_k).$$\n",
    "Using the fact that $$ R_{swap}(\\hat{L}_{k+1}, …, \\hat{L}_{k+1}) = \\hat{L}_{k+1} $$"
   ]
  },
  {
   "cell_type": "markdown",
   "id": "b25787c3",
   "metadata": {},
   "source": [
    "### Algorithm 2.1 – weak order 1 with kick‑back reflection"
   ]
  },
  {
   "cell_type": "code",
   "execution_count": 24,
   "id": "ea91c430",
   "metadata": {},
   "outputs": [
    {
     "name": "stderr",
     "output_type": "stream",
     "text": [
      "MC paths:   0%|          | 0/100000 [00:00<?, ?it/s]"
     ]
    },
    {
     "name": "stderr",
     "output_type": "stream",
     "text": [
      "MC paths: 100%|██████████| 100000/100000 [03:30<00:00, 474.86it/s]\n"
     ]
    }
   ],
   "source": [
    "# Nombre de chemins\n",
    "n_paths    = 100_000\n",
    "payoffs    = np.zeros(n_paths)\n",
    "exit_times = np.zeros(n_paths)  # stocke l'étape d'exit pour chaque chemin\n",
    "\n",
    "# Nouvelle variable pour stocker la somme des discounts P(T0,Tj) pour chemins survivants\n",
    "discount_sums = np.zeros(n_paths)\n",
    "prices = np.zeros(n_paths)\n",
    "# Precompute coarse_bound from eq (6.7)\n",
    "sigma_max = np.max(sigma)\n",
    "coarse_bound = (\n",
    "        sigma_max**2 * h * N\n",
    "        - 0.5 * sigma_max**2 * h\n",
    "        + sigma_max * np.sqrt(h * N))\n",
    "for p in tqdm(range(n_paths), desc=\"MC paths\"):\n",
    "    # Initialize per-path variables\n",
    "    logL = np.log(L0)\n",
    "    knocked_out = False\n",
    "    exit_step = M\n",
    "    \n",
    "    for k in range(M):\n",
    "        L = np.exp(logL)\n",
    "        # Drift vector\n",
    "        v         = delta * L / (1 + delta * L)\n",
    "        drift_vec = drift_mat.dot(v) * h - 0.5 * sigma**2 * h\n",
    "\n",
    "        # Coarse check: bound from (6.7)\n",
    "        if np.max(logL) + coarse_bound < np.log(Rup):\n",
    "            xi        = np.random.choice([-1,1], size=N)\n",
    "            diffusion = sigma * np.sqrt(h) * (U.T @ xi)\n",
    "            logL    += drift_vec + diffusion\n",
    "            continue\n",
    "\n",
    "        # Fine check: worst-case drift + diffusion per coordinate\n",
    "        L_vec = L  # already computed\n",
    "        idx   = np.arange(N)\n",
    "        drift_worst = (idx + 1) * sigma * sigma_max * h\n",
    "        diff_worst  = sigma * np.sqrt((N - idx) * h)\n",
    "        L_pert      = L_vec * (1 + drift_worst + diff_worst)\n",
    "        logL_pert   = np.log(L_pert)\n",
    "        if R_swap(logL_pert, delta) < Rup:\n",
    "            xi        = np.random.choice([-1,1], size=N)\n",
    "            diffusion = sigma * np.sqrt(h) * (U.T @ xi)\n",
    "            logL    += drift_vec + diffusion\n",
    "            continue\n",
    "\n",
    "        # Boundary zone\n",
    "        logL_pi = project_to_barrier2(logL, delta, Rup)\n",
    "        dist    = np.linalg.norm(logL_pi - logL)\n",
    "        lambda_k = np.sqrt(N) * coarse_bound  # use bound as lambda*sqrt(h)\n",
    "\n",
    "        if np.random.rand() < lambda_k / (dist + lambda_k):\n",
    "            knocked_out = True\n",
    "            exit_step   = k\n",
    "            break\n",
    "\n",
    "        # Jump back then Euler\n",
    "        logL    += (lambda_k / dist) * (logL_pi - logL)\n",
    "        xi        = np.random.choice([-1,1], size=N)\n",
    "        diffusion = sigma * np.sqrt(h) * (U.T @ xi)\n",
    "        logL    += drift_vec + diffusion\n",
    "\n",
    "    exit_times[p] = exit_step * h\n",
    "    if not knocked_out:\n",
    "        prices[p] = delta * annuity * max(R_swap(logL,delta) - K, 0)"
   ]
  },
  {
   "cell_type": "code",
   "execution_count": 25,
   "id": "15269bed",
   "metadata": {},
   "outputs": [
    {
     "name": "stdout",
     "output_type": "stream",
     "text": [
      "0.13933169730517939 9.249716000000001\n",
      "0.15556\n",
      "h          error                     mean exit time \n",
      "-------------------------------------------------------\n",
      "0.10000    1.62e-02 ± 4.08e-04   9.25\n"
     ]
    }
   ],
   "source": [
    "price_algo1      = P0_T0 * np.mean(prices)\n",
    "p_stderr_algo1   = prices.std(ddof=1) / np.sqrt(n_paths)\n",
    "exit_time_algo1  = np.mean(exit_times)\n",
    "\n",
    "print(price_algo1, exit_time_algo1)\n",
    "print(price_article)\n",
    "\n",
    "# Header\n",
    "print(f\"{'h':<10} {'error':<25} {'mean exit time':<15}\")\n",
    "print(\"-\" * 55)\n",
    "\n",
    "# Row\n",
    "h_value = h  # your current step size, e.g. 0.1\n",
    "error = abs(price_algo1 - price_article)\n",
    "print(f\"{h_value:<10.5f} \"\n",
    "      f\"{error:.2e} ± {p_stderr_algo1:.2e}   \"\n",
    "      f\"{exit_time_algo1:.2f}\")"
   ]
  },
  {
   "cell_type": "markdown",
   "id": "1639a193",
   "metadata": {},
   "source": [
    "### Algorithm 2.2 – weak order 1/2, absorbing barrier (no VR)"
   ]
  },
  {
   "cell_type": "code",
   "execution_count": 26,
   "id": "f5e08fbd",
   "metadata": {},
   "outputs": [
    {
     "name": "stderr",
     "output_type": "stream",
     "text": [
      "MC paths:   0%|          | 0/100000 [00:00<?, ?it/s]"
     ]
    },
    {
     "name": "stderr",
     "output_type": "stream",
     "text": [
      "MC paths: 100%|██████████| 100000/100000 [03:18<00:00, 503.89it/s]\n"
     ]
    }
   ],
   "source": [
    "# Nombre de chemins\n",
    "n_paths    = 100_000\n",
    "\n",
    "payoffs    = np.zeros(n_paths)\n",
    "exit_times = np.zeros(n_paths)  # stocke l'étape d'exit pour chaque chemin\n",
    "\n",
    "# Nouvelle variable pour stocker la somme des discounts P(T0,Tj) pour chemins survivants\n",
    "discount_sums = np.zeros(n_paths)\n",
    "prices = np.zeros(n_paths)\n",
    "\n",
    "    # pré-calcul constant\n",
    "sigma_max   = np.max(sigma)\n",
    "coarse_bound = (\n",
    "    sigma_max**2 * h * N\n",
    "    - 0.5 * sigma_max**2 * h\n",
    "    + sigma_max * np.sqrt(h * N)\n",
    ")\n",
    "\n",
    "for p in tqdm(range(n_paths), desc=\"MC paths\"):\n",
    "    logL        = np.log(L0)\n",
    "    knocked_out = False\n",
    "    exit_step   = M\n",
    "\n",
    "    # pré-calcul constant\n",
    "    sigma_max   = np.max(sigma)\n",
    "    coarse_bound = (\n",
    "        sigma_max**2 * h * N\n",
    "        - 0.5 * sigma_max**2 * h\n",
    "        + sigma_max * np.sqrt(h * N)\n",
    "    )\n",
    "\n",
    "    for k in range(M):\n",
    "        L         = np.exp(logL)\n",
    "        # drift Euler faible\n",
    "        v         = delta * L / (1 + delta * L)\n",
    "        drift_vec = drift_mat.dot(v) * h - 0.5 * sigma**2 * h\n",
    "\n",
    "        # 1) Coarse check : si loin de la barrière\n",
    "        if np.max(logL) + coarse_bound < np.log(Rup):\n",
    "            xi        = np.random.choice([-1,1], size=N)\n",
    "            diffusion = sigma * np.sqrt(h) * (U.T @ xi)\n",
    "            logL    += drift_vec + diffusion\n",
    "            continue\n",
    "\n",
    "        # 2) Fine check : worst-case drift+diffusion par composante\n",
    "        idx         = np.arange(N)\n",
    "        drift_worst = (idx + 1) * sigma * sigma_max * h\n",
    "        diff_worst  = sigma * np.sqrt((N - idx) * h)\n",
    "        L_pert      = L * (1 + drift_worst + diff_worst)\n",
    "        logL_pert   = np.log(L_pert)\n",
    "        if R_swap(logL_pert, delta) < Rup:\n",
    "            xi        = np.random.choice([-1,1], size=N)\n",
    "            diffusion = sigma * np.sqrt(h) * (U.T @ xi)\n",
    "            logL    += drift_vec + diffusion\n",
    "            continue\n",
    "\n",
    "        # 3) Zone frontière : projection & stop (ordre 1/2)\n",
    "        logL        = project_to_barrier2(logL, delta, Rup)\n",
    "        exit_step   = k\n",
    "        knocked_out = True\n",
    "        break\n",
    "\n",
    "    exit_times[p] = exit_step * h\n",
    "\n",
    "    if not knocked_out:\n",
    "        prices[p] = delta * annuity * max(R_swap(logL,delta) - K, 0)"
   ]
  },
  {
   "cell_type": "code",
   "execution_count": 27,
   "id": "002d424f",
   "metadata": {},
   "outputs": [
    {
     "name": "stdout",
     "output_type": "stream",
     "text": [
      "0.13894305891604602 9.237349\n",
      "h          error                     mean exit time \n",
      "-------------------------------------------------------\n",
      "0.10000    1.66e-02 ± 4.07e-04   9.24\n"
     ]
    }
   ],
   "source": [
    "price_algo2      = P0_T0 * np.mean(prices)\n",
    "p_stderr_algo2   = prices.std(ddof=1) / np.sqrt(n_paths)\n",
    "exit_time_algo2  = np.mean(exit_times)\n",
    "\n",
    "print(price_algo2, exit_time_algo2)\n",
    "\n",
    "# Header\n",
    "print(f\"{'h':<10} {'error':<25} {'mean exit time':<15}\")\n",
    "print(\"-\" * 55)\n",
    "\n",
    "# Row\n",
    "h_value = h  # your current step size, e.g. 0.1\n",
    "error = abs(price_algo2 - price_article)\n",
    "print(f\"{h_value:<10.5f} \"\n",
    "      f\"{error:.2e} ± {p_stderr_algo2:.2e}   \"\n",
    "      f\"{exit_time_algo2:.2f}\")"
   ]
  },
  {
   "cell_type": "markdown",
   "id": "13e43d53",
   "metadata": {},
   "source": [
    "# 4. Parallélisation"
   ]
  },
  {
   "cell_type": "code",
   "execution_count": 28,
   "id": "2fb3c6fa",
   "metadata": {},
   "outputs": [],
   "source": [
    "price_article = 0.15556"
   ]
  },
  {
   "cell_type": "code",
   "execution_count": 29,
   "id": "47e84303",
   "metadata": {},
   "outputs": [],
   "source": [
    "# ===== Paramètres ===========================================================\n",
    "N       = 10\n",
    "T0      = 10.0\n",
    "delta   = 1.0\n",
    "K       = 0.01\n",
    "Rup     = 0.075\n",
    "L0      = 0.05 * np.ones(N)\n",
    "sigma   = 0.10 * np.ones(N)\n",
    "beta    = 0.1\n",
    "\n",
    "# ----- Corrélation & Cholesky ----------------------------------------------\n",
    "times = T0 + delta * np.arange(N)\n",
    "rho   = np.exp(-beta * np.abs(times[:, None] - times[None, :]))\n",
    "U     = cholesky(rho, lower=False)\n",
    "\n",
    "# ----- Matrice drift --------------------------------------------------------\n",
    "full_mat  = rho * np.outer(sigma, sigma)\n",
    "drift_mat = np.tril(full_mat)"
   ]
  },
  {
   "cell_type": "code",
   "execution_count": 30,
   "id": "c302a7bf",
   "metadata": {},
   "outputs": [],
   "source": [
    "import numpy as np\n",
    "from numba import njit, prange\n",
    "\n",
    "# --- 1) Swap rate under Q^{T0} (Eq. 6.2) ---\n",
    "@njit\n",
    "def R_swap(logL, delta):\n",
    "    N = logL.size\n",
    "    prod_all = 1.0\n",
    "    for j in range(N):\n",
    "        prod_all *= (1.0 + delta * np.exp(logL[j]))\n",
    "    numer = 1.0 - 1.0 / prod_all\n",
    "    denom = 0.0\n",
    "    for i in range(N):\n",
    "        p_i = 1.0\n",
    "        for k in range(i+1):\n",
    "            p_i *= 1.0 / (1.0 + delta * np.exp(logL[k]))\n",
    "        denom += p_i\n",
    "    return numer / (delta * denom)"
   ]
  },
  {
   "cell_type": "code",
   "execution_count": 31,
   "id": "c0ce7e88",
   "metadata": {},
   "outputs": [],
   "source": [
    "# --- 2) Fast projection onto the barrier surface (Eq. 6.13) ---\n",
    "@njit\n",
    "def project_to_barrier2(logL, delta, Rup):\n",
    "    N = logL.size\n",
    "    # tail = logL[1:]\n",
    "    onep = np.empty(N-1)\n",
    "    for i in range(N-1):\n",
    "        onep[i] = 1.0 + delta * np.exp(logL[i+1])\n",
    "    # reverse cumulative product\n",
    "    revcp = np.empty(N-1)\n",
    "    revcp[N-2] = onep[N-2]\n",
    "    for i in range(N-3, -1, -1):\n",
    "        revcp[i] = revcp[i+1] * onep[i]\n",
    "    sum_term = 1.0 + revcp.sum()\n",
    "    denom = 1.0\n",
    "    for i in range(N-1):\n",
    "        denom *= onep[i]\n",
    "    arg = (Rup * sum_term + 1.0) / denom - 1.0 / delta\n",
    "    if arg <= 1e-12:\n",
    "        arg = 1e-12\n",
    "    out = np.empty(N)\n",
    "    out[0] = np.log(arg)\n",
    "    for i in range(1, N):\n",
    "        out[i] = logL[i]\n",
    "    return out"
   ]
  },
  {
   "cell_type": "code",
   "execution_count": 32,
   "id": "b1ee2d66",
   "metadata": {},
   "outputs": [],
   "source": [
    "# ==== Version 2: KO immédiat (order ½) ====\n",
    "@njit(parallel=True)\n",
    "def algo2_numba(\n",
    "    L0, sigma, delta, K, Rup,\n",
    "    T0, h, n_paths,\n",
    "    drift_mat, U\n",
    "):\n",
    "    N      = L0.size\n",
    "    M      = int(T0 / h)\n",
    "    logL0  = np.log(L0)\n",
    "    sigmax = np.max(sigma)\n",
    "    coarse = sigmax**2 * h * N - 0.5 * sigmax**2 * h + sigmax * np.sqrt(h * N)\n",
    "\n",
    "    prices = np.zeros(n_paths)\n",
    "    exits  = np.zeros(n_paths)\n",
    "\n",
    "    # numéraire P(0,T0)\n",
    "    i0   = int(T0 / delta)\n",
    "    P0T0 = 1.0\n",
    "    for i in range(i0):\n",
    "        P0T0 /= (1.0 + delta * L0[i])\n",
    "    # annuité statique à t=0\n",
    "    P0Tk = 1.0\n",
    "    ann_static = 0.0\n",
    "    for j in range(N):\n",
    "        P0Tk /= (1.0 + delta * L0[j])\n",
    "        ann_static += P0Tk\n",
    "\n",
    "    for p in prange(n_paths):\n",
    "        logL = logL0.copy()\n",
    "        ko   = False\n",
    "        step = M\n",
    "\n",
    "        for k in range(M):\n",
    "            L     = np.exp(logL)\n",
    "            v     = delta * L / (1.0 + delta * L)\n",
    "            drift = (drift_mat @ v) * h - 0.5 * sigma * sigma * h\n",
    "\n",
    "            # coarse check\n",
    "            if np.max(logL) + coarse < np.log(Rup):\n",
    "                xi    = np.where(np.random.random(N) < 0.5, -1.0, 1.0)\n",
    "                logL += drift + sigma * np.sqrt(h) * (U.T @ xi)\n",
    "                continue\n",
    "\n",
    "            # fine check\n",
    "            idx         = np.arange(N)\n",
    "            d_worst     = (idx + 1) * sigma * sigmax * h\n",
    "            diff_worst  = sigma * np.sqrt((N - idx) * h)\n",
    "            Lp = L * (1.0 + d_worst + diff_worst)\n",
    "            if R_swap(np.log(Lp), delta) < Rup:\n",
    "                xi    = np.where(np.random.random(N) < 0.5, -1.0, 1.0)\n",
    "                logL += drift + sigma * np.sqrt(h) * (U.T @ xi)\n",
    "                continue\n",
    "\n",
    "            # KO immédiat\n",
    "            ko   = True\n",
    "            step = k\n",
    "            break\n",
    "\n",
    "        exits[p] = step * h\n",
    "        if not ko:\n",
    "            Rpay      = R_swap(logL, delta)\n",
    "            payoff    = delta * ann_static * max(Rpay - K, 0.0)\n",
    "            prices[p] = P0T0 * payoff\n",
    "\n",
    "    return prices, exits\n",
    "\n",
    "# ==== Version 1: projection + rebond + KO probabiliste (order 1) ====\n",
    "@njit(parallel=True)\n",
    "def algo1_numba(\n",
    "    L0, sigma, delta, K, Rup,\n",
    "    T0, h, n_paths,\n",
    "    drift_mat, U\n",
    "):\n",
    "    N      = L0.size\n",
    "    M      = int(T0 / h)\n",
    "    logL0  = np.log(L0)\n",
    "    sigmax = np.max(sigma)\n",
    "    coarse = sigmax**2 * h * N - 0.5 * sigmax**2 * h + sigmax * np.sqrt(h * N)\n",
    "    lam    = np.sqrt(N) * coarse\n",
    "\n",
    "    prices  = np.zeros(n_paths)\n",
    "    exits   = np.zeros(n_paths)\n",
    "    bounces = np.zeros(n_paths)\n",
    "    kos     = np.zeros(n_paths)\n",
    "\n",
    "    # numéraire P(0,T0)\n",
    "    i0   = int(T0 / delta)\n",
    "    P0T0 = 1.0\n",
    "    for i in range(i0):\n",
    "        P0T0 /= (1.0 + delta * L0[i])\n",
    "\n",
    "    for p in prange(n_paths):\n",
    "        logL       = logL0.copy()\n",
    "        ko         = False\n",
    "        step       = M\n",
    "        cnt_bounce = 0\n",
    "\n",
    "        for k in range(M):\n",
    "            L     = np.exp(logL)\n",
    "            v     = delta * L / (1.0 + delta * L)\n",
    "            drift = (drift_mat @ v) * h - 0.5 * sigma * sigma * h\n",
    "\n",
    "            # coarse check\n",
    "            if np.max(logL) + coarse < np.log(Rup):\n",
    "                xi    = np.where(np.random.random(N) < 0.5, -1.0, 1.0)\n",
    "                logL += drift + sigma * np.sqrt(h) * (U.T @ xi)\n",
    "                continue\n",
    "\n",
    "            # fine check\n",
    "            idx         = np.arange(N)\n",
    "            d_worst     = (idx + 1) * sigma * sigmax * h\n",
    "            diff_worst  = sigma * np.sqrt((N - idx) * h)\n",
    "            Lp = L * (1.0 + d_worst + diff_worst)\n",
    "            \n",
    "            if R_swap(np.log(Lp), delta) < Rup:\n",
    "                xi    = np.where(np.random.random(N) < 0.5, -1.0, 1.0)\n",
    "                logL += drift + sigma * np.sqrt(h) * (U.T @ xi)\n",
    "                continue\n",
    "\n",
    "            # projection + KO probabiliste ou rebond\n",
    "            logL_pi = project_to_barrier2(logL, delta, Rup)\n",
    "            diff    = logL_pi - logL\n",
    "            dist    = np.sqrt((diff*diff).sum()) + 1e-12\n",
    "\n",
    "            if np.random.random() < lam/(lam + dist):\n",
    "                ko   = True\n",
    "                step = k\n",
    "                break\n",
    "            else:\n",
    "                cnt_bounce += 1\n",
    "                logL += (lam/dist) * diff\n",
    "                xi    = np.where(np.random.random(N) < 0.5, -1.0, 1.0)\n",
    "                logL += drift + sigma * np.sqrt(h) * (U.T @ xi)\n",
    "\n",
    "        exits[p]   = step * h\n",
    "        bounces[p] = cnt_bounce\n",
    "        kos[p]     = 1.0 if ko else 0.0\n",
    "\n",
    "        if not ko:\n",
    "            Rpay = R_swap(logL, delta)\n",
    "            ann  = 0.0\n",
    "            prodP = 1.0\n",
    "            for j in range(N):\n",
    "                prodP *= 1.0 / (1.0 + delta * np.exp(logL[j]))\n",
    "                ann   += prodP\n",
    "            payoff    = delta * ann * max(Rpay - K, 0.0)\n",
    "            prices[p] = P0T0 * payoff\n",
    "\n",
    "    return prices, exits, bounces, kos"
   ]
  },
  {
   "cell_type": "code",
   "execution_count": 34,
   "id": "34447e7a",
   "metadata": {},
   "outputs": [
    {
     "name": "stderr",
     "output_type": "stream",
     "text": [
      "Convergence: 100%|██████████| 6/6 [01:59<00:00, 19.89s/it]\n"
     ]
    },
    {
     "name": "stdout",
     "output_type": "stream",
     "text": [
      "\n",
      "Table de convergence algo 2:\n",
      "\n",
      "         h                error mean_exit\n",
      "0  0.25000  2.80e-02 ± 1.59e-04      8.95\n",
      "1  0.20000  2.46e-02 ± 1.59e-04      9.04\n",
      "2  0.12500  1.88e-02 ± 1.56e-04      9.19\n",
      "3  0.10000  1.65e-02 ± 1.55e-04      9.24\n",
      "4  0.06250  1.27e-02 ± 1.54e-04      9.32\n",
      "5  0.03125  8.79e-03 ± 1.52e-04      9.41\n"
     ]
    },
    {
     "name": "stderr",
     "output_type": "stream",
     "text": [
      "Convergence: 100%|██████████| 6/6 [02:02<00:00, 20.40s/it]"
     ]
    },
    {
     "name": "stdout",
     "output_type": "stream",
     "text": [
      "\n",
      "Table de convergence algo 1:\n",
      "\n",
      "         h                error mean_exit\n",
      "0  0.25000  2.53e-02 ± 1.57e-04      8.99\n",
      "1  0.20000  2.22e-02 ± 1.55e-04      9.07\n",
      "2  0.12500  1.70e-02 ± 1.51e-04      9.21\n",
      "3  0.10000  1.48e-02 ± 1.50e-04      9.26\n",
      "4  0.06250  1.16e-02 ± 1.47e-04      9.33\n",
      "5  0.03125  7.85e-03 ± 1.45e-04      9.41\n"
     ]
    },
    {
     "name": "stderr",
     "output_type": "stream",
     "text": [
      "\n"
     ]
    }
   ],
   "source": [
    "# ===== Boucle de convergence ===============================================\n",
    "hs      = [0.25,0.20,0.125,0.10,0.0625,0.03125]\n",
    "#hs      = [0.005, 0.001]\n",
    "n_paths = 1_000_000          # 1 M si machine costaud\n",
    "rows    = []\n",
    "error2  = []\n",
    "error1  = []\n",
    "\n",
    "# warm-up (compilation)\n",
    "algo2_numba(L0,sigma,delta,K,Rup,T0,hs[0],1,drift_mat,U)\n",
    "\n",
    "for h in tqdm(hs,desc=\"Convergence\"):\n",
    "    prices2, exits2 = algo2_numba(L0,sigma,delta,K,Rup,T0,h,\n",
    "                                n_paths,drift_mat,U)\n",
    "    mean2  = prices2.mean()\n",
    "    stderr2= 1.96 * prices2.std(ddof=1)/np.sqrt(n_paths)\n",
    "    err2   = abs(mean2-price_article)\n",
    "    error2.append(err2)\n",
    "    rows.append(dict(h=h,\n",
    "                     error=f\"{err2:.2e} ± {stderr2:.2e}\",\n",
    "                     mean_exit=f\"{exits2.mean():.2f}\"))\n",
    "\n",
    "df2 = pd.DataFrame(rows)\n",
    "print(\"\\nTable de convergence algo 2:\\n\")\n",
    "print(df2)\n",
    "\n",
    "\n",
    "# ===== Boucle de convergence ===============================================\n",
    "rows    = []\n",
    "\n",
    "# warm-up (compilation)\n",
    "algo1_numba(L0,sigma,delta,K,Rup,T0,hs[0],1,drift_mat,U)\n",
    "\n",
    "for h in tqdm(hs,desc=\"Convergence\"):\n",
    "    prices1, exits1, b, ko = algo1_numba(L0,sigma,delta,K,Rup,T0,h,\n",
    "                                n_paths,drift_mat,U)\n",
    "    mean1  = prices1.mean()\n",
    "    stderr1= 1.96 * prices1.std(ddof=1)/np.sqrt(n_paths)\n",
    "    err1   = abs(mean1-price_article)\n",
    "    error1.append(err1)\n",
    "    rows.append(dict(h=h,\n",
    "                     error=f\"{err1:.2e} ± {stderr1:.2e}\",\n",
    "                     mean_exit=f\"{exits1.mean():.2f}\"))\n",
    "\n",
    "df1 = pd.DataFrame(rows)\n",
    "print(\"\\nTable de convergence algo 1:\\n\")\n",
    "print(df1)"
   ]
  },
  {
   "cell_type": "code",
   "execution_count": 35,
   "id": "27889207",
   "metadata": {},
   "outputs": [
    {
     "name": "stdout",
     "output_type": "stream",
     "text": [
      "Ordre algo 1 ≈ 0.56\n",
      "Ordre algo 2 ≈ 0.56\n"
     ]
    },
    {
     "data": {
      "image/png": "[encoded data removed]",
      "text/plain": [
       "<Figure size 640x480 with 1 Axes>"
      ]
     },
     "metadata": {},
     "output_type": "display_data"
    }
   ],
   "source": [
    "# log(h) vs log(bias)\n",
    "import numpy as np\n",
    "from matplotlib import pyplot as plt\n",
    "\n",
    "hs = np.array(hs)\n",
    "bias1 = np.array(error1)\n",
    "bias2 = np.array(error2)\n",
    "\n",
    "slope1, _ = np.polyfit(np.log(hs), np.log(bias1), 1)\n",
    "slope2, _ = np.polyfit(np.log(hs), np.log(bias2), 1)\n",
    "\n",
    "print(f\"Ordre algo 1 ≈ {abs(slope1):.2f}\")\n",
    "print(f\"Ordre algo 2 ≈ {abs(slope2):.2f}\")\n",
    "\n",
    "# Affichage\n",
    "plt.loglog(hs, bias1, 'o-', label=f\"Algo 1 (slope={abs(slope1):.2f})\")\n",
    "plt.loglog(hs, bias2, 'o-', label=f\"Algo 2 (slope={abs(slope2):.2f})\")\n",
    "plt.xlabel(\"Pas de temps h\")\n",
    "plt.ylabel(\"Biais absolu\")\n",
    "plt.grid(True, which=\"both\")\n",
    "plt.legend()\n",
    "plt.title(\"Ordre de convergence\")\n",
    "plt.show()"
   ]
  },
  {
   "cell_type": "code",
   "execution_count": 36,
   "id": "0d7ae285",
   "metadata": {},
   "outputs": [
    {
     "name": "stdout",
     "output_type": "stream",
     "text": [
      "Nombre total de rebonds : 128016.0\n",
      "Proportion de chemins avec rebonds : 8.83%\n"
     ]
    }
   ],
   "source": [
    "total_rebonds = b.sum()\n",
    "chemins_rebondés = np.count_nonzero(b > 0)\n",
    "ratio_rebondés = chemins_rebondés / len(b)\n",
    "\n",
    "print(\"Nombre total de rebonds :\", total_rebonds)\n",
    "print(\"Proportion de chemins avec rebonds :\", f\"{100*ratio_rebondés:.2f}%\")"
   ]
  },
  {
   "cell_type": "code",
   "execution_count": 37,
   "id": "aed841c9",
   "metadata": {},
   "outputs": [],
   "source": [
    "prices1, exits1, b, ko = algo1_numba(L0, sigma, delta, K, Rup, T0, 0.001,\n",
    "                                     100_000, drift_mat, U)"
   ]
  },
  {
   "cell_type": "code",
   "execution_count": 39,
   "id": "b179dd11",
   "metadata": {},
   "outputs": [
    {
     "name": "stdout",
     "output_type": "stream",
     "text": [
      "prices : 0.1542913219241628\n"
     ]
    }
   ],
   "source": [
    "print(\"prices :\", np.mean(prices1))"
   ]
  },
  {
   "cell_type": "markdown",
   "id": "72bf013b",
   "metadata": {},
   "source": [
    "# Sensibility"
   ]
  },
  {
   "cell_type": "markdown",
   "id": "75ecce8b",
   "metadata": {},
   "source": [
    "On teste les différentes sensibilités en modifiant les paramètres Rup."
   ]
  },
  {
   "cell_type": "code",
   "execution_count": 44,
   "id": "31a2d266",
   "metadata": {},
   "outputs": [],
   "source": [
    "# ===== Paramètres ===========================================================\n",
    "N       = 10\n",
    "T0      = 10.0\n",
    "delta   = 1.0\n",
    "K       = 0.01\n",
    "Rup     = 0.065 # 0.075\n",
    "L0      = 0.05 * np.ones(N)\n",
    "sigma   = 0.10 * np.ones(N)\n",
    "beta    = 0.1\n",
    "\n",
    "# ----- Corrélation & Cholesky ----------------------------------------------\n",
    "times = T0 + delta * np.arange(N)\n",
    "rho   = np.exp(-beta * np.abs(times[:, None] - times[None, :]))\n",
    "U     = cholesky(rho, lower=False)\n",
    "\n",
    "# ----- Matrice drift --------------------------------------------------------\n",
    "full_mat  = rho * np.outer(sigma, sigma)\n",
    "drift_mat = np.tril(full_mat)"
   ]
  },
  {
   "cell_type": "code",
   "execution_count": 45,
   "id": "eca58eb7",
   "metadata": {},
   "outputs": [],
   "source": [
    "price_ref, _, b, ko = algo1_numba(L0,sigma,delta,K,Rup,T0,0.001,\n",
    "                                100_000,drift_mat,U)"
   ]
  },
  {
   "cell_type": "code",
   "execution_count": 46,
   "id": "50b582ef",
   "metadata": {},
   "outputs": [
    {
     "name": "stdout",
     "output_type": "stream",
     "text": [
      "Nombre total de rebonds : 29608.0\n",
      "Proportion de chemins avec rebonds : 18.98%\n"
     ]
    }
   ],
   "source": [
    "price_ref = np.mean(price_ref)\n",
    "price_ref\n",
    "\n",
    "total_rebonds = b.sum()\n",
    "chemins_rebondés = np.count_nonzero(b > 0)\n",
    "ratio_rebondés = chemins_rebondés / len(b)\n",
    "\n",
    "print(\"Nombre total de rebonds :\", total_rebonds)\n",
    "print(\"Proportion de chemins avec rebonds :\", f\"{100*ratio_rebondés:.2f}%\")"
   ]
  },
  {
   "cell_type": "code",
   "execution_count": 47,
   "id": "6d07b4be",
   "metadata": {},
   "outputs": [
    {
     "data": {
      "text/plain": [
       "0.11141399857012761"
      ]
     },
     "execution_count": 47,
     "metadata": {},
     "output_type": "execute_result"
    }
   ],
   "source": [
    "price_ref"
   ]
  },
  {
   "cell_type": "code",
   "execution_count": 48,
   "id": "f273d16c",
   "metadata": {},
   "outputs": [
    {
     "name": "stderr",
     "output_type": "stream",
     "text": [
      "Convergence: 100%|██████████| 3/3 [00:46<00:00, 15.62s/it]\n"
     ]
    },
    {
     "name": "stdout",
     "output_type": "stream",
     "text": [
      "\n",
      "Table de convergence algo 2:\n",
      "\n",
      "      h                error mean_exit\n",
      "0  0.20  3.61e-02 ± 1.56e-04      6.94\n",
      "1  0.10  2.48e-02 ± 1.60e-04      7.50\n",
      "2  0.05  1.74e-02 ± 1.61e-04      7.82\n"
     ]
    },
    {
     "name": "stderr",
     "output_type": "stream",
     "text": [
      "Convergence: 100%|██████████| 3/3 [00:49<00:00, 16.56s/it]"
     ]
    },
    {
     "name": "stdout",
     "output_type": "stream",
     "text": [
      "\n",
      "Table de convergence algo 1:\n",
      "\n",
      "      h                error mean_exit\n",
      "0  0.20  3.26e-02 ± 1.60e-04      7.02\n",
      "1  0.10  2.18e-02 ± 1.62e-04      7.53\n",
      "2  0.05  1.46e-02 ± 1.63e-04      7.84\n"
     ]
    },
    {
     "name": "stderr",
     "output_type": "stream",
     "text": [
      "\n"
     ]
    }
   ],
   "source": [
    "# ===== Boucle de convergence ===============================================\n",
    "hs      = [0.20,0.10,0.05]\n",
    "#hs      = [0.0625,0.03125, 0.015, 0.0075]\n",
    "n_paths = 1_000_000          # 1 M si machine costaud\n",
    "rows    = []\n",
    "error2  = []\n",
    "error1  = []\n",
    "\n",
    "# warm-up (compilation)\n",
    "algo2_numba(L0,sigma,delta,K,Rup,T0,hs[0],1,drift_mat,U)\n",
    "\n",
    "for h in tqdm(hs,desc=\"Convergence\"):\n",
    "    prices2, exits2 = algo2_numba(L0,sigma,delta,K,Rup,T0,h,\n",
    "                                n_paths,drift_mat,U)\n",
    "    mean2  = prices2.mean()\n",
    "    stderr2= 1.96 * prices2.std(ddof=1)/np.sqrt(n_paths)\n",
    "    err2   = abs(mean2-price_ref)\n",
    "    error2.append(err2)\n",
    "    rows.append(dict(h=h,\n",
    "                     error=f\"{err2:.2e} ± {stderr2:.2e}\",\n",
    "                     mean_exit=f\"{exits2.mean():.2f}\"))\n",
    "\n",
    "df2 = pd.DataFrame(rows)\n",
    "print(\"\\nTable de convergence algo 2:\\n\")\n",
    "print(df2)\n",
    "\n",
    "\n",
    "# ===== Boucle de convergence ===============================================\n",
    "rows    = []\n",
    "\n",
    "# warm-up (compilation)\n",
    "algo1_numba(L0,sigma,delta,K,Rup,T0,hs[0],1,drift_mat,U)\n",
    "\n",
    "for h in tqdm(hs,desc=\"Convergence\"):\n",
    "    prices1, exits1, b, ko = algo1_numba(L0,sigma,delta,K,Rup,T0,h,\n",
    "                                n_paths,drift_mat,U)\n",
    "    mean1  = prices1.mean()\n",
    "    stderr1= 1.96 * prices1.std(ddof=1)/np.sqrt(n_paths)\n",
    "    err1   = abs(mean1-price_ref)\n",
    "    error1.append(err1)\n",
    "    rows.append(dict(h=h,\n",
    "                     error=f\"{err1:.2e} ± {stderr1:.2e}\",\n",
    "                     mean_exit=f\"{exits1.mean():.2f}\"))\n",
    "\n",
    "df1 = pd.DataFrame(rows)\n",
    "print(\"\\nTable de convergence algo 1:\\n\")\n",
    "print(df1)"
   ]
  }
 ],
 "metadata": {
  "kernelspec": {
   "display_name": "env_py_31011",
   "language": "python",
   "name": "python3"
  },
  "language_info": {
   "codemirror_mode": {
    "name": "ipython",
    "version": 3
   },
   "file_extension": ".py",
   "mimetype": "text/x-python",
   "name": "python",
   "nbconvert_exporter": "python",
   "pygments_lexer": "ipython3",
   "version": "3.10.14"
  }
 },
 "nbformat": 4,
 "nbformat_minor": 5
}
